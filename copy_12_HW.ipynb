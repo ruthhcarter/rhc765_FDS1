{
 "cells": [
  {
   "cell_type": "markdown",
   "id": "1d755d8c-8e42-4afc-b97b-89be414b34ba",
   "metadata": {
    "tags": []
   },
   "source": [
    "### 1. Function Design for Unit Conversions: "
   ]
  },
  {
   "cell_type": "code",
   "execution_count": 1,
   "id": "8902ca51-a7f8-4d49-aa31-006e548e7ff4",
   "metadata": {
    "tags": []
   },
   "outputs": [
    {
     "ename": "ModuleNotFoundError",
     "evalue": "No module named 'unit_conversions'",
     "output_type": "error",
     "traceback": [
      "\u001b[0;31m---------------------------------------------------------------------------\u001b[0m",
      "\u001b[0;31mModuleNotFoundError\u001b[0m                       Traceback (most recent call last)",
      "Cell \u001b[0;32mIn[1], line 1\u001b[0m\n\u001b[0;32m----> 1\u001b[0m \u001b[38;5;28;01mimport\u001b[39;00m \u001b[38;5;21;01munit_conversions\u001b[39;00m \u001b[38;5;28;01mas\u001b[39;00m \u001b[38;5;21;01mdsfkljsd\u001b[39;00m\n",
      "\u001b[0;31mModuleNotFoundError\u001b[0m: No module named 'unit_conversions'"
     ]
    }
   ],
   "source": [
    "import unit_conversions as "
   ]
  },
  {
   "cell_type": "markdown",
   "id": "5fdc5cbe-5268-46c8-a564-b6404ed320c6",
   "metadata": {},
   "source": [
    "### Miles and Kilometers: \n"
   ]
  },
  {
   "cell_type": "code",
   "execution_count": 60,
   "id": "28fa4990-9c48-4a98-8a60-b779738f4d0c",
   "metadata": {},
   "outputs": [
    {
     "name": "stdout",
     "output_type": "stream",
     "text": [
      " 3 miles is equal to 4.83 kilos\n"
     ]
    }
   ],
   "source": [
    "x=3\n",
    "a= uc.miles_to_kilos(x)\n",
    "print(f\" {x} miles is equal to {a:.2f} kilos\")"
   ]
  },
  {
   "cell_type": "code",
   "execution_count": 53,
   "id": "2cbf4e39-263d-4ec6-ab91-5a0ce3dbff03",
   "metadata": {
    "tags": []
   },
   "outputs": [
    {
     "name": "stdout",
     "output_type": "stream",
     "text": [
      " 5 kilometers is equal to 3.11 miles\n"
     ]
    }
   ],
   "source": [
    "#### Kilos to Miles: \n",
    "y=5\n",
    "b=uc.kilos_to_miles(y)\n",
    "print(f\" {y} kilometers is equal to {b:.2f} miles\")"
   ]
  },
  {
   "cell_type": "markdown",
   "id": "8ae0c86d-8ddf-47d9-af46-a062c5c8a541",
   "metadata": {},
   "source": [
    "### Farenheit and Celsius: \n"
   ]
  },
  {
   "cell_type": "code",
   "execution_count": 46,
   "id": "ae4037c1-d47c-4573-9194-904785be5fdd",
   "metadata": {},
   "outputs": [
    {
     "name": "stdout",
     "output_type": "stream",
     "text": [
      " 98.6 degrees Farenheit is equal to 37.00 degrees Celsius\n"
     ]
    }
   ],
   "source": [
    "### Farenheit to Celsius: \n",
    "x=98.6\n",
    "c= uc.far_to_cel(x)\n",
    "print(f\" {x} degrees Farenheit is equal to {c:.2f} degrees Celsius\")\n"
   ]
  },
  {
   "cell_type": "code",
   "execution_count": 45,
   "id": "63dfc559-fc8c-4dd0-bf86-d85c703503c5",
   "metadata": {
    "tags": []
   },
   "outputs": [
    {
     "name": "stdout",
     "output_type": "stream",
     "text": [
      " 3 degrees Celsius is equal to 37.40 degrees Farenheit\n"
     ]
    }
   ],
   "source": [
    "### Celsius to Farenheit: \n",
    "y=3\n",
    "d= uc.cal_to_far(y)\n",
    "print(f\" {y} degrees Celsius is equal to {d:.2f} degrees Farenheit\")\n"
   ]
  },
  {
   "cell_type": "markdown",
   "id": "fe974ddc-864a-414c-b5fc-d17de3b429be",
   "metadata": {},
   "source": [
    "### Kilograms and Pounds"
   ]
  },
  {
   "cell_type": "code",
   "execution_count": 26,
   "id": "a54fa1a4-b85b-46df-bfff-f85fae6beb19",
   "metadata": {
    "tags": []
   },
   "outputs": [
    {
     "name": "stdout",
     "output_type": "stream",
     "text": [
      " 2.4 kilos is equal to 5.29 pounds\n"
     ]
    }
   ],
   "source": [
    "### Kilo to Pounds: \n",
    "x=2.4\n",
    "e= uc.kilo_to_lbs(x)\n",
    "print(f\" {x} kilos is equal to {e:.2f} pounds\")\n"
   ]
  },
  {
   "cell_type": "code",
   "execution_count": 48,
   "id": "4a15bbcc-80c9-452f-a2e5-6f595ff9436c",
   "metadata": {
    "tags": []
   },
   "outputs": [
    {
     "name": "stdout",
     "output_type": "stream",
     "text": [
      " 3.5 pounds is equal to 1.59 kilos\n"
     ]
    }
   ],
   "source": [
    "### Pounds to Kilo: \n",
    "y=3.5\n",
    "f= uc.lbs_to_kilo(y)\n",
    "print(f\" {y} pounds is equal to {f:.2f} kilos\")\n"
   ]
  },
  {
   "cell_type": "markdown",
   "id": "f4b8422b-fb98-44ef-9938-9f09fa3eff7c",
   "metadata": {},
   "source": [
    "### Namespaces:"
   ]
  },
  {
   "cell_type": "code",
   "execution_count": 71,
   "id": "afbee707-d202-4c54-bc69-070db51d077e",
   "metadata": {
    "tags": []
   },
   "outputs": [
    {
     "data": {
      "text/plain": [
       "'42'"
      ]
     },
     "execution_count": 71,
     "metadata": {},
     "output_type": "execute_result"
    }
   ],
   "source": [
    "mylist=[1,2,\"dogs\",23,45] \n",
    "type(mylist)\n",
    "len(mylist) #outputs "
   ]
  },
  {
   "cell_type": "code",
   "execution_count": 72,
   "id": "d4c52487-4d0f-45a8-abb7-fb033d328bbc",
   "metadata": {
    "tags": []
   },
   "outputs": [
    {
     "data": {
      "text/plain": [
       "'42'"
      ]
     },
     "execution_count": 72,
     "metadata": {},
     "output_type": "execute_result"
    }
   ],
   "source": [
    "import mylen\n",
    "mylen.len(mylist)"
   ]
  },
  {
   "cell_type": "code",
   "execution_count": 73,
   "id": "9294a466-953e-4c01-8329-e309cc92e553",
   "metadata": {
    "tags": []
   },
   "outputs": [
    {
     "data": {
      "text/plain": [
       "'42'"
      ]
     },
     "execution_count": 73,
     "metadata": {},
     "output_type": "execute_result"
    }
   ],
   "source": [
    "from mylen import len\n",
    "\n",
    "len(mylist)"
   ]
  },
  {
   "cell_type": "markdown",
   "id": "6685ac10-791e-4bec-b654-69ef7fda344b",
   "metadata": {},
   "source": [
    "#### Now, Python considers the len() function as my module's function- not the base Python function. When I ran len(mylist) again, it outputted 42, rather than 5. This is because when I ran \"from mylen import len\", it imported my len function into the current namespace. Basically, it overwrote the built-in len function."
   ]
  }
 ],
 "metadata": {
  "kernelspec": {
   "display_name": "Python 3 (ipykernel)",
   "language": "python",
   "name": "python3"
  },
  "language_info": {
   "codemirror_mode": {
    "name": "ipython",
    "version": 3
   },
   "file_extension": ".py",
   "mimetype": "text/x-python",
   "name": "python",
   "nbconvert_exporter": "python",
   "pygments_lexer": "ipython3",
   "version": "3.11.4"
  }
 },
 "nbformat": 4,
 "nbformat_minor": 5
}
