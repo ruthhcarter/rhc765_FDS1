{
 "cells": [
  {
   "cell_type": "markdown",
   "id": "f567993e",
   "metadata": {
    "editable": true,
    "slideshow": {
     "slide_type": ""
    },
    "tags": []
   },
   "source": [
    "# Basic control flow in Python I: For Loops, iterables, and list comprehension"
   ]
  },
  {
   "cell_type": "markdown",
   "id": "bd0941ea",
   "metadata": {},
   "source": [
    "## Learning outcomes:\n",
    " - Understand and use `for` loops in Python\n",
    " - the `range()` function\n",
    " - using iterables\n",
    " - list comprehension\n",
    " - the `input()` function"
   ]
  },
  {
   "cell_type": "markdown",
   "id": "e7ead86b-dc4f-4e40-9a05-6d47f7e7dddf",
   "metadata": {},
   "source": [
    "For each code cell, see if you can predict what it will do, and then run it to see the output."
   ]
  },
  {
   "cell_type": "markdown",
   "id": "296dcef4-20a8-4c15-afd8-4e60c8bf93aa",
   "metadata": {},
   "source": [
    "---"
   ]
  },
  {
   "cell_type": "markdown",
   "id": "7cebc1af",
   "metadata": {
    "editable": true,
    "slideshow": {
     "slide_type": ""
    },
    "tags": []
   },
   "source": [
    "Imagine a simple action you probably take almost every day: walking into a building and going to a specific room, like an office or a classroom. \n",
    "\n",
    "This seems like such a simple thing, but if we think about how we might make a robot do this action, we would quickly see that it actually breaks down into a lot of discreet mini-actions, many of which are themselves composed of mini-mini-actions, and so on... Just scratching the surface, we might have something like this:\n",
    "\n",
    "  - Walk to the door\n",
    "  - ***If*** the door ***is*** closed, open the door\n",
    "  - Walk through the door\n",
    "  - Continue walking ***for*** 10 more steps to the elevator\n",
    "  - ***If*** the elevator door ***is not*** open, press the button\n",
    "  - ***While*** the door is not open, wait\n",
    "  - Enter the elevator\n",
    "  - ***If*** the button for your floor *is not* lit, press the button\n",
    "  \n",
    "Etc., etc., etc.\n",
    "\n",
    "Any relatively useful computer program is going to need to make decisions based on circumstances, and repeat some operations until a critereon is met, just like the instructions above. In fact, the words in *italics* above are also words we use in Python to do more complex tasks. The aspect of computer programming that allows for \"decision making\" is called **Control Flow**."
   ]
  },
  {
   "cell_type": "markdown",
   "id": "5fc8610c",
   "metadata": {
    "editable": true,
    "slideshow": {
     "slide_type": ""
    },
    "tags": []
   },
   "source": [
    "## Control flow"
   ]
  },
  {
   "cell_type": "markdown",
   "id": "3653a714",
   "metadata": {},
   "source": [
    "**Control flow** is using a set of commands available in a programming language to control the flow of information processing, just like the instructions above control your navigation."
   ]
  },
  {
   "cell_type": "markdown",
   "id": "30775168",
   "metadata": {},
   "source": [
    "Control flow is core to all computer programming, not just Python. Over the next few tutorials, we will look at the main elements of control flow. These include\n",
    "\n",
    "* `for` and `while` loops\n",
    "* conditional tests and Boolean logic\n",
    "* `if`/`elif`/`else` branching\n",
    "* `in` and `not in` keywords\n",
    "\n",
    "We will explore these things using fairly simple examples (that will also give us practice with indexing, operators, Python lists, etc). Later, we will see how useful these core elements are when they are combined!"
   ]
  },
  {
   "cell_type": "markdown",
   "id": "3cc791e3-e7e7-40e6-89dc-8fe7dc24e46a",
   "metadata": {},
   "source": [
    "In this tutorial, we'll cover `for` loops, the `range()` function, looping through \"iterables\" (container objects), and \"list comprehension\"."
   ]
  },
  {
   "cell_type": "markdown",
   "id": "e628e270",
   "metadata": {},
   "source": [
    "## Loops"
   ]
  },
  {
   "cell_type": "markdown",
   "id": "f15e14bf",
   "metadata": {},
   "source": [
    "Things in life can be repetitive. \n",
    "\n",
    "Often, we need to repeat an entire, long, process over when only small changes are needed. For example, most of us follow the same exact routine every morning (shower/brush teeth/shave/make up/whatever) even though the only thing that has changed is one little number on a calendar. The same is true for computational tasks; a teacher might need to go through the exact same steps to compute a grade for each student, or a data scientist might need to go through the exact same steps to create a plot for several different but identically-structured data sets.\n",
    "\n",
    "Such repetitive tasks are very boring for humans (and bored humans tend to make mistakes!). While computers can't brush our teeth yet (still waiting for those tarter-eating nanobots!), they can help with reapeating calculations over and over using ***loops***.\n",
    "\n",
    "There are two kinds of loops. There are\n",
    "\n",
    "* `for` loops, which run a calculation *for* a pre-determined number of times\n",
    "* `while` loops, which run a calculation *while* some critereon is met\n",
    "\n",
    "We'll start with `for` loops here. We'll cover `while` loops in the next tutorial, after we've learned a few other useful things."
   ]
  },
  {
   "cell_type": "markdown",
   "id": "8effb84d",
   "metadata": {},
   "source": [
    "## `for` loops"
   ]
  },
  {
   "cell_type": "markdown",
   "id": "2b47311d-8e7c-4a59-a1f4-4db630f7e7e1",
   "metadata": {},
   "source": [
    "The `for` loop is used when we want to repeat a calculation `for` a ***known*** or ***predetermined*** number of times. "
   ]
  },
  {
   "cell_type": "markdown",
   "id": "ce9f1a92-9255-4a6c-9843-a6caa109b16d",
   "metadata": {},
   "source": [
    "### Looping over a range of values\n",
    "\n",
    "Python has a handy dandy function to create values for `for` loops called `range()`. A `range()` serves up a sequence of numbers perfectly suited to feeding a hungry `for` loop. By default, the range starts at zero and increments by one. Like this:"
   ]
  },
  {
   "cell_type": "code",
   "execution_count": 1,
   "id": "c7eb967c-fb4e-429c-b907-a82eaef3f990",
   "metadata": {
    "tags": []
   },
   "outputs": [
    {
     "name": "stdout",
     "output_type": "stream",
     "text": [
      "0\n",
      "1\n",
      "2\n",
      "3\n",
      "4\n"
     ]
    }
   ],
   "source": [
    "for i in range(5) :\n",
    "    print(i)"
   ]
  },
  {
   "cell_type": "markdown",
   "id": "b879bd9c-3649-4c75-a5fd-6e18cce3dd32",
   "metadata": {},
   "source": [
    "We can further customize this by providing a starting ***and*** a stopping index: "
   ]
  },
  {
   "cell_type": "code",
   "execution_count": 2,
   "id": "bf2ee1b8-4934-41f7-8b8b-88ad330607d9",
   "metadata": {
    "tags": []
   },
   "outputs": [
    {
     "name": "stdout",
     "output_type": "stream",
     "text": [
      "2\n",
      "3\n",
      "4\n",
      "5\n",
      "6\n",
      "7\n",
      "8\n",
      "9\n",
      "10\n"
     ]
    }
   ],
   "source": [
    "for i in range(2, 11) :\n",
    "    print(i)"
   ]
  },
  {
   "cell_type": "markdown",
   "id": "c1cb0767-5d33-40e5-bfcb-edf866b19f0e",
   "metadata": {},
   "source": [
    "Note that the start and stop values behave just like when we are slicing: the first value is *inclusive* and the last value is *exclusive*. Also just like with slicing, we can provid a step too:"
   ]
  },
  {
   "cell_type": "code",
   "execution_count": 3,
   "id": "60ca8c2c-f6c2-4855-91e2-856c05421664",
   "metadata": {
    "tags": []
   },
   "outputs": [
    {
     "name": "stdout",
     "output_type": "stream",
     "text": [
      "2\n",
      "4\n",
      "6\n",
      "8\n",
      "Who do we appreciate?\n"
     ]
    }
   ],
   "source": [
    "for i in range(2, 9, 2) :\n",
    "    print(i)\n",
    "print('Who do we appreciate?')"
   ]
  },
  {
   "cell_type": "markdown",
   "id": "7368e824-6301-4241-a4e0-c060457e1806",
   "metadata": {},
   "source": [
    "In these `for` loop examples, the `i` is called the \"index variable\". We don't have to use `i` (and we often don't in Python). We'll explain why `i` is often used in a bit.  \n",
    "Also, note that the last `print()` statement is ***not indented***; that tells Python that this print is out of the loop. More on indentation later..."
   ]
  },
  {
   "cell_type": "markdown",
   "id": "2b5c5bb6-356a-4d2b-8ac4-6196dc844a56",
   "metadata": {},
   "source": [
    "Note that a range does not make a list!"
   ]
  },
  {
   "cell_type": "code",
   "execution_count": 4,
   "id": "370d3011-ada2-4e1f-9245-3b095bb2cedd",
   "metadata": {
    "tags": []
   },
   "outputs": [
    {
     "data": {
      "text/plain": [
       "range(0, 5)"
      ]
     },
     "execution_count": 4,
     "metadata": {},
     "output_type": "execute_result"
    }
   ],
   "source": [
    "a = range(5)\n",
    "a"
   ]
  },
  {
   "cell_type": "code",
   "execution_count": 5,
   "id": "f255e567-f705-4f57-a928-2da5251fa825",
   "metadata": {
    "tags": []
   },
   "outputs": [
    {
     "data": {
      "text/plain": [
       "range"
      ]
     },
     "execution_count": 5,
     "metadata": {},
     "output_type": "execute_result"
    }
   ],
   "source": [
    "type(a)"
   ]
  },
  {
   "cell_type": "markdown",
   "id": "9e6e49d0-80c3-43d5-b73e-ed584e83b86f",
   "metadata": {},
   "source": [
    "Rather, a `range()` can be thought a little machine that spits out numbers for a `for` loop!"
   ]
  },
  {
   "cell_type": "markdown",
   "id": "f8d59523-a86e-4000-8271-84728e18ee5d",
   "metadata": {},
   "source": [
    "---"
   ]
  },
  {
   "cell_type": "markdown",
   "id": "3d53d699-dda4-4240-8d03-f7257e03abee",
   "metadata": {},
   "source": [
    "$\\color{blue}{\\text{Complete the following exercise.}}$\n",
    "\n",
    "  - Write a `for` loop to compute the cube of the first 10 odd numbers starting from 1, use `range()` to create the numbers. Print each value and a message when the loop is finished.\n",
    "  \n",
    "  [Use the cell below to show your code]\n"
   ]
  },
  {
   "cell_type": "code",
   "execution_count": 11,
   "id": "34dc0ab9-bdd3-4bed-abca-ed3d5da74661",
   "metadata": {
    "tags": []
   },
   "outputs": [
    {
     "name": "stdout",
     "output_type": "stream",
     "text": [
      "1\n",
      "27\n",
      "125\n",
      "343\n",
      "729\n",
      "1331\n",
      "2197\n",
      "3375\n",
      "4913\n",
      "6859\n",
      "Done\n"
     ]
    }
   ],
   "source": [
    "for i in range(1, 21, 2): \n",
    "    print(i**3)\n",
    "print(\"Done\")"
   ]
  },
  {
   "cell_type": "markdown",
   "id": "8d360ca4-73a3-4975-8aa5-264dc6b9824d",
   "metadata": {},
   "source": [
    "---"
   ]
  },
  {
   "cell_type": "markdown",
   "id": "320f5e50-9efb-452a-821c-7676c1c4e137",
   "metadata": {},
   "source": [
    "### Looping over a list"
   ]
  },
  {
   "cell_type": "markdown",
   "id": "680b3a98",
   "metadata": {},
   "source": [
    "The `for` loop will be your workhorse for a lot of tasks. "
   ]
  },
  {
   "cell_type": "markdown",
   "id": "83e7d5e7",
   "metadata": {},
   "source": [
    "Let's run this very simple `for` loop, and then we'll look at it and dissect it."
   ]
  },
  {
   "cell_type": "code",
   "execution_count": 12,
   "id": "5b995534",
   "metadata": {
    "tags": []
   },
   "outputs": [
    {
     "name": "stdout",
     "output_type": "stream",
     "text": [
      "1\n",
      "2\n",
      "3\n",
      "4\n",
      "5\n"
     ]
    }
   ],
   "source": [
    "myNewList = [1, 2, 3, 4, 5]\n",
    "for i in myNewList :\n",
    "    print(i)"
   ]
  },
  {
   "cell_type": "markdown",
   "id": "5684dda6",
   "metadata": {},
   "source": [
    "The first line, `myNewList = [1, 2, 3, 4, 5]`, creates a Python ***list*** of numbers. A list in Python is a kind of ***iterable***, which is a Python object that will automatically dispense its values one-at-a-time if it is put in a `for` loop."
   ]
  },
  {
   "cell_type": "markdown",
   "id": "7ceac915",
   "metadata": {},
   "source": [
    "The next line, `for i in myNewList:`, sets up the for loop. It says that:\n",
    "\n",
    "* each value in myNewList (the iterable) will be assigned to the variable `i` in turn\n",
    "* every ***indented*** line under this line is executed with each value of `i` in turn\n",
    "\n",
    "The third line self-explanitory; we are just printing the values of `i` to confirm that `i` is, in fact, getting assigned each value of `myNewList` in turn."
   ]
  },
  {
   "cell_type": "markdown",
   "id": "954853b5-caab-4d4b-b5d0-fd83934af3f6",
   "metadata": {},
   "source": [
    "Also, note the indentation in the lines following the `for` loop line is key. As mentioned above, that indentention is the syntax that defines the block of code to which it belongs.\n",
    "\n",
    "Python was designed from the ground up to be a very human readable programming language. Appropriate indentation helps make code pretty and readable. As such, Python enforces its use in certain circumstances, like inside a `for` loop. The indentation tells Python \"Yep, this line is inside the `for` loop\" and the end of indentation tells Python (and you) \"Okay, now we're back outside the `for` loop.\"\n",
    "\n",
    "In Python, 4 spaces are used to indent code blocks. \n",
    "\n",
    "In most other programming languages, we are encouraged to indent our code to make it pretty. In Python, indentation is actually a part of the language!"
   ]
  },
  {
   "cell_type": "markdown",
   "id": "955f7277-5135-4e6e-8582-72ea82718c6d",
   "metadata": {},
   "source": [
    "---"
   ]
  },
  {
   "cell_type": "markdown",
   "id": "847900b7-cab8-4368-bf40-280b222191b5",
   "metadata": {},
   "source": [
    "### Short history lesson about `for` loops"
   ]
  },
  {
   "cell_type": "markdown",
   "id": "7b0baa54-76ae-4bfa-a099-01d436b777ab",
   "metadata": {},
   "source": [
    "Traditionally, a `for` loop is used to ***index*** into a data container to perform element-by-element operations on the data, hence the use of \"i\" for ***i***ndex. So, for example, let's say we wanted to square all the numbers in a list. In many languages, and in all languages of old, we would do something like this:"
   ]
  },
  {
   "cell_type": "code",
   "execution_count": 13,
   "id": "fd6948b8-4edb-4505-a3f2-7a5a1f6b35a7",
   "metadata": {
    "tags": []
   },
   "outputs": [
    {
     "name": "stdout",
     "output_type": "stream",
     "text": [
      "The square of 2.72 is 7.398400000000001\n",
      "The square of 3.14 is 9.8596\n",
      "The square of 11 is 121\n",
      "The square of 42 is 1764\n",
      "The square of 13 is 169\n"
     ]
    }
   ],
   "source": [
    "myData = [2.72, 3.14, 11, 42, 13]\n",
    "datLen = len(myData) # length of data, so we know how long to loop\n",
    "for i in range(datLen) :\n",
    "    square = myData[i]** 2  # index into the list to get a value and then square it\n",
    "    print(\"The square of\", myData[i], \"is\", square)"
   ]
  },
  {
   "cell_type": "markdown",
   "id": "45bdbaac-69e6-471d-994d-5375255e86ac",
   "metadata": {},
   "source": [
    "Now compare this with the much more Pythonic code below, which takes advantage of the fact that myData is an ***iterable***, and will deal out its values one-by-one in a `for` loop."
   ]
  },
  {
   "cell_type": "code",
   "execution_count": 14,
   "id": "92af2104-b4b0-4359-91f1-e8aa7a41c96d",
   "metadata": {
    "tags": []
   },
   "outputs": [
    {
     "name": "stdout",
     "output_type": "stream",
     "text": [
      "The square of 2.72 is 7.398400000000001\n",
      "The square of 3.14 is 9.8596\n",
      "The square of 11 is 121\n",
      "The square of 42 is 1764\n",
      "The square of 13 is 169\n"
     ]
    }
   ],
   "source": [
    "for i in myData :\n",
    "    square = i**2  # square the value directly\n",
    "    print(\"The square of\", i, \"is\", square)"
   ]
  },
  {
   "cell_type": "markdown",
   "id": "168c27f3-134d-42ff-b28b-f44a04ad334a",
   "metadata": {},
   "source": [
    "This is both more readable and more compact (and prettier) – wins all around."
   ]
  },
  {
   "cell_type": "markdown",
   "id": "9a4e40fd-5993-4d14-a90f-f2a5f6e1f25c",
   "metadata": {},
   "source": [
    "---"
   ]
  },
  {
   "cell_type": "markdown",
   "id": "1dd4f571-7ded-4bb1-bf43-55ef65cc263a",
   "metadata": {},
   "source": [
    "### `for` loop anatomy"
   ]
  },
  {
   "cell_type": "markdown",
   "id": "e6691857",
   "metadata": {},
   "source": [
    "Let's take a look the anatomy of a `for` loop:\n",
    "\n",
    "The code block starts with the word `for`, then the \"looping\" variable that will contain the current element on each pass through the loop. After that, the keyword `in` is used to indicate that the next variable contains the list of elements to iterate over. Finally, the statement is closed with `:`\n",
    "\n",
    "```\n",
    "for i in list_of_values :    \n",
    "```"
   ]
  },
  {
   "cell_type": "markdown",
   "id": "ca5876ba",
   "metadata": {},
   "source": [
    "After, that first line a block of operations follow, operations that are iterated over for each value in the `list_of_values`. This block of operations needs to be indented by 4-spaces, as per Python syntax.\n",
    "\n",
    "Let's look at a fully executable example. Let's experiment with this by computing the square root of some numbers. This `for` loop should run as expected. Let's make a Python `list` with `int` values in it:"
   ]
  },
  {
   "cell_type": "code",
   "execution_count": 15,
   "id": "729a61f6",
   "metadata": {
    "tags": []
   },
   "outputs": [],
   "source": [
    "input_list = [1, 2, 3, 4, 5]"
   ]
  },
  {
   "cell_type": "markdown",
   "id": "c8017dbb",
   "metadata": {},
   "source": [
    "Let's then run the `for` loop, print out the current squre root and print out when the `for` loop has ended:"
   ]
  },
  {
   "cell_type": "code",
   "execution_count": 16,
   "id": "6c8206ff",
   "metadata": {
    "tags": []
   },
   "outputs": [
    {
     "name": "stdout",
     "output_type": "stream",
     "text": [
      "The square root of  1  is  1.0\n",
      "The square root of  2  is  1.4142135623730951\n",
      "The square root of  3  is  1.7320508075688772\n",
      "The square root of  4  is  2.0\n",
      "The square root of  5  is  2.23606797749979\n",
      "Now the loop is over.\n"
     ]
    }
   ],
   "source": [
    "for i in input_list :    \n",
    "    root = i**0.5  # remember, the double splat, \"**\", means \"raise to the power of\"\n",
    "    print('The square root of ', i, ' is ', root)\n",
    "print('Now the loop is over.')"
   ]
  },
  {
   "cell_type": "markdown",
   "id": "b22c87d9",
   "metadata": {},
   "source": [
    "A good test for how important is indentention is to try the same code without indentation:"
   ]
  },
  {
   "cell_type": "code",
   "execution_count": 17,
   "id": "fbb08e9e",
   "metadata": {
    "tags": []
   },
   "outputs": [
    {
     "ename": "IndentationError",
     "evalue": "expected an indented block after 'for' statement on line 1 (4050162627.py, line 2)",
     "output_type": "error",
     "traceback": [
      "\u001b[0;36m  Cell \u001b[0;32mIn[17], line 2\u001b[0;36m\u001b[0m\n\u001b[0;31m    root = i**0.5  # remember, the double splat, \"**\", means \"raise to the power of\"\u001b[0m\n\u001b[0m    ^\u001b[0m\n\u001b[0;31mIndentationError\u001b[0m\u001b[0;31m:\u001b[0m expected an indented block after 'for' statement on line 1\n"
     ]
    }
   ],
   "source": [
    "for i in input_list :    \n",
    "root = i**0.5  # remember, the double splat, \"**\", means \"raise to the power of\"\n",
    "print('The square root of ', i, ' is ', root)\n",
    "print('Now the loop is over.')"
   ]
  },
  {
   "cell_type": "markdown",
   "id": "a5738408",
   "metadata": {},
   "source": [
    "Oops! Python barfs because the indentation – an integral part of the code – is wrong."
   ]
  },
  {
   "cell_type": "markdown",
   "id": "eab8d350",
   "metadata": {},
   "source": [
    "Even if we try to make our intent clear with blank lines, the indentation determines what is in the loop or not. Below, it looks like we want the second print to be outside the loop..."
   ]
  },
  {
   "cell_type": "code",
   "execution_count": 18,
   "id": "a46eb55e",
   "metadata": {
    "scrolled": true,
    "tags": []
   },
   "outputs": [
    {
     "name": "stdout",
     "output_type": "stream",
     "text": [
      "The square root of  0  is  0.0\n",
      "Now the loop is over.\n",
      "The square root of  1  is  1.0\n",
      "Now the loop is over.\n",
      "The square root of  2  is  1.4142135623730951\n",
      "Now the loop is over.\n",
      "The square root of  3  is  1.7320508075688772\n",
      "Now the loop is over.\n",
      "The square root of  4  is  2.0\n",
      "Now the loop is over.\n",
      "The square root of  5  is  2.23606797749979\n",
      "Now the loop is over.\n",
      "The square root of  6  is  2.449489742783178\n",
      "Now the loop is over.\n",
      "The square root of  7  is  2.6457513110645907\n",
      "Now the loop is over.\n",
      "The square root of  8  is  2.8284271247461903\n",
      "Now the loop is over.\n",
      "The square root of  9  is  3.0\n",
      "Now the loop is over.\n"
     ]
    }
   ],
   "source": [
    "aList = [0, 1, 2, 3, 4, 5, 6, 7, 8, 9]\n",
    "for i in aList :    \n",
    "    root = i**0.5\n",
    "    print('The square root of ', i, ' is ', root)\n",
    "\n",
    "    print('Now the loop is over.')"
   ]
  },
  {
   "cell_type": "markdown",
   "id": "ea68aab6",
   "metadata": {},
   "source": [
    "... but it's not – the indentation makes it part of the `for` loop. Above, we have just wrongly added `print('Now the loop is over.')` to the `for` loop code block, by simply increasing the indentation."
   ]
  },
  {
   "cell_type": "markdown",
   "id": "ce15f7c6",
   "metadata": {},
   "source": [
    "And because indentation is SO important, we can't indent willy-nilly just because we feel like it:"
   ]
  },
  {
   "cell_type": "code",
   "execution_count": 19,
   "id": "b6882e72",
   "metadata": {
    "tags": []
   },
   "outputs": [
    {
     "ename": "IndentationError",
     "evalue": "unexpected indent (3813621487.py, line 6)",
     "output_type": "error",
     "traceback": [
      "\u001b[0;36m  Cell \u001b[0;32mIn[19], line 6\u001b[0;36m\u001b[0m\n\u001b[0;31m    print('Now the loop is over.')\u001b[0m\n\u001b[0m    ^\u001b[0m\n\u001b[0;31mIndentationError\u001b[0m\u001b[0;31m:\u001b[0m unexpected indent\n"
     ]
    }
   ],
   "source": [
    "aList = [0, 1, 2, 3, 4, 5, 6, 7, 8, 9]\n",
    "for i in aList :    \n",
    "    root = i**0.5\n",
    "print('The square root of ', i, ' is ', root)\n",
    "\n",
    "    print('Now the loop is over.')"
   ]
  },
  {
   "cell_type": "markdown",
   "id": "fbdae2c2",
   "metadata": {},
   "source": [
    "Okay, let's make working version that's nice and pretty and it's clear what's in the loop and what's not:"
   ]
  },
  {
   "cell_type": "code",
   "execution_count": 20,
   "id": "c233ad1a",
   "metadata": {
    "tags": []
   },
   "outputs": [
    {
     "name": "stdout",
     "output_type": "stream",
     "text": [
      "The square root of  0  is  0.0\n",
      "The square root of  1  is  1.0\n",
      "The square root of  2  is  1.4142135623730951\n",
      "The square root of  3  is  1.7320508075688772\n",
      "The square root of  4  is  2.0\n",
      "The square root of  5  is  2.23606797749979\n",
      "The square root of  6  is  2.449489742783178\n",
      "The square root of  7  is  2.6457513110645907\n",
      "The square root of  8  is  2.8284271247461903\n",
      "The square root of  9  is  3.0\n",
      "Now the loop is over.\n"
     ]
    }
   ],
   "source": [
    "aList = [0, 1, 2, 3, 4, 5, 6, 7, 8, 9]\n",
    "for i in aList :    \n",
    "    root = i**0.5  # the double splat, \"**\", is \"raise to the power of\"\n",
    "    print('The square root of ', i, ' is ', root)\n",
    "\n",
    "print('Now the loop is over.')"
   ]
  },
  {
   "cell_type": "markdown",
   "id": "b64d1b7b-ffca-4863-81cf-c2bd225a0a8b",
   "metadata": {},
   "source": [
    "---"
   ]
  },
  {
   "cell_type": "markdown",
   "id": "559a095a",
   "metadata": {},
   "source": [
    "$\\color{blue}{\\text{Exercise:}}$\n",
    "\n",
    "  - Write a `for` loop to compute the square of the first few even numbers.\n",
    "  \n",
    "  [Use the cell below to show your code]\n"
   ]
  },
  {
   "cell_type": "code",
   "execution_count": 24,
   "id": "c8d888d0",
   "metadata": {
    "tags": []
   },
   "outputs": [
    {
     "name": "stdout",
     "output_type": "stream",
     "text": [
      "The square of 2 is 4\n",
      "The square of 4 is 16\n",
      "The square of 6 is 36\n",
      "The square of 8 is 64\n",
      "The square of 10 is 100\n"
     ]
    }
   ],
   "source": [
    "myEvens = [2, 4, 6, 8, 10]\n",
    "for i in myEvens: \n",
    "    square = i ** 2\n",
    "    print(\"The square of\", i, \"is\", square)\n"
   ]
  },
  {
   "cell_type": "markdown",
   "id": "8558b3c6-e7bf-4f31-95e8-555b8832b70d",
   "metadata": {},
   "source": [
    "---"
   ]
  },
  {
   "cell_type": "markdown",
   "id": "60c9f2bd",
   "metadata": {},
   "source": [
    "Note that when you hit return after typing the `for ... :` line, Python indented the next line automatically for you. How nice! But sometimes you'll want to go back and edit a `for` loop, or add lines to one, etc. So...\n",
    "\n",
    "**Important!** When you have to indent code manually, use ***4 spaces*** to indent! Do not use a tab, do not use 3 spaces, do not use 5 spaces, ***use 4 spaces***. This is one thing that Python can be really mean about.\n",
    "\n",
    "When you become a master coder, you can experiment with this in different Python IDEs (some of which will cover for you if you get sloppy). But don't come running back to us crying when the Python gods smite you and leave you all alone out in the cold having to pick up the pieces of the tattered shambles of your former life."
   ]
  },
  {
   "cell_type": "markdown",
   "id": "868db424-9eb4-4bfb-969f-2815be8eb79d",
   "metadata": {},
   "source": [
    "---"
   ]
  },
  {
   "cell_type": "markdown",
   "id": "0ea6e6b7-5182-4517-8f03-bca6b3f9773e",
   "metadata": {},
   "source": [
    "#### Using descriptive looping variable names"
   ]
  },
  {
   "cell_type": "markdown",
   "id": "f37db97c-2602-476b-8e6b-b61ce766f7d6",
   "metadata": {},
   "source": [
    "In the above excercise, you computed the square of even numbers, and you (hopefully) took advantage of the fact that the list `myEvens` was an iterable. Let's say we wrote the loop like this:"
   ]
  },
  {
   "cell_type": "code",
   "execution_count": 25,
   "id": "cec31388-b8f2-4496-8718-43f525234be1",
   "metadata": {
    "tags": []
   },
   "outputs": [
    {
     "name": "stdout",
     "output_type": "stream",
     "text": [
      "4\n",
      "16\n",
      "36\n",
      "64\n",
      "100\n"
     ]
    }
   ],
   "source": [
    "myEvens = [2, 4, 6, 8, 10]\n",
    "for i in myEvens :\n",
    "    square = i ** 2\n",
    "    print(square)"
   ]
  },
  {
   "cell_type": "markdown",
   "id": "4ab7de77-c160-4224-9b83-1fb1dce65bf7",
   "metadata": {},
   "source": [
    "That's fine but, if you think about it, `i` here isn't being used as an \"index\" at all. It just takes on each successive value of the list, *with no indexing necessary!* This is one of the really cool things about Python!\n",
    "\n",
    "In this case, then, perhaps we can make our code more readable by using a different name for the \"index\" or looping variable:"
   ]
  },
  {
   "cell_type": "code",
   "execution_count": 26,
   "id": "5c953ba1-22f3-413a-b562-a5890585d6a9",
   "metadata": {
    "tags": []
   },
   "outputs": [
    {
     "name": "stdout",
     "output_type": "stream",
     "text": [
      "4\n",
      "16\n",
      "36\n",
      "64\n",
      "100\n"
     ]
    }
   ],
   "source": [
    "myEvens = [2, 4, 6, 8, 10]\n",
    "for thisEven in myEvens :\n",
    "    square = thisEven ** 2\n",
    "    print(square)"
   ]
  },
  {
   "cell_type": "markdown",
   "id": "c7227113-47cf-4154-9a4a-5f04888f8d4e",
   "metadata": {},
   "source": [
    "That's more Pythonic, and you'll see this often. A good rule of thumb is to use `i` if `i` is going to be used as an index or will take on successive integer values. In other cases, consider using a more descriptive name. \n",
    "\n",
    "One thing you'll see people do a lot is to use a plural for the name of the list, and the corresponding singular for the looping variable. Consider:"
   ]
  },
  {
   "cell_type": "code",
   "execution_count": 27,
   "id": "38a87625-59de-403a-a28a-3eef7bed5679",
   "metadata": {
    "tags": []
   },
   "outputs": [
    {
     "name": "stdout",
     "output_type": "stream",
     "text": [
      "George Jettson\n",
      "Jane Jettson\n",
      "Judy Jettson\n",
      "Elroy Jettson\n",
      "Astro Jettson\n"
     ]
    }
   ],
   "source": [
    "names = [\"George\", \"Jane\", \"Judy\", \"Elroy\", \"Astro\"]\n",
    "for name in names :\n",
    "    print(name, \"Jettson\")"
   ]
  },
  {
   "cell_type": "markdown",
   "id": "728de6ac-1c3b-46c8-b194-29124f86072a",
   "metadata": {},
   "source": [
    "In this case, \"name\" is more descriptive, and the singlular vs. plural reflects the single value vs. the entire container."
   ]
  },
  {
   "cell_type": "markdown",
   "id": "1cc2b71d-2472-407a-8145-37aa3fefbd2a",
   "metadata": {},
   "source": [
    "### Looping through dictionaries"
   ]
  },
  {
   "cell_type": "markdown",
   "id": "3dbe1005-be1a-40f7-a20f-48b9720d5037",
   "metadata": {},
   "source": [
    "Dictionaries are also interables! Here's a Python `dict` (note the Pythonic use of newlines and indentation to make the entries easy to read)."
   ]
  },
  {
   "cell_type": "code",
   "execution_count": 28,
   "id": "ffda7970-e785-4477-aa04-e68e4db17672",
   "metadata": {
    "tags": []
   },
   "outputs": [],
   "source": [
    "Jettsons = {\"dad\": \"George\",\n",
    "            \"mom\": \"Jane\",\n",
    "            \"girl\": \"Judy\",\n",
    "            \"boy\": \"Elroy\",\n",
    "            \"dog\": \"Astro\"}"
   ]
  },
  {
   "cell_type": "markdown",
   "id": "5474640f-19f3-4868-a7da-5e46765c34a5",
   "metadata": {},
   "source": [
    "In a `for` loop, our dictionary will hand us each subsequent key on each pass through the loop:"
   ]
  },
  {
   "cell_type": "code",
   "execution_count": 29,
   "id": "19f258f8-46c3-4dcf-ad91-184d8c4ccc2f",
   "metadata": {
    "tags": []
   },
   "outputs": [
    {
     "name": "stdout",
     "output_type": "stream",
     "text": [
      "dad\n",
      "mom\n",
      "girl\n",
      "boy\n",
      "dog\n"
     ]
    }
   ],
   "source": [
    "for Jettson in Jettsons :\n",
    "    print(Jettson)"
   ]
  },
  {
   "cell_type": "markdown",
   "id": "5fd4b495-0ff0-44e9-a7ea-fcb064206ddd",
   "metadata": {},
   "source": [
    "So if we need the values (which we usually do), we can ask the dictionary for them using the keys:"
   ]
  },
  {
   "cell_type": "code",
   "execution_count": 30,
   "id": "b97ab99c-b025-4b16-950f-5a8ece0a73f7",
   "metadata": {
    "tags": []
   },
   "outputs": [
    {
     "name": "stdout",
     "output_type": "stream",
     "text": [
      "George\n",
      "Jane\n",
      "Judy\n",
      "Elroy\n",
      "Astro\n"
     ]
    }
   ],
   "source": [
    "for Jettson in Jettsons :\n",
    "    print(Jettsons[Jettson])"
   ]
  },
  {
   "cell_type": "markdown",
   "id": "b0c5ea3f-c528-4701-8657-6b1f00cdcd4e",
   "metadata": {},
   "source": [
    "### Looping through other iterables"
   ]
  },
  {
   "cell_type": "markdown",
   "id": "a634fce3-ced9-445c-bbe6-009b874ccde6",
   "metadata": {},
   "source": [
    "#### Looping though tuples\n",
    "\n",
    "Tuples behave exactly like lists when used as an iterable"
   ]
  },
  {
   "cell_type": "markdown",
   "id": "674d50f2-b270-438c-85ec-6776b3ec8d11",
   "metadata": {},
   "source": [
    "---"
   ]
  },
  {
   "cell_type": "markdown",
   "id": "991574e8-7de7-418f-af37-d413421bb6de",
   "metadata": {},
   "source": [
    "$\\color{blue}{\\text{Exercise:}}$\n",
    "\n",
    "Given the tuple:"
   ]
  },
  {
   "cell_type": "code",
   "execution_count": 31,
   "id": "5f82ef65-e46f-40f2-b405-43448662a0fa",
   "metadata": {
    "tags": []
   },
   "outputs": [],
   "source": [
    "nums = (3, 5, 6, 4, 1)"
   ]
  },
  {
   "cell_type": "markdown",
   "id": "6c75f7e8-9d1a-407d-a2b7-6fd6479f8a8c",
   "metadata": {},
   "source": [
    "Write a `for` loop to determine whether each number is even or not. Hint: use the `%` (modulus) and `==` operators."
   ]
  },
  {
   "cell_type": "code",
   "execution_count": 38,
   "id": "6d6e286b-2ea6-48b9-8af8-0ee0077f9e0d",
   "metadata": {
    "tags": []
   },
   "outputs": [
    {
     "ename": "SyntaxError",
     "evalue": "expected 'else' after 'if' expression (2681060405.py, line 3)",
     "output_type": "error",
     "traceback": [
      "\u001b[0;36m  Cell \u001b[0;32mIn[38], line 3\u001b[0;36m\u001b[0m\n\u001b[0;31m    print(num if even=0)\u001b[0m\n\u001b[0m          ^\u001b[0m\n\u001b[0;31mSyntaxError\u001b[0m\u001b[0;31m:\u001b[0m expected 'else' after 'if' expression\n"
     ]
    }
   ],
   "source": [
    "for num in nums: \n",
    "    even = num % 2\n",
    "    "
   ]
  },
  {
   "cell_type": "markdown",
   "id": "f2ff033c-3db8-4cd7-8cc0-0b49746d1264",
   "metadata": {},
   "source": [
    "---"
   ]
  },
  {
   "cell_type": "markdown",
   "id": "5a5601f8-70df-402c-905b-9e6621b4f2df",
   "metadata": {},
   "source": [
    "#### Looping though strings\n",
    "\n",
    "Remember that strings are really containers of single-character strings. As an iterable, they will emit one character on each pass though the loop:"
   ]
  },
  {
   "cell_type": "code",
   "execution_count": 39,
   "id": "8c8cb39d-5974-4015-9ee0-a54f6f4b11ba",
   "metadata": {
    "tags": []
   },
   "outputs": [
    {
     "name": "stdout",
     "output_type": "stream",
     "text": [
      "W\n",
      "h\n",
      "y\n",
      " \n",
      "l\n",
      "o\n",
      "o\n",
      "p\n",
      " \n",
      "t\n",
      "h\n",
      "r\n",
      "o\n",
      "u\n",
      "g\n",
      "h\n",
      " \n",
      "a\n",
      " \n",
      "s\n",
      "t\n",
      "r\n",
      "i\n",
      "n\n",
      "g\n",
      "?\n",
      "?\n",
      "?\n"
     ]
    }
   ],
   "source": [
    "myString = \"Why loop through a string???\"\n",
    "for thisChar in myString :\n",
    "    print(thisChar)"
   ]
  },
  {
   "cell_type": "markdown",
   "id": "c96369c6-339a-485a-806f-6fee2059d5f1",
   "metadata": {},
   "source": [
    "We'll rarely need to loop through strings, because the Python `str` type provides such a rich collection of methods for working with strings."
   ]
  },
  {
   "cell_type": "markdown",
   "id": "65d10b1b-ddb8-4dd4-a595-4ad35218f62d",
   "metadata": {},
   "source": [
    "#### Looping though sets\n",
    "\n",
    "Even sets are interables."
   ]
  },
  {
   "cell_type": "code",
   "execution_count": 40,
   "id": "f2979635-2634-4ce7-81a2-c2a9898a6fef",
   "metadata": {
    "tags": []
   },
   "outputs": [
    {
     "name": "stdout",
     "output_type": "stream",
     "text": [
      "e\n",
      "i\n",
      "o\n",
      "a\n",
      "u\n"
     ]
    }
   ],
   "source": [
    "mySet = {\"a\", \"e\", \"u\", \"o\", \"i\"}\n",
    "for element in mySet :\n",
    "    print(element)"
   ]
  },
  {
   "cell_type": "markdown",
   "id": "ebf9b855-19d7-49ae-8ea5-d2bfe2f31317",
   "metadata": {},
   "source": [
    "Do you notice anything about the sequence of output letters? Sets are interables even though they not ordered! So there is no guarantee about the order we will get the elements. \n",
    "\n",
    "As you might have already guessed, we rarely loop though sets."
   ]
  },
  {
   "cell_type": "markdown",
   "id": "66b8317f-b716-481d-8e87-ff781576ded7",
   "metadata": {},
   "source": [
    "Note: While dictionaries are technically not ordered (and thus you can't access them by numerical indexing), when used as an iterable, they will produce their entries in the order that the dictionary was defined. That having been said, there's no reason to count on this when writing code."
   ]
  },
  {
   "cell_type": "markdown",
   "id": "63bb5928-a6de-4538-a7d5-b9cfea2a502b",
   "metadata": {},
   "source": [
    "---"
   ]
  },
  {
   "cell_type": "markdown",
   "id": "545c2390-da99-4b30-ae56-d5230ba8c7c0",
   "metadata": {},
   "source": [
    "#### The `input()` function"
   ]
  },
  {
   "cell_type": "markdown",
   "id": "5298418c-5712-47cb-b889-78ef570fa4ef",
   "metadata": {},
   "source": [
    "We can make playing with code a little more fun by using the `input()` function. It's the opposite of `print()`!"
   ]
  },
  {
   "cell_type": "code",
   "execution_count": 41,
   "id": "5fbaf557-32fe-448c-9cb0-50768ad05ae3",
   "metadata": {
    "tags": []
   },
   "outputs": [
    {
     "name": "stdin",
     "output_type": "stream",
     "text": [
      "what is your name? Ruth\n"
     ]
    },
    {
     "name": "stdout",
     "output_type": "stream",
     "text": [
      "Hello Ruth!\n"
     ]
    }
   ],
   "source": [
    "ans = input(\"what is your name?\")\n",
    "print(\"Hello \" + ans + \"!\")"
   ]
  },
  {
   "cell_type": "markdown",
   "id": "db00898e-e6fc-4621-9483-b636c0e37472",
   "metadata": {},
   "source": [
    "The `input()` function returns a string, so if we want a number, we have to ask for it and then convert the result:"
   ]
  },
  {
   "cell_type": "code",
   "execution_count": 42,
   "id": "2274718d-d990-40ac-a8df-4faa7560e627",
   "metadata": {
    "tags": []
   },
   "outputs": [
    {
     "name": "stdin",
     "output_type": "stream",
     "text": [
      "How old are you, Ruth? 19\n"
     ]
    },
    {
     "name": "stdout",
     "output_type": "stream",
     "text": [
      "Original type is <class 'str'>\n",
      "But now it's <class 'int'>\n"
     ]
    }
   ],
   "source": [
    "age = input(\"How old are you, \" + ans + \"?\")\n",
    "print(\"Original type is\", type(age))\n",
    "age = int(age)\n",
    "print(\"But now it's\", type(age))"
   ]
  },
  {
   "cell_type": "markdown",
   "id": "98312142-22d0-4a82-838d-5aecc5ea12cc",
   "metadata": {},
   "source": [
    "---"
   ]
  },
  {
   "cell_type": "markdown",
   "id": "e2994812-fafd-4217-9719-0f3a5da9b8b8",
   "metadata": {},
   "source": [
    "Now we can do stuff like:"
   ]
  },
  {
   "cell_type": "code",
   "execution_count": 43,
   "id": "4608b031-7efc-45a6-9c83-59d68f3e00ad",
   "metadata": {
    "tags": []
   },
   "outputs": [
    {
     "name": "stdin",
     "output_type": "stream",
     "text": [
      "How old are you? 19\n"
     ]
    },
    {
     "name": "stdout",
     "output_type": "stream",
     "text": [
      "The square of the ints up to your age are:\n",
      "0\n",
      "1\n",
      "4\n",
      "9\n",
      "16\n",
      "25\n",
      "36\n",
      "49\n",
      "64\n",
      "81\n",
      "100\n",
      "121\n",
      "144\n",
      "169\n",
      "196\n",
      "225\n",
      "256\n",
      "289\n",
      "324\n"
     ]
    }
   ],
   "source": [
    "age = input(\"How old are you?\")\n",
    "print(\"The square of the ints up to your age are:\")\n",
    "for i in range(int(age)) :\n",
    "    print(i ** 2)"
   ]
  },
  {
   "cell_type": "markdown",
   "id": "3118db97-f1b5-4a27-a914-0cd2fc235993",
   "metadata": {},
   "source": [
    "We'll have much more fun with input later, when we start using `if` and `while`."
   ]
  },
  {
   "cell_type": "markdown",
   "id": "c77177ff-409d-4373-adb7-57b9b9f925bd",
   "metadata": {},
   "source": [
    "---"
   ]
  },
  {
   "cell_type": "markdown",
   "id": "0692031b-a348-4fe0-bdb6-b2f39c2d697e",
   "metadata": {},
   "source": [
    "### Storing results"
   ]
  },
  {
   "cell_type": "markdown",
   "id": "31786fd0-e208-4958-8b2f-1b24e805141b",
   "metadata": {},
   "source": [
    "In general, when we do computations, we want to save the results for plotting or use elsewhere. This is easy thanks to the `list.append()` method! All we have to do is make an empty list before the loop and then append to it."
   ]
  },
  {
   "cell_type": "code",
   "execution_count": 44,
   "id": "3517d6e9-5b05-498e-8c23-cb1c5b4e30b5",
   "metadata": {
    "tags": []
   },
   "outputs": [
    {
     "name": "stdin",
     "output_type": "stream",
     "text": [
      "Enter a number between 5 and 10 6\n"
     ]
    },
    {
     "name": "stdout",
     "output_type": "stream",
     "text": [
      "The squares are: [0, 1, 4, 9, 16, 25]\n"
     ]
    }
   ],
   "source": [
    "squares = []\n",
    "upper = input(\"Enter a number between 5 and 10\")\n",
    "for i in range(int(upper)) :\n",
    "    squares.append(i**2)\n",
    "    \n",
    "print(\"The squares are:\", squares)"
   ]
  },
  {
   "cell_type": "markdown",
   "id": "8f79f9e8-c7c6-42f8-939d-52d6f53294cf",
   "metadata": {},
   "source": [
    "Now we have the squares of our numbers safely tucked away in our new list, `squares`."
   ]
  },
  {
   "cell_type": "markdown",
   "id": "d1369dcf-c384-4a9a-be8a-0ada5a454f31",
   "metadata": {},
   "source": [
    "---"
   ]
  },
  {
   "cell_type": "markdown",
   "id": "e7fe060f-cf16-40c0-bf76-96cb5b527c41",
   "metadata": {},
   "source": [
    "### Nested `for` loops"
   ]
  },
  {
   "cell_type": "markdown",
   "id": "aa34eb58-23d8-446d-a6c8-5c4c53ecd19e",
   "metadata": {},
   "source": [
    "You can \"nest\" `for` loops – that is, you can place one loop inside another (Wha...?). Let's say you were given data in the following form:"
   ]
  },
  {
   "cell_type": "code",
   "execution_count": 45,
   "id": "2579c42f-4bff-4638-a1af-ada333c48e1b",
   "metadata": {
    "tags": []
   },
   "outputs": [
    {
     "name": "stdout",
     "output_type": "stream",
     "text": [
      "[[1, 2, 3], [4, 5, 6], [7, 8, 42]]\n"
     ]
    }
   ],
   "source": [
    "orig_data = [[1, 2, 3],\n",
    "             [4, 5, 6],\n",
    "             [7, 8, 42]]\n",
    "\n",
    "print(orig_data)"
   ]
  },
  {
   "cell_type": "markdown",
   "id": "9a44731b-4f03-430e-8661-4fd0fd4f744a",
   "metadata": {},
   "source": [
    "And you wanted to \"flatten\" the data – this list of lists – so that the values were in a simple list. We could do this:"
   ]
  },
  {
   "cell_type": "code",
   "execution_count": 46,
   "id": "1969c087-d9ec-48d0-80a0-84bf17d65d99",
   "metadata": {
    "tags": []
   },
   "outputs": [
    {
     "name": "stdout",
     "output_type": "stream",
     "text": [
      "[1, 2, 3, 4, 5, 6, 7, 8, 42]\n"
     ]
    }
   ],
   "source": [
    "flat_data = [] # empty list to hold data\n",
    "for i in range(3) :           # the outer loop\n",
    "    for j in range(3) :       # the inner loop\n",
    "        this_number = orig_data[i][j]  # pluck out the number\n",
    "        flat_data.append(this_number)  # and put it in the new list\n",
    "\n",
    "print(flat_data)"
   ]
  },
  {
   "cell_type": "markdown",
   "id": "a7eb9a24-5a4b-4cad-b029-51603874478b",
   "metadata": {},
   "source": [
    "What's happening here? \n",
    "\n",
    "- the outer loop sets `i` to 0\n",
    "    - the inner loop sets `j` to 0\n",
    "        - we pluck out the first value in the first list: `orig_data[0][0]`\n",
    "    - the inner loop sets `j` to 1\n",
    "        - we pluck out the second value in the first list...\n",
    "    - ...\n",
    "- the outer loop sets `i` to 1\n",
    "   - ...\n",
    "\n",
    "and so on and so forth. You can think about this as stepping through the columns of `orig_data` in the first row, then moving to the second row, then stepping through the columns again, etc."
   ]
  },
  {
   "cell_type": "markdown",
   "id": "9848422b-cb36-485e-a96d-b7d13835eaa6",
   "metadata": {},
   "source": [
    "One common situation in which nested for loops are used is when data files are stored in several subfolders (corresponding to groups or experimental conditions, etc.) within one top folder. To read in the data files, you would \n",
    "\n",
    "- count the subdirectories in the top directory (using code – not by hand!)\n",
    "- have an outer `for` loop step through directories. In each directory\n",
    "    - count the data files\n",
    "    - have an inner `for` loop step through the data files, reading each one in turn"
   ]
  },
  {
   "cell_type": "markdown",
   "id": "ebe3d440-5647-4f88-ba15-cfd6c62dbe64",
   "metadata": {},
   "source": [
    "---"
   ]
  },
  {
   "cell_type": "markdown",
   "id": "baf710d4-ec00-4af1-8b82-be07e411d0bb",
   "metadata": {},
   "source": [
    "### List Comprehensions"
   ]
  },
  {
   "cell_type": "markdown",
   "id": "39a4f2da-696d-4656-ac2a-62439957c173",
   "metadata": {},
   "source": [
    "For simple `for` loops, Python offers a compact one-liner form of the `for` loop called a \"list comprehension\". It does your calculations and stores the results in one go. It looks like this:"
   ]
  },
  {
   "cell_type": "code",
   "execution_count": 47,
   "id": "d95ed27b-53b1-4a07-8c00-f2effc363b2e",
   "metadata": {
    "tags": []
   },
   "outputs": [
    {
     "name": "stdin",
     "output_type": "stream",
     "text": [
      "Enter a number between 2 and 10 7\n"
     ]
    },
    {
     "name": "stdout",
     "output_type": "stream",
     "text": [
      "[0, 1, 4, 9, 16, 25, 36]\n"
     ]
    }
   ],
   "source": [
    "ourNum = input(\"Enter a number between 2 and 10\")\n",
    "\n",
    "squares = [i**2 for i in range(int(ourNum))] # this is the whole for loop!\n",
    "\n",
    "print(squares)"
   ]
  },
  {
   "cell_type": "markdown",
   "id": "071df16b-0b51-4533-a686-b5f63c8aa26b",
   "metadata": {},
   "source": [
    "So the basic syntax is (and note the square brackets!):\n",
    "```\n",
    "result_list = [calculation for looping_variable in range_object]\n",
    "```\n",
    "\n",
    "\n",
    "```\n",
    "result_list = [calculation for looping_variable in input_list]\n",
    "```\n",
    "\n",
    "\n",
    "Notice that there's no need to define an empty list at the outset and append to it. You just assign it on the left hand side, and Python takes care of the rest!"
   ]
  },
  {
   "cell_type": "markdown",
   "id": "2b6822c3-2839-4782-bcee-05f433d00955",
   "metadata": {},
   "source": [
    "The \"calculation\" can even be a method of the the `type` of the element is that is emitted by the iterable."
   ]
  },
  {
   "cell_type": "markdown",
   "id": "9530a8e1-5cec-416e-a76c-da38c867c86d",
   "metadata": {},
   "source": [
    "Here are some greetings used in various parts of the U.S.:"
   ]
  },
  {
   "cell_type": "code",
   "execution_count": 48,
   "id": "0ae2eb80-d577-43c4-bbe9-67b21ac5252a",
   "metadata": {
    "tags": []
   },
   "outputs": [],
   "source": [
    "helloStr = [\"hello\", \"hi there\", \"hey\", \"hola\", \"aloha\"]"
   ]
  },
  {
   "cell_type": "markdown",
   "id": "c0f6706d-e8a5-41ba-bd1e-471019122568",
   "metadata": {},
   "source": [
    "And here's an example of using list comprehension to find the positions of the \"h\" in these greetings, taking advantage of the `str` method `index()`:"
   ]
  },
  {
   "cell_type": "code",
   "execution_count": 49,
   "id": "d1a97b87-18a6-4c36-a6fc-ca4d71efc4dd",
   "metadata": {
    "tags": []
   },
   "outputs": [],
   "source": [
    "hInds = [thisStr.index(\"h\")+1 for thisStr in helloStr]"
   ]
  },
  {
   "cell_type": "markdown",
   "id": "ce6f7c99-b6f0-4639-b91b-8a46aa27a875",
   "metadata": {},
   "source": [
    "And here's the result:"
   ]
  },
  {
   "cell_type": "code",
   "execution_count": 50,
   "id": "320f3d1c-5666-4bbc-8049-d6c1d813fdfa",
   "metadata": {
    "tags": []
   },
   "outputs": [
    {
     "name": "stdout",
     "output_type": "stream",
     "text": [
      "The positions of the h's are [1, 1, 1, 1, 4]\n"
     ]
    }
   ],
   "source": [
    "print(\"The positions of the h's are\", hInds)"
   ]
  },
  {
   "cell_type": "markdown",
   "id": "ec6c3947-7356-44c6-ac56-76281d37de10",
   "metadata": {},
   "source": [
    "List comprehensions are pretty nice, and can make code compact and more readable. But they are also a bit like commas in that \"If in doubt, leave it out\" – in other words, if you're unsure whether to use a list comprehension or a regular `for` loop, then use a regular `for` loop."
   ]
  },
  {
   "cell_type": "markdown",
   "id": "9ec5c9d4-d105-45cf-b5cb-3fcc35555d52",
   "metadata": {},
   "source": [
    "---"
   ]
  },
  {
   "cell_type": "markdown",
   "id": "d8e14033-e6e8-4dca-88ba-ec56da1f446a",
   "metadata": {},
   "source": [
    "## Summary"
   ]
  },
  {
   "cell_type": "markdown",
   "id": "726c9037-b93b-4b8f-aa57-02cdc9a3a54e",
   "metadata": {},
   "source": [
    "In this tutorial, we have learned how to use a very powerful tool in coding: the `for` loop. We've also seen how to use it with both `range()` objects and ***iterables***. We learned how to store the results of a `for` loop, and seen that loops can be \"nested\", that is, placed within one another. We also learned about a shorthand `for` loop, the list comprehension. Finally, we learned the cute little `input()` function that makes playing with code interactive and therefore even more fun."
   ]
  }
 ],
 "metadata": {
  "kernelspec": {
   "display_name": "Python 3 (ipykernel)",
   "language": "python",
   "name": "python3"
  },
  "language_info": {
   "codemirror_mode": {
    "name": "ipython",
    "version": 3
   },
   "file_extension": ".py",
   "mimetype": "text/x-python",
   "name": "python",
   "nbconvert_exporter": "python",
   "pygments_lexer": "ipython3",
   "version": "3.11.4"
  }
 },
 "nbformat": 4,
 "nbformat_minor": 5
}
