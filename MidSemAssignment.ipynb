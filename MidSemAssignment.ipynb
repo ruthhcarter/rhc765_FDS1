{
 "cells": [
  {
   "cell_type": "markdown",
   "id": "12a11927-b6a1-4592-b5c3-fb86234806aa",
   "metadata": {},
   "source": [
    "- [ ] menu list\n",
    "- [x] input numbers\n",
    "- [ ] operational functions \n",
    "- [ ] tie functions back to menu "
   ]
  },
  {
   "cell_type": "markdown",
   "id": "f4df1891-f0ad-4c76-b703-c8226cff9964",
   "metadata": {},
   "source": [
    "## start the list: "
   ]
  },
  {
   "cell_type": "code",
   "execution_count": 27,
   "id": "c29fe7e1-061f-41b1-a82a-bf5cf95648b2",
   "metadata": {
    "tags": []
   },
   "outputs": [
    {
     "name": "stdin",
     "output_type": "stream",
     "text": [
      "Enter numbers one by one. Type 'done' when finished. 3\n",
      "Enter numbers one by one. Type 'done' when finished. 4\n",
      "Enter numbers one by one. Type 'done' when finished. 5\n",
      "Enter numbers one by one. Type 'done' when finished. 6\n",
      "Enter numbers one by one. Type 'done' when finished. 6\n",
      "Enter numbers one by one. Type 'done' when finished. done\n"
     ]
    }
   ],
   "source": [
    "## INPUTTING NUMBERS \n",
    "\n",
    "\n",
    "\n",
    "numbers=[]\n",
    "i=1\n",
    "\n",
    "while i>=1:\n",
    "    x = input(\"Enter numbers one by one. Type 'done' when finished.\")\n",
    "    i += 1\n",
    "    if x.isnumeric():\n",
    "        x= int(x)\n",
    "        numbers.append(x)\n",
    "    else: \n",
    "        break             \n",
    "                   "
   ]
  }
 ],
 "metadata": {
  "kernelspec": {
   "display_name": "Python 3 (ipykernel)",
   "language": "python",
   "name": "python3"
  },
  "language_info": {
   "codemirror_mode": {
    "name": "ipython",
    "version": 3
   },
   "file_extension": ".py",
   "mimetype": "text/x-python",
   "name": "python",
   "nbconvert_exporter": "python",
   "pygments_lexer": "ipython3",
   "version": "3.11.4"
  }
 },
 "nbformat": 4,
 "nbformat_minor": 5
}
