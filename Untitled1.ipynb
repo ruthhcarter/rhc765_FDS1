{
 "cells": [
  {
   "cell_type": "code",
   "execution_count": null,
   "id": "9a554fbf-88f7-413a-ad35-548d8de05bf6",
   "metadata": {},
   "outputs": [],
   "source": [
    "numbers = [] "
   ]
  },
  {
   "cell_type": "code",
   "execution_count": 2,
   "id": "d0fe9130-724f-4680-8a30-3ee994044f03",
   "metadata": {
    "tags": []
   },
   "outputs": [
    {
     "name": "stdout",
     "output_type": "stream",
     "text": [
      "Option 1: Input Numbers\n",
      "Option 2: Calculate Mean\n",
      "Option 3: Calculate Variance\n",
      "Option 4: Calculate Standard Deviation\n",
      "Option 5: Calculate Standard Error\n",
      "Option 6: Calculate Z-score\n",
      "Option 7: Quit :-) \n",
      "print 8\n"
     ]
    },
    {
     "name": "stdin",
     "output_type": "stream",
     "text": [
      "Enter your choice (number): 1\n"
     ]
    },
    {
     "ename": "AttributeError",
     "evalue": "module 'test' has no attribute 'enter_num'",
     "output_type": "error",
     "traceback": [
      "\u001b[0;31m---------------------------------------------------------------------------\u001b[0m",
      "\u001b[0;31mAttributeError\u001b[0m                            Traceback (most recent call last)",
      "Cell \u001b[0;32mIn[2], line 14\u001b[0m\n\u001b[1;32m     12\u001b[0m choice \u001b[38;5;241m=\u001b[39m \u001b[38;5;28minput\u001b[39m(\u001b[38;5;124m\"\u001b[39m\u001b[38;5;124mEnter your choice (number):\u001b[39m\u001b[38;5;124m\"\u001b[39m)\n\u001b[1;32m     13\u001b[0m \u001b[38;5;28;01mif\u001b[39;00m choice \u001b[38;5;241m==\u001b[39m \u001b[38;5;124m'\u001b[39m\u001b[38;5;124m1\u001b[39m\u001b[38;5;124m'\u001b[39m:\n\u001b[0;32m---> 14\u001b[0m     test\u001b[38;5;241m.\u001b[39menter_num(numbers)\n\u001b[1;32m     15\u001b[0m     numbers \u001b[38;5;241m=\u001b[39m [] \u001b[38;5;66;03m#resets empty list \u001b[39;00m\n\u001b[1;32m     16\u001b[0m \u001b[38;5;28;01melif\u001b[39;00m choice \u001b[38;5;241m==\u001b[39m \u001b[38;5;124m'\u001b[39m\u001b[38;5;124m2\u001b[39m\u001b[38;5;124m'\u001b[39m:\n",
      "\u001b[0;31mAttributeError\u001b[0m: module 'test' has no attribute 'enter_num'"
     ]
    }
   ],
   "source": [
    "\n",
    "while True: \n",
    "    print(\"Option 1: Input Numbers\") #menu display \n",
    "    print(\"Option 2: Calculate Mean\") \n",
    "    print(\"Option 3: Calculate Variance\")\n",
    "    print(\"Option 4: Calculate Standard Deviation\")\n",
    "    print(\"Option 5: Calculate Standard Error\")\n",
    "    print(\"Option 6: Calculate Z-score\")\n",
    "    print(\"Option 7: Quit :-) \")\n",
    "    print(\"print 8\")\n",
    "    \n",
    "    import test #tie functions to menu \n",
    "    choice = input(\"Enter your choice (number):\")\n",
    "    if choice == '1':\n",
    "        test.enter_num(numbers)\n",
    "        numbers = [] #resets empty list \n",
    "    elif choice == '2':\n",
    "        test.mean(numbers)\n",
    "    elif choice == '3':\n",
    "        test.variance(numbers)\n",
    "    elif choice == '8':\n",
    "        print(numbers)\n",
    "    else:\n",
    "        break "
   ]
  },
  {
   "cell_type": "code",
   "execution_count": null,
   "id": "18334346-1e4e-42e2-8cea-7ad5cadff0bb",
   "metadata": {},
   "outputs": [],
   "source": []
  }
 ],
 "metadata": {
  "kernelspec": {
   "display_name": "Python 3 (ipykernel)",
   "language": "python",
   "name": "python3"
  },
  "language_info": {
   "codemirror_mode": {
    "name": "ipython",
    "version": 3
   },
   "file_extension": ".py",
   "mimetype": "text/x-python",
   "name": "python",
   "nbconvert_exporter": "python",
   "pygments_lexer": "ipython3",
   "version": "3.11.4"
  }
 },
 "nbformat": 4,
 "nbformat_minor": 5
}
