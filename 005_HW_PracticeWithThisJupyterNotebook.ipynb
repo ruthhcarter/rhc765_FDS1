{
 "cells": [
  {
   "cell_type": "markdown",
   "id": "b71af9f1",
   "metadata": {},
   "source": [
    "# This is a notebook for homework used to practice the class workflow\n",
    "\n",
    "You are asked to add your information below:\n",
    "\n",
    "Name: Ruth \n",
    "\n",
    "Surname: Carter\n",
    "\n",
    "EID: rhc765"
   ]
  },
  {
   "cell_type": "markdown",
   "id": "a758306e",
   "metadata": {},
   "source": [
    "Create a table with 5 rows and 3 columns using Markdown.\n",
    "\n",
    "Column 1 should code for artist name\n",
    "Column 2 should code for a song title\n",
    "Column 3 should reason you like the song.\n",
    "\n",
    "Please fill out the table with your top 5 artists and their respective top songs and an note explaining why/what you like of the song and artist.\n",
    "\n",
    "| Artist Name | Song Title | Reason | \n",
    "| :----------- | :----------: | ------: |\n",
    "| Phoebe Bridgers | Graceland Too | the meaning behind this song is extremely sweet. its a love song for a friend! \n",
    "| Taylor Swift | All Too Well (10 Minute Version) | elicits many many emotions, best melody ever created. |\n",
    "| The Poles | space | it reminds me of my freshman year of college. also, its very \"vibey\". \n",
    "| Lord Huron | I Lied | songwriting is top tier! also, its just one of my favorite duets ever. |\n",
    "| Frank Ocean | Novacane | honestly, listening to it just it makes me feel cool. \n",
    "\n",
    "###### Hint: Avoid say \"because they are awesome!\" We really are interested in learing what you guys like.\n"
   ]
  },
  {
   "cell_type": "code",
   "execution_count": null,
   "id": "d33083a9",
   "metadata": {},
   "outputs": [],
   "source": []
  }
 ],
 "metadata": {
  "kernelspec": {
   "display_name": "Python 3 (ipykernel)",
   "language": "python",
   "name": "python3"
  },
  "language_info": {
   "codemirror_mode": {
    "name": "ipython",
    "version": 3
   },
   "file_extension": ".py",
   "mimetype": "text/x-python",
   "name": "python",
   "nbconvert_exporter": "python",
   "pygments_lexer": "ipython3",
   "version": "3.11.4"
  }
 },
 "nbformat": 4,
 "nbformat_minor": 5
}
