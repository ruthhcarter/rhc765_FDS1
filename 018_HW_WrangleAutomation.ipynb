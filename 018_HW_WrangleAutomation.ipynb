{
 "cells": [
  {
   "cell_type": "markdown",
   "id": "b2078916-a749-45a2-ae94-551444740e94",
   "metadata": {},
   "source": [
    "### Automating wranglin HW: "
   ]
  },
  {
   "cell_type": "markdown",
   "id": "c5381668-363b-49b0-be56-36d69d7c276c",
   "metadata": {},
   "source": [
    "##### Write a function to convert the data file \"018_HW_2x2_data.csv\" from wide to \"tidy\" long format. Your function can assume that the input data consist of 4 columns (like our rat data), but should handle any number of rows (i.e. number of observations per cell)."
   ]
  },
  {
   "cell_type": "markdown",
   "id": "3cf4b2d8-36a5-449c-a9bd-cad0dfaa7946",
   "metadata": {
    "tags": []
   },
   "source": [
    "### testing: "
   ]
  },
  {
   "cell_type": "code",
   "execution_count": 42,
   "id": "0ab47fd4-67fd-4622-abfc-df45fe5d08d6",
   "metadata": {
    "tags": []
   },
   "outputs": [],
   "source": [
    "import numpy as np\n",
    "import pandas as pd "
   ]
  },
  {
   "cell_type": "code",
   "execution_count": 36,
   "id": "854a451c-f2e9-4702-a5af-00f660aa8d5e",
   "metadata": {
    "tags": []
   },
   "outputs": [
    {
     "data": {
      "text/html": [
       "<div>\n",
       "<style scoped>\n",
       "    .dataframe tbody tr th:only-of-type {\n",
       "        vertical-align: middle;\n",
       "    }\n",
       "\n",
       "    .dataframe tbody tr th {\n",
       "        vertical-align: top;\n",
       "    }\n",
       "\n",
       "    .dataframe thead th {\n",
       "        text-align: right;\n",
       "    }\n",
       "</style>\n",
       "<table border=\"1\" class=\"dataframe\">\n",
       "  <thead>\n",
       "    <tr style=\"text-align: right;\">\n",
       "      <th></th>\n",
       "      <th>Condition_A_Level_1</th>\n",
       "      <th>Condition_A_Level_2</th>\n",
       "      <th>Condition_B_Level_1</th>\n",
       "      <th>Condition_B_Level_2</th>\n",
       "    </tr>\n",
       "  </thead>\n",
       "  <tbody>\n",
       "    <tr>\n",
       "      <th>0</th>\n",
       "      <td>10</td>\n",
       "      <td>20</td>\n",
       "      <td>30</td>\n",
       "      <td>40</td>\n",
       "    </tr>\n",
       "    <tr>\n",
       "      <th>1</th>\n",
       "      <td>15</td>\n",
       "      <td>25</td>\n",
       "      <td>35</td>\n",
       "      <td>45</td>\n",
       "    </tr>\n",
       "  </tbody>\n",
       "</table>\n",
       "</div>"
      ],
      "text/plain": [
       "   Condition_A_Level_1  Condition_A_Level_2  Condition_B_Level_1  \\\n",
       "0                   10                   20                   30   \n",
       "1                   15                   25                   35   \n",
       "\n",
       "   Condition_B_Level_2  \n",
       "0                   40  \n",
       "1                   45  "
      ]
     },
     "execution_count": 36,
     "metadata": {},
     "output_type": "execute_result"
    }
   ],
   "source": [
    "dat = pd.read_csv(\"datasets/018_HW_2x2_data.csv\")\n",
    "dat\n"
   ]
  },
  {
   "cell_type": "code",
   "execution_count": null,
   "id": "73303d42-026f-4a8a-9eab-387d061bbd65",
   "metadata": {},
   "outputs": [],
   "source": [
    "##### should look like: \n",
    "\n",
    "observation | Condition | Level \n",
    "10          |    a      | 1 \n",
    "15          |    a      | 1\n",
    "20          |    a.     | 2\n",
    "25          |    a.     | 2 \n",
    "30          |    b.     | 1 \n",
    "\n",
    "etc. "
   ]
  },
  {
   "cell_type": "code",
   "execution_count": 37,
   "id": "0d60e404-e1c0-4ee7-a580-c950f94c22fd",
   "metadata": {
    "tags": []
   },
   "outputs": [
    {
     "data": {
      "text/plain": [
       "array([[10, 20, 30, 40],\n",
       "       [15, 25, 35, 45]])"
      ]
     },
     "execution_count": 37,
     "metadata": {},
     "output_type": "execute_result"
    }
   ],
   "source": [
    "dat = dat.to_numpy()                      # convert to numpy array\n",
    "\n",
    "dat"
   ]
  },
  {
   "cell_type": "code",
   "execution_count": 59,
   "id": "867ffd24-0765-42cb-b005-c7a17ffa4503",
   "metadata": {
    "tags": []
   },
   "outputs": [
    {
     "data": {
      "text/plain": [
       "8"
      ]
     },
     "execution_count": 59,
     "metadata": {},
     "output_type": "execute_result"
    }
   ],
   "source": [
    "obs_per_grp, grps = dat.shape\n",
    "#gives us 8 total observations \n",
    "\n",
    "length = obs_per_grp * grps\n",
    "length"
   ]
  },
  {
   "cell_type": "code",
   "execution_count": 39,
   "id": "7691bbf8-22b4-4cc9-b05b-62cd4d387142",
   "metadata": {
    "tags": []
   },
   "outputs": [
    {
     "data": {
      "text/plain": [
       "array([10, 15, 20, 25, 30, 35, 40, 45])"
      ]
     },
     "execution_count": 39,
     "metadata": {},
     "output_type": "execute_result"
    }
   ],
   "source": [
    "values= np.reshape(dat, (length, 1), order = \"F\")\n",
    "\n",
    "values = np.squeeze(values)\n"
   ]
  },
  {
   "cell_type": "code",
   "execution_count": 48,
   "id": "e48c5e7f-8505-4df9-8669-e3e4c8a7667e",
   "metadata": {
    "tags": []
   },
   "outputs": [
    {
     "data": {
      "text/plain": [
       "0    1\n",
       "1    1\n",
       "2    2\n",
       "3    2\n",
       "4    1\n",
       "5    1\n",
       "6    2\n",
       "7    2\n",
       "dtype: int64"
      ]
     },
     "execution_count": 48,
     "metadata": {},
     "output_type": "execute_result"
    }
   ],
   "source": [
    "# create variable columns: \n",
    "\n",
    "condition = pd.Series([\"A\", \"B\"])\n",
    "condition = condition.repeat(4)\n",
    "condition = condition.reset_index(drop = True)\n",
    "condition\n",
    "\n",
    "level = pd.Series([1, 2])\n",
    "level = level.repeat(2)\n",
    "level = pd.concat([level]*2, ignore_index=True)  \n",
    "level"
   ]
  },
  {
   "cell_type": "code",
   "execution_count": 49,
   "id": "61aad9c5-ac45-4dce-a226-68246bdc4de5",
   "metadata": {
    "tags": []
   },
   "outputs": [
    {
     "data": {
      "text/html": [
       "<div>\n",
       "<style scoped>\n",
       "    .dataframe tbody tr th:only-of-type {\n",
       "        vertical-align: middle;\n",
       "    }\n",
       "\n",
       "    .dataframe tbody tr th {\n",
       "        vertical-align: top;\n",
       "    }\n",
       "\n",
       "    .dataframe thead th {\n",
       "        text-align: right;\n",
       "    }\n",
       "</style>\n",
       "<table border=\"1\" class=\"dataframe\">\n",
       "  <thead>\n",
       "    <tr style=\"text-align: right;\">\n",
       "      <th></th>\n",
       "      <th>Data</th>\n",
       "      <th>Condition</th>\n",
       "      <th>Level</th>\n",
       "    </tr>\n",
       "  </thead>\n",
       "  <tbody>\n",
       "    <tr>\n",
       "      <th>0</th>\n",
       "      <td>10</td>\n",
       "      <td>A</td>\n",
       "      <td>1</td>\n",
       "    </tr>\n",
       "    <tr>\n",
       "      <th>1</th>\n",
       "      <td>15</td>\n",
       "      <td>A</td>\n",
       "      <td>1</td>\n",
       "    </tr>\n",
       "    <tr>\n",
       "      <th>2</th>\n",
       "      <td>20</td>\n",
       "      <td>A</td>\n",
       "      <td>2</td>\n",
       "    </tr>\n",
       "    <tr>\n",
       "      <th>3</th>\n",
       "      <td>25</td>\n",
       "      <td>A</td>\n",
       "      <td>2</td>\n",
       "    </tr>\n",
       "    <tr>\n",
       "      <th>4</th>\n",
       "      <td>30</td>\n",
       "      <td>B</td>\n",
       "      <td>1</td>\n",
       "    </tr>\n",
       "    <tr>\n",
       "      <th>5</th>\n",
       "      <td>35</td>\n",
       "      <td>B</td>\n",
       "      <td>1</td>\n",
       "    </tr>\n",
       "    <tr>\n",
       "      <th>6</th>\n",
       "      <td>40</td>\n",
       "      <td>B</td>\n",
       "      <td>2</td>\n",
       "    </tr>\n",
       "    <tr>\n",
       "      <th>7</th>\n",
       "      <td>45</td>\n",
       "      <td>B</td>\n",
       "      <td>2</td>\n",
       "    </tr>\n",
       "  </tbody>\n",
       "</table>\n",
       "</div>"
      ],
      "text/plain": [
       "   Data Condition  Level\n",
       "0    10         A      1\n",
       "1    15         A      1\n",
       "2    20         A      2\n",
       "3    25         A      2\n",
       "4    30         B      1\n",
       "5    35         B      1\n",
       "6    40         B      2\n",
       "7    45         B      2"
      ]
     },
     "execution_count": 49,
     "metadata": {},
     "output_type": "execute_result"
    }
   ],
   "source": [
    "#create the dataframe using a dictionary with the series i just created\n",
    "datadict= pd.DataFrame( \n",
    "    {\"Data\" : values, \n",
    "     \"Condition\" : condition,\n",
    "     \"Level\" : level } \n",
    ")\n",
    "datadict"
   ]
  },
  {
   "cell_type": "code",
   "execution_count": null,
   "id": "b0317a23-b547-4413-b432-4aa4ee4402f1",
   "metadata": {},
   "outputs": [],
   "source": []
  },
  {
   "cell_type": "code",
   "execution_count": 60,
   "id": "923f92a7-881a-4e31-b455-b372cbcac2e0",
   "metadata": {
    "tags": []
   },
   "outputs": [],
   "source": [
    "def turntotidy(filename): \n",
    "    import numpy as np\n",
    "    import pandas as pd \n",
    "    \n",
    "    dat = pd.read_csv(filename)          # reads in filename inputted \n",
    "    dat = dat.to_numpy()                 # convert to a numpy array\n",
    "\n",
    "    observations, groups = dat.shape   #gives us shape of data (obs = obs per group, groups = num of groups) \n",
    "    length = observations * groups          #gives us how long the array needs to be \n",
    "    \n",
    "    #creating the array: \n",
    "    values= np.reshape(dat, (length, 1), order = \"F\")  #arranges data in proper format \n",
    "    values = np.squeeze(values)\n",
    "    \n",
    "    # create variable columns: \n",
    "        #outer grouping variable: \n",
    "    condition = pd.Series([\"A\", \"B\"])    #create a series containing variable categories\n",
    "    condition = condition.repeat(4)       \n",
    "    condition = condition.reset_index(drop = True) #make sure indexes are descending in order \n",
    "    \n",
    "        #inner grouping variable: \n",
    "    level = pd.Series([1, 2])\n",
    "    level = level.repeat(2)\n",
    "    level = pd.concat([level]*2, ignore_index=True) \n",
    "    \n",
    "    \n",
    "    #create the dataframe using a dictionary with the two series i just created\n",
    "    datadict= pd.DataFrame( \n",
    "        {\"Data\" : values, \n",
    "         \"Condition\" : condition,\n",
    "         \"Level\" : level } \n",
    "    )\n",
    "    return(datadict) \n",
    "    "
   ]
  },
  {
   "cell_type": "code",
   "execution_count": 61,
   "id": "4cebed14-6669-453b-85fb-1f489d916bf8",
   "metadata": {
    "tags": []
   },
   "outputs": [
    {
     "ename": "ValueError",
     "evalue": "array length 24 does not match index length 8",
     "output_type": "error",
     "traceback": [
      "\u001b[0;31m---------------------------------------------------------------------------\u001b[0m",
      "\u001b[0;31mValueError\u001b[0m                                Traceback (most recent call last)",
      "Cell \u001b[0;32mIn[61], line 1\u001b[0m\n\u001b[0;32m----> 1\u001b[0m turntotidy(\u001b[38;5;124m\"\u001b[39m\u001b[38;5;124mdatasets/018_HW_2x2_data2.csv\u001b[39m\u001b[38;5;124m\"\u001b[39m)\n",
      "Cell \u001b[0;32mIn[60], line 28\u001b[0m, in \u001b[0;36mturntotidy\u001b[0;34m(filename)\u001b[0m\n\u001b[1;32m     24\u001b[0m level \u001b[38;5;241m=\u001b[39m pd\u001b[38;5;241m.\u001b[39mconcat([level]\u001b[38;5;241m*\u001b[39m\u001b[38;5;241m2\u001b[39m, ignore_index\u001b[38;5;241m=\u001b[39m\u001b[38;5;28;01mTrue\u001b[39;00m) \n\u001b[1;32m     27\u001b[0m \u001b[38;5;66;03m#create the dataframe using a dictionary with the two series i just created\u001b[39;00m\n\u001b[0;32m---> 28\u001b[0m datadict\u001b[38;5;241m=\u001b[39m pd\u001b[38;5;241m.\u001b[39mDataFrame( \n\u001b[1;32m     29\u001b[0m     {\u001b[38;5;124m\"\u001b[39m\u001b[38;5;124mData\u001b[39m\u001b[38;5;124m\"\u001b[39m : values, \n\u001b[1;32m     30\u001b[0m      \u001b[38;5;124m\"\u001b[39m\u001b[38;5;124mCondition\u001b[39m\u001b[38;5;124m\"\u001b[39m : condition,\n\u001b[1;32m     31\u001b[0m      \u001b[38;5;124m\"\u001b[39m\u001b[38;5;124mLevel\u001b[39m\u001b[38;5;124m\"\u001b[39m : level } \n\u001b[1;32m     32\u001b[0m )\n\u001b[1;32m     33\u001b[0m \u001b[38;5;28;01mreturn\u001b[39;00m(datadict)\n",
      "File \u001b[0;32m~/anaconda3/lib/python3.11/site-packages/pandas/core/frame.py:664\u001b[0m, in \u001b[0;36mDataFrame.__init__\u001b[0;34m(self, data, index, columns, dtype, copy)\u001b[0m\n\u001b[1;32m    658\u001b[0m     mgr \u001b[38;5;241m=\u001b[39m \u001b[38;5;28mself\u001b[39m\u001b[38;5;241m.\u001b[39m_init_mgr(\n\u001b[1;32m    659\u001b[0m         data, axes\u001b[38;5;241m=\u001b[39m{\u001b[38;5;124m\"\u001b[39m\u001b[38;5;124mindex\u001b[39m\u001b[38;5;124m\"\u001b[39m: index, \u001b[38;5;124m\"\u001b[39m\u001b[38;5;124mcolumns\u001b[39m\u001b[38;5;124m\"\u001b[39m: columns}, dtype\u001b[38;5;241m=\u001b[39mdtype, copy\u001b[38;5;241m=\u001b[39mcopy\n\u001b[1;32m    660\u001b[0m     )\n\u001b[1;32m    662\u001b[0m \u001b[38;5;28;01melif\u001b[39;00m \u001b[38;5;28misinstance\u001b[39m(data, \u001b[38;5;28mdict\u001b[39m):\n\u001b[1;32m    663\u001b[0m     \u001b[38;5;66;03m# GH#38939 de facto copy defaults to False only in non-dict cases\u001b[39;00m\n\u001b[0;32m--> 664\u001b[0m     mgr \u001b[38;5;241m=\u001b[39m dict_to_mgr(data, index, columns, dtype\u001b[38;5;241m=\u001b[39mdtype, copy\u001b[38;5;241m=\u001b[39mcopy, typ\u001b[38;5;241m=\u001b[39mmanager)\n\u001b[1;32m    665\u001b[0m \u001b[38;5;28;01melif\u001b[39;00m \u001b[38;5;28misinstance\u001b[39m(data, ma\u001b[38;5;241m.\u001b[39mMaskedArray):\n\u001b[1;32m    666\u001b[0m     \u001b[38;5;28;01mimport\u001b[39;00m \u001b[38;5;21;01mnumpy\u001b[39;00m\u001b[38;5;21;01m.\u001b[39;00m\u001b[38;5;21;01mma\u001b[39;00m\u001b[38;5;21;01m.\u001b[39;00m\u001b[38;5;21;01mmrecords\u001b[39;00m \u001b[38;5;28;01mas\u001b[39;00m \u001b[38;5;21;01mmrecords\u001b[39;00m\n",
      "File \u001b[0;32m~/anaconda3/lib/python3.11/site-packages/pandas/core/internals/construction.py:493\u001b[0m, in \u001b[0;36mdict_to_mgr\u001b[0;34m(data, index, columns, dtype, typ, copy)\u001b[0m\n\u001b[1;32m    489\u001b[0m     \u001b[38;5;28;01melse\u001b[39;00m:\n\u001b[1;32m    490\u001b[0m         \u001b[38;5;66;03m# dtype check to exclude e.g. range objects, scalars\u001b[39;00m\n\u001b[1;32m    491\u001b[0m         arrays \u001b[38;5;241m=\u001b[39m [x\u001b[38;5;241m.\u001b[39mcopy() \u001b[38;5;28;01mif\u001b[39;00m \u001b[38;5;28mhasattr\u001b[39m(x, \u001b[38;5;124m\"\u001b[39m\u001b[38;5;124mdtype\u001b[39m\u001b[38;5;124m\"\u001b[39m) \u001b[38;5;28;01melse\u001b[39;00m x \u001b[38;5;28;01mfor\u001b[39;00m x \u001b[38;5;129;01min\u001b[39;00m arrays]\n\u001b[0;32m--> 493\u001b[0m \u001b[38;5;28;01mreturn\u001b[39;00m arrays_to_mgr(arrays, columns, index, dtype\u001b[38;5;241m=\u001b[39mdtype, typ\u001b[38;5;241m=\u001b[39mtyp, consolidate\u001b[38;5;241m=\u001b[39mcopy)\n",
      "File \u001b[0;32m~/anaconda3/lib/python3.11/site-packages/pandas/core/internals/construction.py:118\u001b[0m, in \u001b[0;36marrays_to_mgr\u001b[0;34m(arrays, columns, index, dtype, verify_integrity, typ, consolidate)\u001b[0m\n\u001b[1;32m    115\u001b[0m \u001b[38;5;28;01mif\u001b[39;00m verify_integrity:\n\u001b[1;32m    116\u001b[0m     \u001b[38;5;66;03m# figure out the index, if necessary\u001b[39;00m\n\u001b[1;32m    117\u001b[0m     \u001b[38;5;28;01mif\u001b[39;00m index \u001b[38;5;129;01mis\u001b[39;00m \u001b[38;5;28;01mNone\u001b[39;00m:\n\u001b[0;32m--> 118\u001b[0m         index \u001b[38;5;241m=\u001b[39m _extract_index(arrays)\n\u001b[1;32m    119\u001b[0m     \u001b[38;5;28;01melse\u001b[39;00m:\n\u001b[1;32m    120\u001b[0m         index \u001b[38;5;241m=\u001b[39m ensure_index(index)\n",
      "File \u001b[0;32m~/anaconda3/lib/python3.11/site-packages/pandas/core/internals/construction.py:680\u001b[0m, in \u001b[0;36m_extract_index\u001b[0;34m(data)\u001b[0m\n\u001b[1;32m    675\u001b[0m     \u001b[38;5;28;01mif\u001b[39;00m lengths[\u001b[38;5;241m0\u001b[39m] \u001b[38;5;241m!=\u001b[39m \u001b[38;5;28mlen\u001b[39m(index):\n\u001b[1;32m    676\u001b[0m         msg \u001b[38;5;241m=\u001b[39m (\n\u001b[1;32m    677\u001b[0m             \u001b[38;5;124mf\u001b[39m\u001b[38;5;124m\"\u001b[39m\u001b[38;5;124marray length \u001b[39m\u001b[38;5;132;01m{\u001b[39;00mlengths[\u001b[38;5;241m0\u001b[39m]\u001b[38;5;132;01m}\u001b[39;00m\u001b[38;5;124m does not match index \u001b[39m\u001b[38;5;124m\"\u001b[39m\n\u001b[1;32m    678\u001b[0m             \u001b[38;5;124mf\u001b[39m\u001b[38;5;124m\"\u001b[39m\u001b[38;5;124mlength \u001b[39m\u001b[38;5;132;01m{\u001b[39;00m\u001b[38;5;28mlen\u001b[39m(index)\u001b[38;5;132;01m}\u001b[39;00m\u001b[38;5;124m\"\u001b[39m\n\u001b[1;32m    679\u001b[0m         )\n\u001b[0;32m--> 680\u001b[0m         \u001b[38;5;28;01mraise\u001b[39;00m \u001b[38;5;167;01mValueError\u001b[39;00m(msg)\n\u001b[1;32m    681\u001b[0m \u001b[38;5;28;01melse\u001b[39;00m:\n\u001b[1;32m    682\u001b[0m     index \u001b[38;5;241m=\u001b[39m default_index(lengths[\u001b[38;5;241m0\u001b[39m])\n",
      "\u001b[0;31mValueError\u001b[0m: array length 24 does not match index length 8"
     ]
    }
   ],
   "source": [
    "turntotidy(\"datasets/018_HW_2x2_data2.csv\")"
   ]
  }
 ],
 "metadata": {
  "kernelspec": {
   "display_name": "Python 3 (ipykernel)",
   "language": "python",
   "name": "python3"
  },
  "language_info": {
   "codemirror_mode": {
    "name": "ipython",
    "version": 3
   },
   "file_extension": ".py",
   "mimetype": "text/x-python",
   "name": "python",
   "nbconvert_exporter": "python",
   "pygments_lexer": "ipython3",
   "version": "3.11.4"
  }
 },
 "nbformat": 4,
 "nbformat_minor": 5
}
