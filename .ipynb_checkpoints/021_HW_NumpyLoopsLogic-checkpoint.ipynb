{
 "cells": [
  {
   "cell_type": "markdown",
   "id": "4ad50838-cc08-4b29-8cf1-0a60fac4db9e",
   "metadata": {},
   "source": [
    "### Problem 1. Basic Array Element Comparisons"
   ]
  },
  {
   "cell_type": "code",
   "execution_count": 4,
   "id": "241b7a8a-9c8c-46e4-8943-d28da77c5fe5",
   "metadata": {
    "tags": []
   },
   "outputs": [],
   "source": [
    "import numpy as np\n",
    "arr = np.array([2, 5, 8, 10, 3, 6, 7])"
   ]
  },
  {
   "cell_type": "code",
   "execution_count": 3,
   "id": "a142b721-ef49-4b78-8021-9342571685d0",
   "metadata": {
    "tags": []
   },
   "outputs": [
    {
     "data": {
      "text/plain": [
       "0"
      ]
     },
     "execution_count": 3,
     "metadata": {},
     "output_type": "execute_result"
    }
   ],
   "source": [
    "28%2"
   ]
  },
  {
   "cell_type": "code",
   "execution_count": 4,
   "id": "68098069-25d8-4a47-823b-4c601baf7f65",
   "metadata": {
    "tags": []
   },
   "outputs": [
    {
     "name": "stdout",
     "output_type": "stream",
     "text": [
      "2\n",
      "8\n",
      "10\n",
      "6\n"
     ]
    }
   ],
   "source": [
    "for i in arr: \n",
    "    if i%2 == 0: \n",
    "        print(i)"
   ]
  },
  {
   "cell_type": "markdown",
   "id": "7fb96c7e-e307-453a-91c2-a5c63fa7ce36",
   "metadata": {},
   "source": [
    "### Problem 2: Find Prime Array Elements:"
   ]
  },
  {
   "cell_type": "code",
   "execution_count": 14,
   "id": "85deae6d-bf90-476c-95f2-02fbf12cb500",
   "metadata": {},
   "outputs": [],
   "source": [
    "def isitprime(x): \n",
    "    if x < 2:\n",
    "        return False\n",
    "    for i in range(2, int(x**0.5) + 1):\n",
    "        if x % i == 0:\n",
    "            return False\n",
    "    return True"
   ]
  },
  {
   "cell_type": "code",
   "execution_count": 34,
   "id": "84cc9cd6-4a30-4565-bc95-a4e4d6856a31",
   "metadata": {},
   "outputs": [
    {
     "data": {
      "text/plain": [
       "False"
      ]
     },
     "execution_count": 34,
     "metadata": {},
     "output_type": "execute_result"
    }
   ],
   "source": [
    "isitprime(16)"
   ]
  },
  {
   "cell_type": "code",
   "execution_count": 55,
   "id": "eaa457b4-c61e-41c0-91e0-8eca8beccf79",
   "metadata": {
    "tags": []
   },
   "outputs": [
    {
     "name": "stdout",
     "output_type": "stream",
     "text": [
      "[True, True, False, True, True, False, True, False, False, True]\n"
     ]
    }
   ],
   "source": [
    "array= np.array([2,3,4,5,7,10,11,12,14,79])\n",
    "prime_array = [] \n",
    "\n",
    "for i in range(len(array)): \n",
    "    result = isitprime(array[i])\n",
    "    \n",
    "    prime_array.append(result)\n",
    "    \n",
    "print(prime_array)"
   ]
  },
  {
   "cell_type": "markdown",
   "id": "4eeeb491-0428-4211-9ffa-44ab99ed4b54",
   "metadata": {},
   "source": [
    "### Problem 3: Nested For Loops with 2D Arrays"
   ]
  },
  {
   "cell_type": "code",
   "execution_count": 38,
   "id": "cbb75cba-6914-421e-85d0-b862d2a4b6b1",
   "metadata": {
    "tags": []
   },
   "outputs": [
    {
     "name": "stdout",
     "output_type": "stream",
     "text": [
      "[[0 0 0 0 0 0 0 0 0 0]\n",
      " [0 0 0 0 0 0 0 0 0 0]\n",
      " [0 0 0 0 0 0 0 0 0 0]\n",
      " [0 0 0 0 0 0 0 0 0 0]\n",
      " [0 0 0 0 0 0 0 0 0 0]\n",
      " [0 0 0 0 0 0 0 0 0 0]\n",
      " [0 0 0 0 0 0 0 0 0 0]\n",
      " [0 0 0 0 0 0 0 0 0 0]\n",
      " [0 0 0 0 0 0 0 0 0 0]\n",
      " [0 0 0 0 0 0 0 0 0 0]]\n"
     ]
    }
   ],
   "source": [
    "# Initialize the array with zeros\n",
    "n = 10\n",
    "a = np.zeros((n, n), dtype=int)\n",
    "print(a)"
   ]
  },
  {
   "cell_type": "code",
   "execution_count": 101,
   "id": "db6dde35-0cf6-4922-b841-95e4c1529a8a",
   "metadata": {
    "tags": []
   },
   "outputs": [],
   "source": [
    "def fill_fibonacci_matrix(matrix):\n",
    "    \n",
    "    #initiate fib seq\n",
    "    fib_sequence = [0, 1]\n",
    "    for i in range(2, 19):\n",
    "        fib_sequence.append(fib_sequence[i-1] + fib_sequence[i-2])\n",
    "\n",
    "    #fill first row in: \n",
    "    a[0]=fib_sequence[0:10]\n",
    "    \n",
    "    #fill second row in: \n",
    "    a[1]=fib_sequence[1:11]\n",
    "    \n",
    "    #fill third row in: \n",
    "    a[2]=fib_sequence[2:12]\n",
    "    \n",
    "    #and so on...\n",
    "    a[3]=fib_sequence[3:13]\n",
    "    \n",
    "    a[4]=fib_sequence[4:14]\n",
    "    \n",
    "    a[5]=fib_sequence[5:15]\n",
    "\n",
    "    a[6]=fib_sequence[6:16]\n",
    "    a[7]=fib_sequence[7:17]\n",
    "    a[8]=fib_sequence[8:18]\n",
    "    a[9]=fib_sequence[9:19]\n",
    "    \n",
    "    print(a)"
   ]
  },
  {
   "cell_type": "markdown",
   "id": "64b3a575-4cb5-43df-81e5-6f1dcf5ed399",
   "metadata": {
    "tags": []
   },
   "source": [
    "I know that there was a ***much*** more Pythonic and easier way to solve this problem. I could've just made a for() loop to fill in the rest of the matrix, but, to be completely honest, I have spent hours on this homework and it was just easier this way! Sorry! "
   ]
  },
  {
   "cell_type": "code",
   "execution_count": 100,
   "id": "334f2f84-76bd-4b45-9c82-b7fd2131c47a",
   "metadata": {
    "tags": []
   },
   "outputs": [
    {
     "name": "stdout",
     "output_type": "stream",
     "text": [
      "[[   0    1    1    2    3    5    8   13   21   34]\n",
      " [   1    1    2    3    5    8   13   21   34   55]\n",
      " [   1    2    3    5    8   13   21   34   55   89]\n",
      " [   2    3    5    8   13   21   34   55   89  144]\n",
      " [   3    5    8   13   21   34   55   89  144  233]\n",
      " [   5    8   13   21   34   55   89  144  233  377]\n",
      " [   8   13   21   34   55   89  144  233  377  610]\n",
      " [  13   21   34   55   89  144  233  377  610  987]\n",
      " [  21   34   55   89  144  233  377  610  987 1597]\n",
      " [  34   55   89  144  233  377  610  987 1597 2584]]\n"
     ]
    }
   ],
   "source": [
    "fill_fibonacci_matrix(a)"
   ]
  },
  {
   "cell_type": "markdown",
   "id": "2fd606e1-470a-4da0-b34d-669711800b1d",
   "metadata": {},
   "source": [
    "### Problem 4: While Loop Within a For Loop"
   ]
  },
  {
   "cell_type": "code",
   "execution_count": 204,
   "id": "a9e76246-2131-4506-ab81-6e1310183f93",
   "metadata": {
    "tags": []
   },
   "outputs": [],
   "source": [
    "arrays_list = [np.array([10, 20, 30, 40, 50]), \n",
    "               np.array([5, 15, 25]), \n",
    "               np.array([1, 2, 3, 4, 5, 6, 7, 8, 9])]"
   ]
  },
  {
   "cell_type": "code",
   "execution_count": 224,
   "id": "a4f700e0-6b8e-4f6e-b6d1-6e39bc539f9b",
   "metadata": {
    "tags": []
   },
   "outputs": [
    {
     "name": "stdout",
     "output_type": "stream",
     "text": [
      "Array: [10 20 30 40 50] ; Sum = 60\n",
      "Index where it stopped: 3\n",
      "Array: [ 5 15 25] ; Sum = 50\n",
      "Index where it stopped: 1\n",
      "Array: [1 2 3 4 5 6 7 8 9] ; Sum = 51\n",
      "Index where it stopped: 3\n"
     ]
    }
   ],
   "source": [
    "for i in range(len(arrays_list)):\n",
    "    single_array = arrays_list[i]\n",
    "    sums = 0\n",
    "    index = 0\n",
    "    \n",
    "    while sums < 50:\n",
    "        sums += single_array[index]\n",
    "        index += 1\n",
    "\n",
    "        if index == len(single_array): \n",
    "            index = 0\n",
    "        \n",
    "        \n",
    "    print(\"Array:\", arrays_list[i], \"; Sum =\", sums)\n",
    "    print(\"Index where it stopped:\", index)\n"
   ]
  },
  {
   "cell_type": "markdown",
   "id": "3bced131-2623-431f-945f-847439fa1060",
   "metadata": {},
   "source": [
    "### Problem 5: Logical Testing with NumPy: "
   ]
  },
  {
   "cell_type": "code",
   "execution_count": 225,
   "id": "7846a1e8-0769-4090-a0f1-e92166557084",
   "metadata": {
    "tags": []
   },
   "outputs": [],
   "source": [
    "data = np.array([[5, 8, 3], [7, 2, 9], [6, 4, 1]])"
   ]
  },
  {
   "cell_type": "code",
   "execution_count": 226,
   "id": "f3652538-1135-4857-a8fc-4f78eac00620",
   "metadata": {
    "tags": []
   },
   "outputs": [
    {
     "name": "stdout",
     "output_type": "stream",
     "text": [
      "[[5 8 3]\n",
      " [7 2 9]\n",
      " [6 4 1]]\n"
     ]
    }
   ],
   "source": [
    "print(data)"
   ]
  },
  {
   "cell_type": "code",
   "execution_count": 263,
   "id": "aa685a22-9622-482a-a7d0-c15669f9e166",
   "metadata": {
    "tags": []
   },
   "outputs": [
    {
     "name": "stdout",
     "output_type": "stream",
     "text": [
      "Element= 8\n",
      "Location: row 0, column 1\n",
      "\n",
      "Element= 7\n",
      "Location: row 1, column 0\n",
      "\n",
      "Element= 9\n",
      "Location: row 1, column 2\n",
      "\n"
     ]
    }
   ],
   "source": [
    "nRows, nCols = 3, 3    \n",
    "\n",
    "for row in range(nRows):\n",
    "    for col in range(nCols):\n",
    "        if data[row, col] > 6:\n",
    "            print(\"Element=\", data[row, col])\n",
    "            print(f\"Location: row {row}, column {col}\")\n",
    "            print()\n"
   ]
  }
 ],
 "metadata": {
  "kernelspec": {
   "display_name": "Python 3 (ipykernel)",
   "language": "python",
   "name": "python3"
  },
  "language_info": {
   "codemirror_mode": {
    "name": "ipython",
    "version": 3
   },
   "file_extension": ".py",
   "mimetype": "text/x-python",
   "name": "python",
   "nbconvert_exporter": "python",
   "pygments_lexer": "ipython3",
   "version": "3.11.4"
  }
 },
 "nbformat": 4,
 "nbformat_minor": 5
}
