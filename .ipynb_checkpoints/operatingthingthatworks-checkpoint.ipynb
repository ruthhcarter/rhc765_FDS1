{
 "cells": [
  {
   "cell_type": "code",
   "execution_count": 1,
   "id": "b570d6cc-a255-43e0-a69f-f728ee1cae63",
   "metadata": {
    "tags": []
   },
   "outputs": [
    {
     "name": "stdin",
     "output_type": "stream",
     "text": [
      "Enter numbers one by one. Type 'done' when finished. 2\n",
      "Enter numbers one by one. Type 'done' when finished. 3\n",
      "Enter numbers one by one. Type 'done' when finished. 4\n",
      "Enter numbers one by one. Type 'done' when finished. 5\n",
      "Enter numbers one by one. Type 'done' when finished. done\n"
     ]
    },
    {
     "name": "stdout",
     "output_type": "stream",
     "text": [
      "[2.0, 3.0, 4.0, 5.0]\n"
     ]
    }
   ],
   "source": [
    "numbers=[]\n",
    "i=1\n",
    "\n",
    "while i>=1:\n",
    "    x = input(\"Enter numbers one by one. Type 'done' when finished.\")\n",
    "    i += 1\n",
    "    if x == \"done\":\n",
    "        break \n",
    "    else: \n",
    "        num= float(x)\n",
    "        numbers.append(num)   \n",
    "\n",
    "print(numbers)"
   ]
  },
  {
   "cell_type": "markdown",
   "id": "828cbd39-40e8-4af6-b9c9-adfa4efa17d4",
   "metadata": {},
   "source": [
    "### Computational Operators"
   ]
  },
  {
   "cell_type": "markdown",
   "id": "1fff6cbe-46dd-458e-809d-7d27201b08a5",
   "metadata": {
    "tags": []
   },
   "source": [
    "#### Mean: "
   ]
  },
  {
   "cell_type": "code",
   "execution_count": 3,
   "id": "d95de505-0409-4bd5-a412-d953e982fe78",
   "metadata": {},
   "outputs": [],
   "source": [
    "def mean(numbers):\n",
    "    mean=sum(numbers)/len(numbers)\n",
    "    return(mean)\n",
    " "
   ]
  },
  {
   "cell_type": "code",
   "execution_count": 4,
   "id": "5440481e-c392-46e8-97f4-ba6259027994",
   "metadata": {
    "tags": []
   },
   "outputs": [
    {
     "data": {
      "text/plain": [
       "3.5"
      ]
     },
     "execution_count": 4,
     "metadata": {},
     "output_type": "execute_result"
    }
   ],
   "source": [
    "mean(numbers)"
   ]
  },
  {
   "cell_type": "markdown",
   "id": "7056bd24-0797-4cb8-982a-ae778bf8e665",
   "metadata": {},
   "source": [
    "#### Variance: "
   ]
  },
  {
   "cell_type": "code",
   "execution_count": 5,
   "id": "7008a4c4-2e92-4bdf-99e8-9dae6baa3a3b",
   "metadata": {
    "tags": []
   },
   "outputs": [],
   "source": [
    "def variance(numbers):\n",
    "    mean = sum(numbers) / len(numbers)\n",
    "    squared_deviation = [(num - mean) ** 2 for num in numbers]\n",
    "    sum_of_squares= sum(squared_deviation)\n",
    "    var = sum_of_squares/(len(numbers)-1)\n",
    "    return(var)"
   ]
  },
  {
   "cell_type": "code",
   "execution_count": 6,
   "id": "6b9a8ced-7826-4200-86de-a9caf6ca7881",
   "metadata": {},
   "outputs": [
    {
     "data": {
      "text/plain": [
       "1.6666666666666667"
      ]
     },
     "execution_count": 6,
     "metadata": {},
     "output_type": "execute_result"
    }
   ],
   "source": [
    "variance(numbers)"
   ]
  },
  {
   "cell_type": "markdown",
   "id": "e78e7bfc-2ad7-414f-b57a-d73d7fab81ce",
   "metadata": {},
   "source": [
    "#### Standard Deviation:"
   ]
  },
  {
   "cell_type": "code",
   "execution_count": 7,
   "id": "d8b58030-3bcf-4579-bc7b-b7901937ab2d",
   "metadata": {
    "tags": []
   },
   "outputs": [],
   "source": [
    "def st_dev(numbers):\n",
    "    mean = sum(numbers) / len(numbers)\n",
    "    squared_deviation = [(num - mean) ** 2 for num in numbers]\n",
    "    sum_of_squares= sum(squared_deviation)\n",
    "    var = sum_of_squares/(len(numbers)-1)\n",
    "    std_dev= var**(1/2)\n",
    "    return(std_dev)"
   ]
  },
  {
   "cell_type": "code",
   "execution_count": 8,
   "id": "e5435d4f-8ab5-4306-bafe-fdce0e2ab135",
   "metadata": {
    "tags": []
   },
   "outputs": [
    {
     "data": {
      "text/plain": [
       "1.2909944487358056"
      ]
     },
     "execution_count": 8,
     "metadata": {},
     "output_type": "execute_result"
    }
   ],
   "source": [
    "st_dev(numbers)"
   ]
  },
  {
   "cell_type": "markdown",
   "id": "86df2764-ef29-4b99-9202-1160417d92c3",
   "metadata": {},
   "source": [
    "#### Standard Error: "
   ]
  },
  {
   "cell_type": "code",
   "execution_count": 9,
   "id": "4bb4d9bd-b9e9-4018-a784-cbd0adf517b5",
   "metadata": {
    "tags": []
   },
   "outputs": [],
   "source": [
    "def std_err(numbers):\n",
    "    mean = sum(numbers) / len(numbers)\n",
    "    squared_deviation = [(num - mean) ** 2 for num in numbers]\n",
    "    sum_of_squares= sum(squared_deviation)\n",
    "    var = sum_of_squares/(len(numbers)-1)\n",
    "    std_dev= var**(1/2)\n",
    "    std_err= std_dev/((len(numbers))**(1/2))\n",
    "    return(std_err)\n"
   ]
  },
  {
   "cell_type": "code",
   "execution_count": 10,
   "id": "e39bc388-dfa7-409e-8688-4564557b6ae8",
   "metadata": {
    "tags": []
   },
   "outputs": [
    {
     "data": {
      "text/plain": [
       "0.6454972243679028"
      ]
     },
     "execution_count": 10,
     "metadata": {},
     "output_type": "execute_result"
    }
   ],
   "source": [
    "std_err(numbers)"
   ]
  },
  {
   "cell_type": "markdown",
   "id": "cd4110ee-f555-4c71-834d-8dc38a3f76bd",
   "metadata": {},
   "source": [
    "#### Z-Score: "
   ]
  },
  {
   "cell_type": "code",
   "execution_count": 11,
   "id": "416d6b21-faef-4870-ae4a-e85f97d975dd",
   "metadata": {
    "tags": []
   },
   "outputs": [],
   "source": [
    "def z_score(numbers):\n",
    "    observed_value= float(input(\"Enter a new observation to calculate z-score\"))\n",
    "    mean = sum(numbers) / len(numbers)\n",
    "    squared_deviation = [(num - mean) ** 2 for num in numbers]\n",
    "    sum_of_squares= sum(squared_deviation)\n",
    "    var = sum_of_squares/(len(numbers)-1)\n",
    "    std_dev= var**(1/2)\n",
    "    z= (observed_value - mean)/std_dev\n",
    "    return(z)\n",
    "    \n"
   ]
  },
  {
   "cell_type": "code",
   "execution_count": 12,
   "id": "91e116bd-daa2-466a-84d9-2deb750f9279",
   "metadata": {
    "tags": []
   },
   "outputs": [
    {
     "name": "stdin",
     "output_type": "stream",
     "text": [
      "Enter a new observation to calculate z-score 3\n"
     ]
    },
    {
     "data": {
      "text/plain": [
       "-0.3872983346207417"
      ]
     },
     "execution_count": 12,
     "metadata": {},
     "output_type": "execute_result"
    }
   ],
   "source": [
    "z_score(numbers)"
   ]
  },
  {
   "cell_type": "markdown",
   "id": "965cfadf-9922-4d26-85de-4bdbc94fe886",
   "metadata": {
    "tags": []
   },
   "source": [
    "#### Summary: "
   ]
  },
  {
   "cell_type": "code",
   "execution_count": 255,
   "id": "78ccff9f-4f37-4fca-8da0-72b0bcb7b038",
   "metadata": {
    "tags": []
   },
   "outputs": [],
   "source": [
    "def sum(numbers): \n",
    "    mean = sum(numbers) / len(numbers)\n",
    "    squared_deviation = [(num - mean) ** 2 for num in numbers]\n",
    "    sum_of_squares= sum(squared_deviation)\n",
    "    var = sum_of_squares/(len(numbers)-1)\n",
    "    std_dev= var**(1/2)\n",
    "    std_err= std_dev/((len(numbers))**(1/2))\n",
    "    z= (observed_value - mean)/std_dev\n",
    "    return(mean, sum_of_squares,var,std_dev,std_err,z)\n"
   ]
  },
  {
   "cell_type": "code",
   "execution_count": 224,
   "id": "c05fe385-9d8d-4347-936c-9998477bc64f",
   "metadata": {
    "tags": []
   },
   "outputs": [
    {
     "name": "stdin",
     "output_type": "stream",
     "text": [
      "Enter a new observation to calculate z-score 3\n",
      "Enter a new observation to calculate z-score 3\n",
      "Enter a new observation to calculate z-score dasd\n"
     ]
    },
    {
     "ename": "ValueError",
     "evalue": "could not convert string to float: 'dasd'",
     "output_type": "error",
     "traceback": [
      "\u001b[0;31m---------------------------------------------------------------------------\u001b[0m",
      "\u001b[0;31mValueError\u001b[0m                                Traceback (most recent call last)",
      "Cell \u001b[0;32mIn[224], line 1\u001b[0m\n\u001b[0;32m----> 1\u001b[0m \u001b[38;5;28msum\u001b[39m(numbers)\n",
      "Cell \u001b[0;32mIn[223], line 3\u001b[0m, in \u001b[0;36msum\u001b[0;34m(numbers)\u001b[0m\n\u001b[1;32m      1\u001b[0m \u001b[38;5;28;01mdef\u001b[39;00m \u001b[38;5;21msum\u001b[39m(numbers): \n\u001b[1;32m      2\u001b[0m     observed_value\u001b[38;5;241m=\u001b[39m \u001b[38;5;28mfloat\u001b[39m(\u001b[38;5;28minput\u001b[39m(\u001b[38;5;124m\"\u001b[39m\u001b[38;5;124mEnter a new observation to calculate z-score\u001b[39m\u001b[38;5;124m\"\u001b[39m))\n\u001b[0;32m----> 3\u001b[0m     mean \u001b[38;5;241m=\u001b[39m \u001b[38;5;28msum\u001b[39m(numbers) \u001b[38;5;241m/\u001b[39m \u001b[38;5;28mlen\u001b[39m(numbers)\n\u001b[1;32m      4\u001b[0m     squared_deviation \u001b[38;5;241m=\u001b[39m [(num \u001b[38;5;241m-\u001b[39m mean) \u001b[38;5;241m*\u001b[39m\u001b[38;5;241m*\u001b[39m \u001b[38;5;241m2\u001b[39m \u001b[38;5;28;01mfor\u001b[39;00m num \u001b[38;5;129;01min\u001b[39;00m numbers]\n\u001b[1;32m      5\u001b[0m     sum_of_squares\u001b[38;5;241m=\u001b[39m \u001b[38;5;28msum\u001b[39m(squared_deviation)\n",
      "Cell \u001b[0;32mIn[223], line 3\u001b[0m, in \u001b[0;36msum\u001b[0;34m(numbers)\u001b[0m\n\u001b[1;32m      1\u001b[0m \u001b[38;5;28;01mdef\u001b[39;00m \u001b[38;5;21msum\u001b[39m(numbers): \n\u001b[1;32m      2\u001b[0m     observed_value\u001b[38;5;241m=\u001b[39m \u001b[38;5;28mfloat\u001b[39m(\u001b[38;5;28minput\u001b[39m(\u001b[38;5;124m\"\u001b[39m\u001b[38;5;124mEnter a new observation to calculate z-score\u001b[39m\u001b[38;5;124m\"\u001b[39m))\n\u001b[0;32m----> 3\u001b[0m     mean \u001b[38;5;241m=\u001b[39m \u001b[38;5;28msum\u001b[39m(numbers) \u001b[38;5;241m/\u001b[39m \u001b[38;5;28mlen\u001b[39m(numbers)\n\u001b[1;32m      4\u001b[0m     squared_deviation \u001b[38;5;241m=\u001b[39m [(num \u001b[38;5;241m-\u001b[39m mean) \u001b[38;5;241m*\u001b[39m\u001b[38;5;241m*\u001b[39m \u001b[38;5;241m2\u001b[39m \u001b[38;5;28;01mfor\u001b[39;00m num \u001b[38;5;129;01min\u001b[39;00m numbers]\n\u001b[1;32m      5\u001b[0m     sum_of_squares\u001b[38;5;241m=\u001b[39m \u001b[38;5;28msum\u001b[39m(squared_deviation)\n",
      "Cell \u001b[0;32mIn[223], line 2\u001b[0m, in \u001b[0;36msum\u001b[0;34m(numbers)\u001b[0m\n\u001b[1;32m      1\u001b[0m \u001b[38;5;28;01mdef\u001b[39;00m \u001b[38;5;21msum\u001b[39m(numbers): \n\u001b[0;32m----> 2\u001b[0m     observed_value\u001b[38;5;241m=\u001b[39m \u001b[38;5;28mfloat\u001b[39m(\u001b[38;5;28minput\u001b[39m(\u001b[38;5;124m\"\u001b[39m\u001b[38;5;124mEnter a new observation to calculate z-score\u001b[39m\u001b[38;5;124m\"\u001b[39m))\n\u001b[1;32m      3\u001b[0m     mean \u001b[38;5;241m=\u001b[39m \u001b[38;5;28msum\u001b[39m(numbers) \u001b[38;5;241m/\u001b[39m \u001b[38;5;28mlen\u001b[39m(numbers)\n\u001b[1;32m      4\u001b[0m     squared_deviation \u001b[38;5;241m=\u001b[39m [(num \u001b[38;5;241m-\u001b[39m mean) \u001b[38;5;241m*\u001b[39m\u001b[38;5;241m*\u001b[39m \u001b[38;5;241m2\u001b[39m \u001b[38;5;28;01mfor\u001b[39;00m num \u001b[38;5;129;01min\u001b[39;00m numbers]\n",
      "\u001b[0;31mValueError\u001b[0m: could not convert string to float: 'dasd'"
     ]
    }
   ],
   "source": [
    "sum(numbers)"
   ]
  }
 ],
 "metadata": {
  "kernelspec": {
   "display_name": "Python 3 (ipykernel)",
   "language": "python",
   "name": "python3"
  },
  "language_info": {
   "codemirror_mode": {
    "name": "ipython",
    "version": 3
   },
   "file_extension": ".py",
   "mimetype": "text/x-python",
   "name": "python",
   "nbconvert_exporter": "python",
   "pygments_lexer": "ipython3",
   "version": "3.11.4"
  }
 },
 "nbformat": 4,
 "nbformat_minor": 5
}
