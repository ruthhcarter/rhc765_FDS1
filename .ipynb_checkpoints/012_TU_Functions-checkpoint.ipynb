{
 "cells": [
  {
   "cell_type": "markdown",
   "id": "dd0d23e7-4b7e-4dc3-8492-bda116fbb3f1",
   "metadata": {},
   "source": [
    "### 1. Introduction\n",
    "\n",
    "- Today, we'll uncover the magic of Functions, explore the world of Namespaces and Variable Scopes, and wrap up by learning how to make our own Python Modules. These components are foundational to any Pythonista's journey."
   ]
  },
  {
   "cell_type": "markdown",
   "id": "201d504d-264c-427b-ae6b-88d34d0770d9",
   "metadata": {},
   "source": [
    "#### Learning outcomes.\n",
    "After this tutorial, we should have a good grasp of \n",
    " -  **functions** \n",
    " - creating our own functions\n",
    " - namespaces and variable scope\n",
    " - Python **modules**\n",
    " - creating our own modules"
   ]
  },
  {
   "cell_type": "markdown",
   "id": "6fe06e16-4d6c-4417-a976-33465e1e491b",
   "metadata": {},
   "source": [
    "---"
   ]
  },
  {
   "cell_type": "markdown",
   "id": "58a2ebe8-b09f-4f18-b0a4-a253b2d85301",
   "metadata": {},
   "source": [
    "### 2. Functions\n",
    "\n",
    "#### 2.1 Definition\n",
    "##### What is a function?\n",
    "  - A function is a reusable piece of code that performs a specific task.\n",
    "  - You can think of a function as a \"magic black box\" that will answer a specific quesion for you\n",
    "  \n",
    "##### Why use functions?\n",
    "  - Functions help in breaking down large programs into smaller and modular chunks, making code more organized, reusable, and easier to understand.\n",
    "  - Functions allow you repeat arbitrarily complex operations in you code with just a simple call to the function.\n",
    "  - To use functions, you don't need to know what's in the \"box\"; you can just use the function."
   ]
  },
  {
   "cell_type": "markdown",
   "id": "a62d4da2-7dad-4e75-823a-a19ab53de5e8",
   "metadata": {},
   "source": [
    "Consider the following simple code that prints the length of a string:"
   ]
  },
  {
   "cell_type": "code",
   "execution_count": null,
   "id": "06da0346-9033-407b-9968-0fdcac0de20e",
   "metadata": {},
   "outputs": [],
   "source": [
    "hello_str = \"Hello world!\"\n",
    "str_len = len(hello_str)\n",
    "str_len_str = str(str_len)\n",
    "print(\"The string is \" + str_len_str + \" characters long.\")"
   ]
  },
  {
   "cell_type": "markdown",
   "id": "cf3abbad-43e5-42ed-aad0-e9f73f2ec92b",
   "metadata": {},
   "source": [
    "This code uses three functions:\n",
    "\n",
    "* `len()` to compute the length of our string\n",
    "* `str()` to convert the integer length to a string for printing\n",
    "* `print()` to print out a message"
   ]
  },
  {
   "cell_type": "markdown",
   "id": "5d1faaeb-68f7-437a-9e91-42617e0d52dd",
   "metadata": {},
   "source": [
    "If you think about it, each of these functions calls some code that some other programmer wrote and then made available to Python users. But to use the function, you don't have to know anything about the code inside, you just use the function! \n",
    "\n",
    "For all you care, the `len()` function could send a message via ESP to a wizard, who then casts a \"caluculato lengthamo!\" spell. As long as it works, we can just use it over and over in our code without a second thought.\n",
    "\n",
    "Another analogy is that a function is like a kitchen at a restaurant. If you're a server at a restaurant, you just send an order into the kitchen, and then food appears in the window. As a server, you don't even have to know how to cook; you put an order in, and food comes out."
   ]
  },
  {
   "cell_type": "markdown",
   "id": "e70eee17-faf0-4fc0-844c-b0c88006529e",
   "metadata": {},
   "source": [
    "#### 2.2 Writing Our Own Funtions\n",
    "\n",
    "One of the really great things about Python is that it's very easy to *write our own functions!* We'll start with some simple silly examples, but as you start to write more complicated code, you'll quickly see the power of being able to write your own functions and use them over and over again."
   ]
  },
  {
   "cell_type": "markdown",
   "id": "190fbac1-c13d-4d3d-aed8-caa6c3333b9e",
   "metadata": {},
   "source": [
    "##### Basic Syntax:"
   ]
  },
  {
   "cell_type": "markdown",
   "id": "93398066-e14b-4fd6-aedb-5f35c48786f6",
   "metadata": {},
   "source": [
    "To make a function, there are just two basic steps:\n",
    "\n",
    "* Start `def`ining your function by naming it\n",
    "* Write the actual code for your function in an *indented* code block\n",
    "\n",
    "Here's a simple example to greet the world:"
   ]
  },
  {
   "cell_type": "code",
   "execution_count": null,
   "id": "5d25bc3f-a734-4daa-a732-5833947974f1",
   "metadata": {},
   "outputs": [],
   "source": [
    "def greet():\n",
    "    print(\"Hello, World!\")"
   ]
  },
  {
   "cell_type": "markdown",
   "id": "3d52f831-e83e-4a3d-b0fb-46b349f0070a",
   "metadata": {},
   "source": [
    "  - The `def` keyword signals the start of a function definition, followed by the function name and parentheses, and the `:`.\n",
    "  - The code following in the *indented* code block does the actual work of the function."
   ]
  },
  {
   "cell_type": "markdown",
   "id": "f08de5b1-3456-49b7-aed1-76ef69706857",
   "metadata": {},
   "source": [
    "Now that we have `def`ined out function, we can use it at will:"
   ]
  },
  {
   "cell_type": "code",
   "execution_count": null,
   "id": "79df22de-f6a4-4c85-a4fd-2e94e28f1bdc",
   "metadata": {},
   "outputs": [],
   "source": [
    "greet()"
   ]
  },
  {
   "cell_type": "markdown",
   "id": "82267343-877b-4f76-be1d-c50cad38a8c9",
   "metadata": {},
   "source": [
    "#### 2.3 Parameters and Return Values\n",
    "The above example is very trivial, as it doesn the exact same thing every time. What makes function really useful is that you can \n",
    "\n",
    "* give them *inputs* in the form of Parameters (Arguments) to the function\n",
    "* get answers or `return` values from the function"
   ]
  },
  {
   "cell_type": "markdown",
   "id": "423dfcff-ce48-424a-a656-2f16b0499190",
   "metadata": {},
   "source": [
    "##### Functions with parameters:\n",
    " Here's a function with one input parameter, \"name\"."
   ]
  },
  {
   "cell_type": "code",
   "execution_count": null,
   "id": "cdf2c8d9-22cc-4382-8d27-5196087e9523",
   "metadata": {},
   "outputs": [],
   "source": [
    "def greet(name):\n",
    "    print(f\"Hello, {name}!\")"
   ]
  },
  {
   "cell_type": "markdown",
   "id": "b9f60ee7-92bb-4f30-b2a2-4b0b377d359b",
   "metadata": {},
   "source": [
    "To use the function, we need to specify a \"name\" argument when we call it."
   ]
  },
  {
   "cell_type": "code",
   "execution_count": null,
   "id": "2c527d42-0b3d-4762-8694-d7ed7656b17b",
   "metadata": {},
   "outputs": [],
   "source": [
    "greet(\"Monty Python\")"
   ]
  },
  {
   "cell_type": "markdown",
   "id": "f0492413-ef94-40e8-b56f-55b8faea68ea",
   "metadata": {},
   "source": [
    "Parameters allow us to pass values (arguments) into functions, making them more versatile. Now our `greet()` function can greet anyone we want, not just \"world\"!"
   ]
  },
  {
   "cell_type": "markdown",
   "id": "10ae1139-193e-4fd9-8397-90fb06e2623f",
   "metadata": {},
   "source": [
    "---"
   ]
  },
  {
   "cell_type": "markdown",
   "id": "88cbeaac-51ed-4b80-a484-ff8e822ee249",
   "metadata": {},
   "source": [
    "Use the `greet()` function to greet your favorite Barbie from the movie Barbie:"
   ]
  },
  {
   "cell_type": "code",
   "execution_count": null,
   "id": "82c9654f-6ef5-495a-a3e3-01732906dd38",
   "metadata": {},
   "outputs": [],
   "source": []
  },
  {
   "cell_type": "markdown",
   "id": "a5a029ac-e725-470f-b072-7f9946cb9e2b",
   "metadata": {},
   "source": [
    "---"
   ]
  },
  {
   "cell_type": "markdown",
   "id": "fc29701a-a37a-446c-81bb-4943d4b79741",
   "metadata": {},
   "source": [
    "#### Note: Python \"f-strings\"\n",
    "\n",
    "The format of the argument we just passed to `print()` (inside `greet()`) may be new to you. In (newer versions of) Python, if you prefix a string with an \"f\", it makes it a \"formatted string literal\", or an \"f-string\", which is just a fancy way of saying *we an put variable names in the string in {curly braces}*, and Python will print the values for us. Like this:"
   ]
  },
  {
   "cell_type": "code",
   "execution_count": null,
   "id": "8ab4128c-1178-4e25-a2f9-2477dc28748d",
   "metadata": {},
   "outputs": [],
   "source": [
    "a, b, c = 1, 2, 3\n",
    "print(f\"a is {a}, b is {b}, and c is {c}!\")"
   ]
  },
  {
   "cell_type": "markdown",
   "id": "5b9ebf15-f570-41c5-89b6-b10db53d3d9c",
   "metadata": {},
   "source": [
    "Python f-strings make inserting variable values into strings more natural and readable. We can make one string rather than have to concatanate multiple strings together."
   ]
  },
  {
   "cell_type": "markdown",
   "id": "057416d9-bb87-43ba-9818-b915401e2c6d",
   "metadata": {},
   "source": [
    "---"
   ]
  },
  {
   "cell_type": "markdown",
   "id": "93ce14bf-3b73-4966-85bc-4ae3fc22631b",
   "metadata": {},
   "source": [
    "##### Using `return`:"
   ]
  },
  {
   "cell_type": "markdown",
   "id": "6c302b97-1798-4265-b079-283466673b57",
   "metadata": {},
   "source": [
    "Most functions we'll write will give some sort of answer back to us. We specify what to return with the `return` keyword."
   ]
  },
  {
   "cell_type": "markdown",
   "id": "b63f3c11-3c8e-4174-ae47-82d0a2e54f62",
   "metadata": {},
   "source": [
    "Here's simple function to compute the average of two numbers:"
   ]
  },
  {
   "cell_type": "code",
   "execution_count": null,
   "id": "b21acb59-5678-48b0-8813-2ae66638ce97",
   "metadata": {},
   "outputs": [],
   "source": [
    "def ave(x, y):\n",
    "    return (x + y)/2"
   ]
  },
  {
   "cell_type": "markdown",
   "id": "d7eec8ed-e1a8-43ad-a83d-a9e0a13a709d",
   "metadata": {},
   "source": [
    "  - The `return` statement lets a function send a result back to the point where the function was called. Try calling the `ave()` function a few times:"
   ]
  },
  {
   "cell_type": "code",
   "execution_count": null,
   "id": "2bd4797f-f2e3-4307-b4ab-71d19e784992",
   "metadata": {},
   "outputs": [],
   "source": [
    "ave(3, -3)"
   ]
  },
  {
   "cell_type": "markdown",
   "id": "17b1a62d-ad6e-432c-9dd2-625ae7f0c0e9",
   "metadata": {},
   "source": [
    "Generally, we wish to assign the output of a function to some variable name. For our custom functions, we do this exactly like we do with build in functions, such as `len()`:"
   ]
  },
  {
   "cell_type": "code",
   "execution_count": null,
   "id": "2e8d6a44-8566-4b5f-9bde-6ad6543552a0",
   "metadata": {},
   "outputs": [],
   "source": [
    "my_ave = ave(11, 42)\n",
    "print(my_ave)"
   ]
  },
  {
   "cell_type": "markdown",
   "id": "6d06f100-03f0-4296-97d0-5eee24131522",
   "metadata": {},
   "source": [
    "---"
   ]
  },
  {
   "cell_type": "markdown",
   "id": "b1820fc6-4456-4e8e-aa91-8096763eeec4",
   "metadata": {},
   "source": [
    "Now, it's your turn! Please write a function that multiplies two numbers and returns the result."
   ]
  },
  {
   "cell_type": "code",
   "execution_count": null,
   "id": "2b566cd6-aa6e-4878-aa83-3b60a26d2ef4",
   "metadata": {},
   "outputs": [],
   "source": []
  },
  {
   "cell_type": "markdown",
   "id": "b43c4b67-fb74-4993-ba90-a65d879e1e16",
   "metadata": {},
   "source": [
    "Now test your function! Assign its output to a variable name, and print the output using an f-string."
   ]
  },
  {
   "cell_type": "code",
   "execution_count": null,
   "id": "91cfee33-3c85-429b-84e6-646be55d57b8",
   "metadata": {},
   "outputs": [],
   "source": []
  },
  {
   "cell_type": "markdown",
   "id": "6a933b09-5744-4ba4-9c74-27f5f9400f69",
   "metadata": {},
   "source": [
    "---"
   ]
  },
  {
   "cell_type": "markdown",
   "id": "02c64111-f2c3-47b4-8606-fdd5cb5cd377",
   "metadata": {},
   "source": [
    "##### returning multiple values:"
   ]
  },
  {
   "cell_type": "markdown",
   "id": "2564b25f-2924-4f9d-a69c-f776e072ae2b",
   "metadata": {},
   "source": [
    "If you need to return multiple values, Python is flexible. Here's a short function to compute the sum and the product of two numbers and return them:"
   ]
  },
  {
   "cell_type": "code",
   "execution_count": null,
   "id": "ac512e03-5c50-43e1-95f8-8aa5de5474f4",
   "metadata": {},
   "outputs": [],
   "source": [
    "def sp(x, y) :\n",
    "    s = x+y\n",
    "    p = x*y\n",
    "    return s, p"
   ]
  },
  {
   "cell_type": "markdown",
   "id": "bb5b63da-593d-44fb-8b79-9a8d224216c1",
   "metadata": {},
   "source": [
    "In this case, the output will be a `tuple`, so you can assign it a single variable name:"
   ]
  },
  {
   "cell_type": "code",
   "execution_count": null,
   "id": "cb1beecd-4f64-4786-8e0b-b93f70f6a3a9",
   "metadata": {},
   "outputs": [],
   "source": [
    "z = sp(3, 4)\n",
    "print(z)"
   ]
  },
  {
   "cell_type": "markdown",
   "id": "14f1078f-f1f1-452e-8947-ee3370977e5e",
   "metadata": {},
   "source": [
    "But since a `tuple` is an `iterable`, you can assign each element to its own variable name, and the `tuple` will \"deal them out\" accordingly:"
   ]
  },
  {
   "cell_type": "code",
   "execution_count": null,
   "id": "dbdbe78d-7889-445b-a9f8-54b1150728db",
   "metadata": {},
   "outputs": [],
   "source": [
    "a, b = sp(4,5)\n",
    "print(f\"a is {a} and b is {b}!\")"
   ]
  },
  {
   "cell_type": "markdown",
   "id": "2a92bd90-4d80-438b-aafa-4e22c6c2a5a7",
   "metadata": {},
   "source": [
    "---"
   ]
  },
  {
   "cell_type": "markdown",
   "id": "fc9a33b3-aa1d-4133-9e8b-fccfccea33c9",
   "metadata": {},
   "source": [
    "#### Aside: parameters and arguments\n",
    "\n",
    "Technically speaking, the \"parameter\" is the variable name the function uses, and the \"argument\" is the value of the parameter. In the example above, `x` and `y` are the function parameters, and 4 and 5 were the arguments (values) we used when we called the function. \n",
    "\n",
    "In practice, you will hear these used interchangebly like \"The function has 3 parameters\" or \"The function takes 3 arguments\"."
   ]
  },
  {
   "cell_type": "markdown",
   "id": "7d130841-f7e1-4639-bf83-81fe1931a8ef",
   "metadata": {},
   "source": [
    "---"
   ]
  },
  {
   "cell_type": "markdown",
   "id": "67098804-b264-4a10-a87d-a94e4bbc87ac",
   "metadata": {},
   "source": [
    "### 3. Namespaces and Variable Scope"
   ]
  },
  {
   "cell_type": "markdown",
   "id": "65592705-cb14-4465-a0a1-ab3c8446d472",
   "metadata": {},
   "source": [
    "#### 3.1 What is a Namespace?\n",
    "\n",
    "A namespace in Python refers to a conceptual \"place\" in which specific names are mapped to objects, such as strings, integers, and functions. But more concretely, think of it as a dictionary where the keys are variable names and the values are the actual objects these names refer to.\n",
    "\n",
    "There are several types of namespaces:\n",
    "\n",
    "1. **Built-in Namespace**: This encompasses built-in functions like `print()` and `len()`. We don't need to worry about this – it just means all these built-in functions are available for us to use as soon as we fire up Python!\n",
    "2. **Global Namespace**: For now, think of the global namespace as just the set variables declared in the main body of our  script, outside any function.\n",
    "3. **Local Namespace**: This is the set of variables you declare *inside a function*. It is created when a function is called, and only lasts until the function finishes execution.\n",
    "\n",
    "Namespaces in Python are created at different moments during code execution and have different lifetimes. For example, the built-in namespace is created when the Python interpreter starts up and remains until the interpreter quits. The global namespace for our script is created when we run our code, and the local namespace for a function is created when the function is called."
   ]
  },
  {
   "cell_type": "markdown",
   "id": "d87f880e-3761-4da4-993c-119b6c35bc1f",
   "metadata": {},
   "source": [
    "#### 3.2 Local vs. Global Scope\n",
    "\n",
    "To understand namespaces better, we need to grasp the concept of variable scope. The scope of a variable determines the portion of the code where you can access a that variable. There are two main scopes:\n",
    "\n",
    "1. **Global Scope**: A variable declared outside of any function has a \"global\" scope. This means it can be accessed from essentially anywhere (hence the name).\n",
    "\n",
    "2. **Local Scope**: A variable declared inside a function has a local scope. It can only be accessed within that function, making it inaccessible from the outside world (hence the name)."
   ]
  },
  {
   "cell_type": "markdown",
   "id": "b081fe77-8bde-4787-a558-a37c06a4270b",
   "metadata": {},
   "source": [
    "Here's a simple demonstration. First, let's make a global variable:"
   ]
  },
  {
   "cell_type": "code",
   "execution_count": null,
   "id": "2de31d3f-c63c-4d22-9eca-46d50a01d711",
   "metadata": {},
   "outputs": [],
   "source": [
    "# This is a global variable\n",
    "global_var = \"I'm global!\""
   ]
  },
  {
   "cell_type": "markdown",
   "id": "390c6039-cb1c-4bb1-94c3-a7b46e0aa4df",
   "metadata": {},
   "source": [
    "Next, let's define a function:"
   ]
  },
  {
   "cell_type": "code",
   "execution_count": null,
   "id": "26e1fdea-02ab-49c2-9ef3-ac3263f8341b",
   "metadata": {},
   "outputs": [],
   "source": [
    "def demo_scope():\n",
    "    print(\"We're in the function now!\")\n",
    "    # This is a local variable\n",
    "    local_var = \"I'm local!\"\n",
    "    print(global_var)  # This will work\n",
    "    print(local_var)   # This will work too\n",
    "    print(\"Okay, done, leaving the function\")"
   ]
  },
  {
   "cell_type": "markdown",
   "id": "88f3b066-7544-4d73-ade6-2fbe66bbdd03",
   "metadata": {},
   "source": [
    "Call the function and note the output."
   ]
  },
  {
   "cell_type": "code",
   "execution_count": null,
   "id": "43de8125-83fc-43a5-86c0-db8b33380b5c",
   "metadata": {},
   "outputs": [],
   "source": [
    "demo_scope()"
   ]
  },
  {
   "cell_type": "markdown",
   "id": "ddd8fa0e-37a3-4643-a263-d5893481d0dc",
   "metadata": {},
   "source": [
    "Now that we've run the function, we are back outside in the global namespace. Try this:"
   ]
  },
  {
   "cell_type": "code",
   "execution_count": null,
   "id": "6172cc53-76fb-423d-a676-ee881efcbd02",
   "metadata": {},
   "outputs": [],
   "source": [
    "# Outside of the function\n",
    "print(global_var)  # This will work"
   ]
  },
  {
   "cell_type": "markdown",
   "id": "c5c89172-3069-4d42-99ca-668a2e879e1b",
   "metadata": {},
   "source": [
    "Finally, try this:"
   ]
  },
  {
   "cell_type": "code",
   "execution_count": null,
   "id": "1f971716-78bd-4b9e-abc9-dde10b5fc1f7",
   "metadata": {},
   "outputs": [],
   "source": [
    "print(local_var)   # this will cause an error"
   ]
  },
  {
   "cell_type": "markdown",
   "id": "0288769c-949f-46c6-b007-c0ebb68d5365",
   "metadata": {},
   "source": [
    "You know the old saying \"What happens in Vegas stays in Vegas\"? Well, functions are like Vegas. What happens in a function stays in a function. They take their input, turn it into a return output, and how they do that is nobody else's business. \n",
    "\n",
    "(The analogy works both ways – for some people, Las Vegas itself is literally a function, a function that takes money as an input and returns a hangover as an output.)"
   ]
  },
  {
   "cell_type": "markdown",
   "id": "e4eee7ea-6404-4b20-92ea-a334abefd4fd",
   "metadata": {},
   "source": [
    "#### 3.3 The `global` Keyword\n",
    "\n",
    "Sometimes, you might want to modify a global variable from within a function. By default, if you assign a value to a variable inside a function, Even if we use the name of a global variable, Python assumes we want a local variable, and will create one:"
   ]
  },
  {
   "cell_type": "code",
   "execution_count": null,
   "id": "c5f4ca0c-1869-4e7d-8e35-2a2cbccad7fd",
   "metadata": {},
   "outputs": [],
   "source": [
    "x = 10\n",
    "\n",
    "def modify_global():\n",
    "    x = 20\n",
    "    print(x)\n",
    "\n",
    "modify_global()\n",
    "print(x)  # Outputs: 20"
   ]
  },
  {
   "cell_type": "markdown",
   "id": "5d823874-5c5a-43f9-81b0-c4c511be1301",
   "metadata": {},
   "source": [
    "But if you need to modify a global variable, you can use the `global` keyword:"
   ]
  },
  {
   "cell_type": "code",
   "execution_count": null,
   "id": "6138dfb2-c3a3-4c1f-bfdf-6d3a885acd2c",
   "metadata": {},
   "outputs": [],
   "source": [
    "x = 10\n",
    "\n",
    "def modify_global():\n",
    "    global x         # tell Python you want to modify the global x\n",
    "    x = 20\n",
    "    print(x)\n",
    "\n",
    "modify_global()\n",
    "print(x)  # Outputs: 20"
   ]
  },
  {
   "cell_type": "markdown",
   "id": "c8aaa631-3d1d-4977-8957-82a62d3370ba",
   "metadata": {},
   "source": [
    "---"
   ]
  },
  {
   "cell_type": "markdown",
   "id": "65742d59-f8b8-46a8-8718-ee44a9271464",
   "metadata": {},
   "source": [
    "### 4. Modules"
   ]
  },
  {
   "cell_type": "markdown",
   "id": "d25996e7-ea12-40df-8726-ca7d8391c55c",
   "metadata": {},
   "source": [
    "#### 4.1 What is a Module?"
   ]
  },
  {
   "cell_type": "code",
   "execution_count": null,
   "id": "7f9af101-1cf5-4265-96e9-96033061d588",
   "metadata": {},
   "outputs": [],
   "source": []
  },
  {
   "cell_type": "markdown",
   "id": "7282b323-0394-4293-ab61-59ce28370b76",
   "metadata": {},
   "source": [
    "##### Definition and benefits of using modules.\n",
    "  - A module is a Python file that contains a collection of functions (and maybe some variables). It allows for good code organization and reusability, because we can put all our functions that, say, do some simple statistical calculations, into a single file. Then, we can use the functions whenever we need them, share them with collaborators, etc. \n",
    "\n",
    "##### Built-in vs. custom modules.\n",
    "  - Python has many built-in modules, like `math` and `datetime`. But we can also create our own custom modules, and that's where things get really fun!"
   ]
  },
  {
   "cell_type": "markdown",
   "id": "a5d05722-7bab-4c11-84b0-901df2192014",
   "metadata": {},
   "source": [
    "**4.2 Creating a Simple Module**"
   ]
  },
  {
   "cell_type": "markdown",
   "id": "1a0e9c2b-981e-46fd-a529-95757e421bbd",
   "metadata": {},
   "source": [
    "Create a Python file with the name `mymodule.py`. To do this:\n",
    "\n",
    "- We can open a new text file in jupytet lab/notebook or the jupyter lab app\n",
    "- In a terminal, we can `touch mymodule.py` and then edit it with `nano mymodule.py`\n",
    "- Or we can do this in any editor we want, but we have to make sure to save it as a *plain text* file\n",
    "\n",
    "Now, add the following code to the file:"
   ]
  },
  {
   "cell_type": "code",
   "execution_count": null,
   "id": "d5414a86-a647-4083-a114-f8645350e2ce",
   "metadata": {},
   "outputs": [],
   "source": [
    "def say_hello(name):\n",
    "    return f\"Hello, {name}!\""
   ]
  },
  {
   "cell_type": "markdown",
   "id": "024600e6-46a2-404d-88bf-454d6c28aeea",
   "metadata": {},
   "source": [
    "This becomes our custom module! Go ahead and save it!"
   ]
  },
  {
   "cell_type": "markdown",
   "id": "3f5bd41f-5f5b-4b61-acbd-b8c9b1dceaa7",
   "metadata": {},
   "source": [
    "#### 4.3 Importing Modules"
   ]
  },
  {
   "cell_type": "markdown",
   "id": "5f2c11a4-a297-4b71-bac5-d4e1ce890f62",
   "metadata": {},
   "source": [
    "##### The `import` statement."
   ]
  },
  {
   "cell_type": "markdown",
   "id": "23f93de2-0f6c-4de3-b5c6-849fe4514ac0",
   "metadata": {},
   "source": [
    "With the `import` statement, we can functions from our module available for use in out script!"
   ]
  },
  {
   "cell_type": "code",
   "execution_count": null,
   "id": "1167463e-1b0e-4afb-9d28-59c876e98bd3",
   "metadata": {},
   "outputs": [],
   "source": [
    "import mymodule  "
   ]
  },
  {
   "cell_type": "markdown",
   "id": "bba13140-61cd-48ec-bf2f-763744f409ab",
   "metadata": {},
   "source": [
    "Now our function is ready to go! We can call it dot notation of the form `module_name.function_name()`. This is because when you import a module *it has it's own namespace*, so you have to tell Python which namespace the function is in."
   ]
  },
  {
   "cell_type": "code",
   "execution_count": null,
   "id": "da2c6149-342e-4a69-a058-7dd0df9d5c7e",
   "metadata": {},
   "outputs": [],
   "source": [
    "print(mymodule.say_hello(\"Zaphod Beeblebrox\"))"
   ]
  },
  {
   "cell_type": "markdown",
   "id": "c16e78be-527e-49ff-bdde-919883735a5a",
   "metadata": {},
   "source": [
    "##### Importing with an alias or \"nickname\""
   ]
  },
  {
   "cell_type": "markdown",
   "id": "6883ef89-3123-4dc7-9722-2882f4541489",
   "metadata": {},
   "source": [
    "Let's say we get sick of typing \"mymodule\" everytime we want to use a function from `mymodule`. To avoid this, we can give the whole package an `alias` or a \"nickname\" when we import it. Like this:"
   ]
  },
  {
   "cell_type": "code",
   "execution_count": null,
   "id": "070fdb84-6ce2-4ef5-9d25-71d8af3f0089",
   "metadata": {},
   "outputs": [],
   "source": [
    "import mymodule as mm"
   ]
  },
  {
   "cell_type": "markdown",
   "id": "3436d3ae-50c1-409e-99b6-deb1fb4b1b37",
   "metadata": {},
   "source": [
    "Now we just type `mm.` whenever we want to call a function:"
   ]
  },
  {
   "cell_type": "code",
   "execution_count": null,
   "id": "24314877-ee0c-4b6a-95b6-7ec44693db7d",
   "metadata": {},
   "outputs": [],
   "source": [
    "print(mm.say_hello(\"Trillian\"))"
   ]
  },
  {
   "cell_type": "markdown",
   "id": "3ddba41b-3de6-4348-be07-b6abcc929003",
   "metadata": {},
   "source": [
    "We do this a **lot**. We will be importing modules with alias the vast majority of the time. In fact, there are even some conventions for importing specific modules with specific nicknames. For example, some common packages and their nicknames that we will be using later on are:\n",
    "```python\n",
    "import numpy as np\n",
    "import pandas as pd\n",
    "import seaborn as sns\n",
    "```\n",
    "Note that we don't ***have*** to use these nicknames (that wouldn't be Pythonic), but it's a convention, and adhering to it will make your code much more readable."
   ]
  },
  {
   "cell_type": "markdown",
   "id": "57e490f1-06c2-46f3-80ad-596b826b5f19",
   "metadata": {},
   "source": [
    "##### Importing a specific function"
   ]
  },
  {
   "cell_type": "markdown",
   "id": "fb8d3f23-dbf0-4748-b9f5-7f1a0f6dc1cd",
   "metadata": {},
   "source": [
    "If we just want a specific function, we don't have to write a whole module, we can just import that function using the `from` keyword:"
   ]
  },
  {
   "cell_type": "code",
   "execution_count": null,
   "id": "a49f0209-0278-499c-ac5f-f484391290ca",
   "metadata": {},
   "outputs": [],
   "source": [
    "from mymodule import say_hello\n",
    "\n",
    "print(say_hello('Arthur Dent'))"
   ]
  },
  {
   "cell_type": "markdown",
   "id": "dff019ee-8257-4ca7-815f-fd294a41dfb9",
   "metadata": {},
   "source": [
    "Note that, when we do this, we just call the function with the function name. *It has become part of our global namespace.*"
   ]
  },
  {
   "cell_type": "markdown",
   "id": "fcb29312-4545-4c4e-a7ee-233951b4390a",
   "metadata": {},
   "source": [
    "---"
   ]
  },
  {
   "cell_type": "markdown",
   "id": "bec1c783-6985-488c-ad7d-3c2502dcc694",
   "metadata": {},
   "source": [
    "Create a module with 2-3 functions of your choice. Then, in a new Python file, import and use these functions."
   ]
  },
  {
   "cell_type": "code",
   "execution_count": null,
   "id": "9cd80ec5-e259-44e1-9c60-9c19d3821774",
   "metadata": {},
   "outputs": [],
   "source": []
  },
  {
   "cell_type": "markdown",
   "id": "4305a085-eea6-4be0-b48f-23c164bdcc46",
   "metadata": {},
   "source": [
    "---"
   ]
  },
  {
   "cell_type": "markdown",
   "id": "c9867066-049d-463e-85e5-543df059250b",
   "metadata": {},
   "source": [
    "##### Importing an existing module"
   ]
  },
  {
   "cell_type": "markdown",
   "id": "c9bba781-329b-4650-b1dc-e6eead0e3ac1",
   "metadata": {},
   "source": [
    "Modules are great because they allow us to easily share code. Python comes with some useful modules, and there are many many other \"third-party\" modules. \n",
    "\n",
    "Python is is all about welcoming and inclusion, so we import and use other modules, no matter how famous, just like we import and use our own – all modules have equal status!"
   ]
  },
  {
   "cell_type": "markdown",
   "id": "69f14012-e776-4cda-8d62-d9c3d62f944d",
   "metadata": {},
   "source": [
    "Let's try this;"
   ]
  },
  {
   "cell_type": "code",
   "execution_count": null,
   "id": "90610cd6-c0e7-4f54-bd00-b283c027fa61",
   "metadata": {
    "scrolled": true
   },
   "outputs": [],
   "source": [
    "t = tan(pi/8)"
   ]
  },
  {
   "cell_type": "markdown",
   "id": "fb4d29f5-f2b1-4596-9c5b-bea3291ddf9b",
   "metadata": {},
   "source": [
    "That doesn't work because Python doesn't currently know about `tan()` – Ironically, **Py**thon doesn't know about `pi` either. "
   ]
  },
  {
   "cell_type": "code",
   "execution_count": null,
   "id": "b8f34106-aba5-495e-97bd-15146284bd85",
   "metadata": {},
   "outputs": [],
   "source": [
    "pi"
   ]
  },
  {
   "cell_type": "markdown",
   "id": "61155432-2a1a-4e46-880c-8553a01cfe9a",
   "metadata": {},
   "source": [
    "These are, however, defined in the \"math\" module that comes with Python. So if we do:"
   ]
  },
  {
   "cell_type": "code",
   "execution_count": null,
   "id": "0e08b089-ed5f-4df8-9b4b-294cdf0573be",
   "metadata": {},
   "outputs": [],
   "source": [
    "from math import sin, pi"
   ]
  },
  {
   "cell_type": "markdown",
   "id": "1c3d5d81-4e7b-4146-a951-6d5aae4c6412",
   "metadata": {},
   "source": [
    "And try our code again:"
   ]
  },
  {
   "cell_type": "code",
   "execution_count": null,
   "id": "4f070bd1-cf7e-4e73-8eac-02ed1288e994",
   "metadata": {
    "scrolled": true
   },
   "outputs": [],
   "source": [
    "s = sin(pi/4)\n",
    "print(f\"The sine of 45 deg. is {s:.2f}\")"
   ]
  },
  {
   "cell_type": "markdown",
   "id": "dbea3be5-3eec-4922-8ac9-b0d4c1b7107f",
   "metadata": {},
   "source": [
    "It works! \n",
    "\n",
    "Further, note that in the curly braces of an f-string, we can put a colon after our variable name, and then specify some formatting options. In the case, the `.2f` tells Python to print the value as a floating point number to 2 decimal places."
   ]
  },
  {
   "cell_type": "markdown",
   "id": "d26b6216-fa67-4876-9c42-e8065cb1c889",
   "metadata": {},
   "source": [
    "The math module has a `sqrt()` function as well, but since we didn't import it, it's not in our namespace. So this will fail:"
   ]
  },
  {
   "cell_type": "code",
   "execution_count": null,
   "id": "c2f9d3e1-a9ec-49f7-9e7e-d4b8c0cb2f30",
   "metadata": {
    "scrolled": true
   },
   "outputs": [],
   "source": [
    "1/sqrt(2)"
   ]
  },
  {
   "cell_type": "markdown",
   "id": "4a53b9f9-b451-4fa7-98b7-4fab39b110c5",
   "metadata": {},
   "source": [
    "It's okay, we can cheat:"
   ]
  },
  {
   "cell_type": "code",
   "execution_count": null,
   "id": "95036637-8eeb-4126-9e67-c205dcd5cd21",
   "metadata": {},
   "outputs": [],
   "source": [
    "1/(2**0.5)"
   ]
  },
  {
   "cell_type": "markdown",
   "id": "b90ddc21-ac9f-4cef-87ce-9413ae439a40",
   "metadata": {},
   "source": [
    "(which is also the sine of 45 deg)"
   ]
  },
  {
   "cell_type": "markdown",
   "id": "81339a93-83e1-49a6-becb-d17bc18aeab7",
   "metadata": {},
   "source": [
    "---"
   ]
  },
  {
   "cell_type": "markdown",
   "id": "41203235-9a53-4540-9e1d-fa0c61d1200e",
   "metadata": {},
   "source": [
    "Now import the whole math module (you can give it a nickname if you want)."
   ]
  },
  {
   "cell_type": "code",
   "execution_count": null,
   "id": "cfd023da-aff6-42ab-a98c-9e89582b1cf7",
   "metadata": {},
   "outputs": [],
   "source": []
  },
  {
   "cell_type": "markdown",
   "id": "b2739675-ccb8-474f-bfa0-5a2deebcbc0c",
   "metadata": {},
   "source": [
    "Use the `cos()` function from the math module to compute the cosine of pi/4."
   ]
  },
  {
   "cell_type": "code",
   "execution_count": null,
   "id": "2e62850b-a188-45f4-8198-66c6a2976c38",
   "metadata": {},
   "outputs": [],
   "source": []
  },
  {
   "cell_type": "markdown",
   "id": "c07bc5a2-5f61-4636-81e8-95e9d1ae107e",
   "metadata": {},
   "source": [
    "Use the `sqrt()` function to compute 1/sqrt(2)"
   ]
  },
  {
   "cell_type": "code",
   "execution_count": null,
   "id": "b44b1f51-588a-4154-a043-8a28dd43c7f7",
   "metadata": {},
   "outputs": [],
   "source": []
  },
  {
   "cell_type": "markdown",
   "id": "ef890947-ae2e-4fdf-ad3e-9ac1a912d3be",
   "metadata": {},
   "source": [
    "---"
   ]
  },
  {
   "cell_type": "markdown",
   "id": "744f3c63-97fe-417c-a4a7-e9eb7cfd7c49",
   "metadata": {},
   "source": [
    "In the cell below, use an f-string print both `pi` and `math.pi` to 4 decimal places."
   ]
  },
  {
   "cell_type": "code",
   "execution_count": null,
   "id": "d4a613d6-237f-4e83-875d-84f476836012",
   "metadata": {},
   "outputs": [],
   "source": []
  },
  {
   "cell_type": "markdown",
   "id": "3aa177a6-c116-4b40-a9b6-ea0715c25f13",
   "metadata": {},
   "source": [
    "We have 2 `pi`s! \n",
    "We have a `pi` in our global namespace (due to the `from math import pi`) call, and one in the `math` module's namespace from the `import math` call."
   ]
  },
  {
   "cell_type": "markdown",
   "id": "c316f6f1-416b-4811-bf09-6b4e7d8a7c5f",
   "metadata": {},
   "source": [
    "---"
   ]
  },
  {
   "cell_type": "markdown",
   "id": "0f27a750-8ca8-4a84-8cf8-3cb79823ce70",
   "metadata": {},
   "source": [
    "### 5. Summary"
   ]
  },
  {
   "cell_type": "markdown",
   "id": "a8f6c426-1f7b-4960-9ef1-e7a52febe8a1",
   "metadata": {},
   "source": [
    "In this tutorial, we've (hopefully) learned about some really useful and cool things, namely **functions** and **modules**. \n",
    "\n",
    "There are lots of modules with many functions out there for doing data science, and we will learn about the most common ones soon. Importatly, however, we have learned today ***we can create our own custom functions and modules** – creating these is not some sorcery that only certified Python wizards can do. This means that we can write functions to do useful common tasks for ourselves, and then save them in an organized fashion in modules. It's as easy as making a text file and typing some code!"
   ]
  },
  {
   "cell_type": "markdown",
   "id": "14e4b32c-33ab-4f5f-a1e8-38adc0df992c",
   "metadata": {},
   "source": [
    "In fact, the ease of expanding Python's built-in capabilities with modules in one of the things that makes Python so powerful and popular."
   ]
  }
 ],
 "metadata": {
  "kernelspec": {
   "display_name": "Python 3 (ipykernel)",
   "language": "python",
   "name": "python3"
  },
  "language_info": {
   "codemirror_mode": {
    "name": "ipython",
    "version": 3
   },
   "file_extension": ".py",
   "mimetype": "text/x-python",
   "name": "python",
   "nbconvert_exporter": "python",
   "pygments_lexer": "ipython3",
   "version": "3.8.17"
  }
 },
 "nbformat": 4,
 "nbformat_minor": 5
}
