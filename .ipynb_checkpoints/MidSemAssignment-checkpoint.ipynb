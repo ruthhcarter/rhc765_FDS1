{
 "cells": [
  {
   "cell_type": "markdown",
   "id": "c63aeb32-81e7-4760-b4eb-e925710f0431",
   "metadata": {
    "tags": []
   },
   "source": [
    "## Menu"
   ]
  },
  {
   "cell_type": "code",
   "execution_count": 7,
   "id": "10ba91c0-43e9-45fd-8cb8-1900f8cf0e93",
   "metadata": {
    "tags": []
   },
   "outputs": [
    {
     "name": "stdout",
     "output_type": "stream",
     "text": [
      "Option 1: Input Numbers\n",
      "Option 2: Calculate Mean\n",
      "Option 3: Calculate Variance\n",
      "Option 4: Calculate Standard Deviation\n",
      "Option 5: Calculate Standard Error\n",
      "Option 6: Calculate Z-score\n",
      "Option 7: Print Summary\n",
      "Option 8: Quit :-) \n"
     ]
    },
    {
     "name": "stdin",
     "output_type": "stream",
     "text": [
      "Enter your choice (number): 1\n",
      "Enter numbers one by one. Type 'done' when finished. 23\n",
      "Enter numbers one by one. Type 'done' when finished. 23\n",
      "Enter numbers one by one. Type 'done' when finished. 423\n",
      "Enter numbers one by one. Type 'done' when finished. 52\n",
      "Enter numbers one by one. Type 'done' when finished. 23\n",
      "Enter numbers one by one. Type 'done' when finished. 35\n",
      "Enter numbers one by one. Type 'done' when finished. 463\n",
      "Enter numbers one by one. Type 'done' when finished. done\n"
     ]
    },
    {
     "name": "stdout",
     "output_type": "stream",
     "text": [
      "These are the numbers you inputted: [23.0, 23.0, 423.0, 52.0, 23.0, 35.0, 463.0]\n",
      "Option 1: Input Numbers\n",
      "Option 2: Calculate Mean\n",
      "Option 3: Calculate Variance\n",
      "Option 4: Calculate Standard Deviation\n",
      "Option 5: Calculate Standard Error\n",
      "Option 6: Calculate Z-score\n",
      "Option 7: Print Summary\n",
      "Option 8: Quit :-) \n"
     ]
    },
    {
     "name": "stdin",
     "output_type": "stream",
     "text": [
      "Enter your choice (number): 2\n"
     ]
    },
    {
     "name": "stdout",
     "output_type": "stream",
     "text": [
      "Mean = 148.857\n",
      "Option 1: Input Numbers\n",
      "Option 2: Calculate Mean\n",
      "Option 3: Calculate Variance\n",
      "Option 4: Calculate Standard Deviation\n",
      "Option 5: Calculate Standard Error\n",
      "Option 6: Calculate Z-score\n",
      "Option 7: Print Summary\n",
      "Option 8: Quit :-) \n"
     ]
    },
    {
     "name": "stdin",
     "output_type": "stream",
     "text": [
      "Enter your choice (number): 7\n",
      "Enter a new observation to calculate z-score 23\n"
     ]
    },
    {
     "name": "stdout",
     "output_type": "stream",
     "text": [
      "Mean = 148.857\n",
      "Variance = 40617.476\n",
      "Standard Deviation = 201.538\n",
      "Standard Error = 76.174\n",
      "Z-score = -0.624\n",
      "Option 1: Input Numbers\n",
      "Option 2: Calculate Mean\n",
      "Option 3: Calculate Variance\n",
      "Option 4: Calculate Standard Deviation\n",
      "Option 5: Calculate Standard Error\n",
      "Option 6: Calculate Z-score\n",
      "Option 7: Print Summary\n",
      "Option 8: Quit :-) \n"
     ]
    },
    {
     "name": "stdin",
     "output_type": "stream",
     "text": [
      "Enter your choice (number): 8\n"
     ]
    }
   ],
   "source": [
    "numbers = []\n",
    "\n",
    "while True: \n",
    "    #tie functions to menu \n",
    "    import rhc_stats_module\n",
    "    #menu display\n",
    "    print(\"Option 1: Input Numbers\")\n",
    "    print(\"Option 2: Calculate Mean\") \n",
    "    print(\"Option 3: Calculate Variance\")\n",
    "    print(\"Option 4: Calculate Standard Deviation\")\n",
    "    print(\"Option 5: Calculate Standard Error\")\n",
    "    print(\"Option 6: Calculate Z-score\")\n",
    "    print(\"Option 7: Print Summary\")\n",
    "    print(\"Option 8: Quit :-) \")\n",
    "    \n",
    "    choice = input(\"Enter your choice (number):\")\n",
    "    \n",
    "    if choice == '1': #loop for inputting numbers\n",
    "        global numbers \n",
    "        i=1\n",
    "        while i>=1:\n",
    "            x = input(\"Enter numbers one by one. Type 'done' when finished.\")\n",
    "            i += 1\n",
    "            if x == \"done\":\n",
    "                break \n",
    "            else: \n",
    "                num= float(x)\n",
    "                numbers.append(num)\n",
    "        print(\"These are the numbers you inputted:\",numbers)\n",
    "        \n",
    "#operational functions \n",
    "    elif choice == '2':\n",
    "        rhc_stats_module.mean(numbers) \n",
    "    elif choice == '3':\n",
    "        rhc_stats_module.variance(numbers)\n",
    "    elif choice == '4': \n",
    "        rhc_stats_module.st_dev(numbers)\n",
    "    elif choice =='5': \n",
    "        rhc_stats_module.std_err(numbers)\n",
    "    elif choice == '6': \n",
    "        rhc_stats_module.z_score(numbers)\n",
    "    elif choice == '7': \n",
    "        rhc_stats_module.summary(numbers)\n",
    "    elif choice == '8': \n",
    "        break \n",
    "        \n",
    "#done with menu\n",
    "    else:\n",
    "        print(\"Invalid input. Please try a different number\") \n",
    "        \n"
   ]
  }
 ],
 "metadata": {
  "kernelspec": {
   "display_name": "Python 3 (ipykernel)",
   "language": "python",
   "name": "python3"
  },
  "language_info": {
   "codemirror_mode": {
    "name": "ipython",
    "version": 3
   },
   "file_extension": ".py",
   "mimetype": "text/x-python",
   "name": "python",
   "nbconvert_exporter": "python",
   "pygments_lexer": "ipython3",
   "version": "3.11.4"
  }
 },
 "nbformat": 4,
 "nbformat_minor": 5
}
