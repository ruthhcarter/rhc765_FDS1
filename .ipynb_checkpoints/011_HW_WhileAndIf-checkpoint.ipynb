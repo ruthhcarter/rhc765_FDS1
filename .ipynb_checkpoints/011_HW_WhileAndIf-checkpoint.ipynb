{
 "cells": [
  {
   "cell_type": "markdown",
   "id": "e1138dbf-89cb-4146-b887-772d2d27ea70",
   "metadata": {
    "tags": []
   },
   "source": [
    "### 0. Logic"
   ]
  },
  {
   "cell_type": "code",
   "execution_count": 9,
   "id": "900a544f-87b1-4938-bc43-1f715be4526e",
   "metadata": {
    "tags": []
   },
   "outputs": [
    {
     "data": {
      "text/plain": [
       "True"
      ]
     },
     "execution_count": 9,
     "metadata": {},
     "output_type": "execute_result"
    }
   ],
   "source": [
    "test_strs = ['y', 'o']\n",
    "comp_str = 'Hello World!'\n",
    "\n",
    "(test_strs[1] or test_strs[0]) in comp_str"
   ]
  },
  {
   "cell_type": "markdown",
   "id": "5f315cb8-e8de-4436-b9a5-5142c3cc55e3",
   "metadata": {},
   "source": [
    "### 1. Age Category: "
   ]
  },
  {
   "cell_type": "code",
   "execution_count": 2,
   "id": "e1cc8304-6dae-4fde-9d39-e323e04e02c5",
   "metadata": {
    "tags": []
   },
   "outputs": [
    {
     "name": "stdin",
     "output_type": "stream",
     "text": [
      "What is your age? -20\n"
     ]
    },
    {
     "name": "stdout",
     "output_type": "stream",
     "text": [
      "Well that's kinda odd... Maybe try again.\n"
     ]
    }
   ],
   "source": [
    "#a \n",
    "\n",
    "ages = int(input(\"What is your age?\")) \n",
    "infant = list(range(0,3))\n",
    "child = list(range(3,13))\n",
    "teenager = list(range(13,20))\n",
    "adult = list(range(20,65))\n",
    "senior = [65]\n",
    "\n",
    "\n",
    "\n",
    "if ages in infant:\n",
    "    print(\"You are an infant.\")\n",
    "elif ages in child:\n",
    "    print(\"You are a child.\")\n",
    "elif ages in teenager:\n",
    "    print(\"You are a teen.\")\n",
    "elif ages in adult:\n",
    "    print(\"You are an adult.\")\n",
    "elif ages <0:\n",
    "    print(\"Well that's kinda odd... Maybe try again.\")\n",
    "else : \n",
    "    print(\"Jeez you're old.\")\n",
    "\n",
    "    \n",
    "\n",
    "\n",
    "\n",
    "\n",
    "\n"
   ]
  },
  {
   "cell_type": "markdown",
   "id": "68c8cc42-8197-4ab0-a19f-d1e582eb86ec",
   "metadata": {},
   "source": [
    "### 2. Number Classifier:"
   ]
  },
  {
   "cell_type": "code",
   "execution_count": 15,
   "id": "1dca63e8-22ce-4afe-86ac-114f43f363d7",
   "metadata": {
    "tags": []
   },
   "outputs": [
    {
     "name": "stdin",
     "output_type": "stream",
     "text": [
      "Enter a whole number. 430\n"
     ]
    },
    {
     "name": "stdout",
     "output_type": "stream",
     "text": [
      "Your number, 430 , is positive and even .\n"
     ]
    }
   ],
   "source": [
    "\n",
    "\n",
    "\n",
    "entered_number = input(\"Enter a whole number.\")\n",
    "entered_number = int(entered_number)\n",
    "evenodd = entered_number % 2\n",
    "\n",
    "#using modulus to determine even or odd \n",
    "#using greater than or equal to as basis for pos/neg/zero\n",
    "\n",
    "if entered_number >0:\n",
    "    num = (\"positive\")\n",
    "elif entered_number <0:\n",
    "    num=(\"negative\")\n",
    "else:\n",
    "    num=(\"zero\")\n",
    "\n",
    "if evenodd ==0:\n",
    "    sign=(\"even\")\n",
    "elif evenodd==1:\n",
    "    sign=(\"odd\")\n",
    "    \n",
    "\n",
    "print(\"Your number,\",entered_number, \",\",\"is\",num,\"and\",sign,\".\")"
   ]
  },
  {
   "cell_type": "markdown",
   "id": "b9b5d340-8869-42c2-b409-e637cdd83461",
   "metadata": {},
   "source": [
    "### 3. Simple Calculator: "
   ]
  },
  {
   "cell_type": "code",
   "execution_count": 19,
   "id": "cc62ca28-1a52-497a-a9c8-1c6b1dca3f18",
   "metadata": {
    "tags": []
   },
   "outputs": [
    {
     "name": "stdin",
     "output_type": "stream",
     "text": [
      "Enter the first number for your calculation 4\n",
      "Enter the second number for your calculation 3\n",
      "Enter the operation you would like to perform (*, +, -, /) -\n"
     ]
    },
    {
     "name": "stdout",
     "output_type": "stream",
     "text": [
      "1\n"
     ]
    }
   ],
   "source": [
    "num1 = int(input(\"Enter the first number for your calculation\"))\n",
    "num2 = int(input(\"Enter the second number for your calculation\"))\n",
    "op = input(\"Enter the operation you would like to perform (*, +, -, /)\")\n",
    "\n",
    "\n",
    "if (num2 == 0) and (op ==\"/\"):\n",
    "        print(\"Oof, you can't divide by zero. You should know this...\")\n",
    "        \n",
    "if op == \"*\":\n",
    "    solution = num1 * num2\n",
    "elif op == \"+\":\n",
    "    solution = num1 + num2\n",
    "elif op == \"-\":\n",
    "    solution = num1 - num2\n",
    "elif op == \"/\":\n",
    "    solution = num1 / num2\n",
    "    \n",
    "    \n",
    "print(solution)\n",
    "    \n"
   ]
  },
  {
   "cell_type": "markdown",
   "id": "914d959f-5ce3-49e9-b1e0-320efed8e2e3",
   "metadata": {
    "tags": []
   },
   "source": [
    "### 4. Guessing Game:"
   ]
  },
  {
   "cell_type": "code",
   "execution_count": 44,
   "id": "5a3efa05-de6e-4329-9cd6-e665a714fa18",
   "metadata": {
    "tags": []
   },
   "outputs": [
    {
     "name": "stdin",
     "output_type": "stream",
     "text": [
      "Try guessing the number! 5\n"
     ]
    },
    {
     "name": "stdout",
     "output_type": "stream",
     "text": [
      "Too low\n"
     ]
    },
    {
     "name": "stdin",
     "output_type": "stream",
     "text": [
      "Try guessing the number! 8\n"
     ]
    },
    {
     "name": "stdout",
     "output_type": "stream",
     "text": [
      "Too low\n"
     ]
    },
    {
     "name": "stdin",
     "output_type": "stream",
     "text": [
      "Try guessing the number! 9\n"
     ]
    },
    {
     "name": "stdout",
     "output_type": "stream",
     "text": [
      "Woohoo, you got it! The answer was 9 ! :)\n"
     ]
    }
   ],
   "source": [
    "#a-e \n",
    "import random\n",
    "answer = random.randint(1,10)\n",
    "attempt = 0\n",
    "max_attempt = 5 \n",
    "\n",
    "while attempt < 5: #limits number of guesses possible\n",
    "    guess = int(input(\"Try guessing the number!\"))\n",
    "    attempt += 1 #adds 1 to attempt variable after each guess \n",
    "    if guess>answer:\n",
    "        print(\"Too high\")\n",
    "    elif guess<answer: \n",
    "        print(\"Too low\")\n",
    "    else:\n",
    "        print(\"Woohoo, you got it! The answer was\", answer, \"! :-)\")\n",
    "        break #stops the loop when you get it right\n",
    "\n",
    "if attempt == max_attempt:\n",
    "    print(\"Reached maximum number of attempts. The correct answer was\", answer, \":-(\")\n",
    "\n"
   ]
  },
  {
   "cell_type": "markdown",
   "id": "edc5d512-e2c0-4851-9a04-dffc40cac0d3",
   "metadata": {},
   "source": [
    "### 5. Counter Contrast:"
   ]
  },
  {
   "cell_type": "code",
   "execution_count": 6,
   "id": "83cc6827-7083-4726-bd7d-265b6dc57a4e",
   "metadata": {
    "tags": []
   },
   "outputs": [
    {
     "name": "stdin",
     "output_type": "stream",
     "text": [
      "Give me a positve integer. -3\n"
     ]
    },
    {
     "name": "stdout",
     "output_type": "stream",
     "text": [
      "Nope. Positive integer, please.\n"
     ]
    }
   ],
   "source": [
    "n = int(input(\"Give me a positve integer.\"))      \n",
    "       \n",
    "#a:\n",
    "\n",
    "if n <=0:\n",
    "    print(\"Nope. Positive integer, please.\") \n",
    "    \n",
    "for i in range(1,n+1): #loops printing range until reaches n( + 1 to account for exclusion)\n",
    "        print(i)\n",
    "    "
   ]
  },
  {
   "cell_type": "code",
   "execution_count": 7,
   "id": "b7342082-cbc6-43b0-8be0-6d01a8d724b3",
   "metadata": {
    "tags": []
   },
   "outputs": [
    {
     "name": "stdin",
     "output_type": "stream",
     "text": [
      "Give me a positve integer. 2\n"
     ]
    },
    {
     "name": "stdout",
     "output_type": "stream",
     "text": [
      "1\n",
      "2\n"
     ]
    }
   ],
   "source": [
    "#b\n",
    "n = int(input(\"Give me a positve integer.\"))      \n",
    "\n",
    "if n <=0:\n",
    "    print(\"Nope. Positive integer, please.\")\n",
    "else:\n",
    "    i=1 #replaces the range function from the for loop\n",
    "\n",
    "while i <= n: \n",
    "    print(i)\n",
    "    i=i+1 #keep adding to i (1) until you reach n \n",
    "        "
   ]
  },
  {
   "cell_type": "markdown",
   "id": "05532db5-f46f-41a4-8d7f-6769cc7d08ad",
   "metadata": {},
   "source": [
    "##### I much preferred a for loop *for* this HW problem. I think it was because it was easier for me to understand the problem in the context of a for loop, rather than a while loop where I had to understand what conditions I needed to establish."
   ]
  },
  {
   "cell_type": "markdown",
   "id": "ce7ddf78-caeb-416a-af44-7fffbfa92156",
   "metadata": {},
   "source": [
    "### 6. Multiplication Table:"
   ]
  },
  {
   "cell_type": "code",
   "execution_count": 8,
   "id": "b7f343c5-9cd9-4cf6-883a-fac6d8541eae",
   "metadata": {
    "tags": []
   },
   "outputs": [
    {
     "name": "stdin",
     "output_type": "stream",
     "text": [
      "Give me a number 4\n"
     ]
    },
    {
     "name": "stdout",
     "output_type": "stream",
     "text": [
      "4 x 1 = 4\n",
      "4 x 2 = 8\n",
      "4 x 3 = 12\n",
      "4 x 4 = 16\n",
      "4 x 5 = 20\n",
      "4 x 6 = 24\n",
      "4 x 7 = 28\n",
      "4 x 8 = 32\n",
      "4 x 9 = 36\n",
      "4 x 10 = 40\n"
     ]
    }
   ],
   "source": [
    "n = int(input(\"Give me a number\"))\n",
    "num2 = list(range(1,11)) \n",
    "\n",
    "#a \n",
    "for i in num2:\n",
    "    print(n, \"x\", i, \"=\", i * n) \n",
    "    "
   ]
  },
  {
   "cell_type": "code",
   "execution_count": 49,
   "id": "d7b7c03c-a372-4b9a-8d7a-26decad17283",
   "metadata": {
    "tags": []
   },
   "outputs": [
    {
     "name": "stdin",
     "output_type": "stream",
     "text": [
      "Give me a number 10\n"
     ]
    },
    {
     "name": "stdout",
     "output_type": "stream",
     "text": [
      "10 x 1 = 10\n",
      "10 x 2 = 20\n",
      "10 x 3 = 30\n",
      "10 x 4 = 40\n",
      "10 x 5 = 50\n",
      "10 x 6 = 60\n",
      "10 x 7 = 70\n",
      "10 x 8 = 80\n",
      "10 x 9 = 90\n",
      "10 x 10 = 100\n"
     ]
    }
   ],
   "source": [
    "#b\n",
    "n = int(input(\"Give me a number\"))\n",
    "i = 1 #same as the counter contrast. gives us a condition to use for a while loop. \n",
    "\n",
    "while i <= 10: \n",
    "    result = i * n \n",
    "    print(n, \"x\", i, \"=\", i * n)\n",
    "    i += 1 #add 1 to i each time (replaces the range function) "
   ]
  },
  {
   "cell_type": "markdown",
   "id": "b4aebcf5-6056-4d9d-8545-4039214940d1",
   "metadata": {},
   "source": [
    "##### I still prefer a for loop. Again, I think its easier for me to understand programs like these in the context of a for loop.\n",
    "\n",
    "##### For a program that requires a positive number and continues to prompt for a positive number until entered, a while loop would be easier. I can see what conditions aren't being met much more easily. "
   ]
  }
 ],
 "metadata": {
  "kernelspec": {
   "display_name": "Python 3 (ipykernel)",
   "language": "python",
   "name": "python3"
  },
  "language_info": {
   "codemirror_mode": {
    "name": "ipython",
    "version": 3
   },
   "file_extension": ".py",
   "mimetype": "text/x-python",
   "name": "python",
   "nbconvert_exporter": "python",
   "pygments_lexer": "ipython3",
   "version": "3.11.4"
  }
 },
 "nbformat": 4,
 "nbformat_minor": 5
}
