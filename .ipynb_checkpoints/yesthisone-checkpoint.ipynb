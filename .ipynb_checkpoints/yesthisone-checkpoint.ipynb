{
 "cells": [
  {
   "cell_type": "markdown",
   "id": "36908a24-bbc6-4577-b248-8c50c910e58c",
   "metadata": {
    "tags": []
   },
   "source": [
    "#### Inputting numbers: "
   ]
  },
  {
   "cell_type": "code",
   "execution_count": 2,
   "id": "eeee6d64-d4e5-45b7-b237-30497c0c35bc",
   "metadata": {
    "tags": []
   },
   "outputs": [],
   "source": [
    "def enter_num():\n",
    "    numbers=[]\n",
    "    i=1\n",
    "    while i>=1:\n",
    "        x = input(\"Enter numbers one by one. Type 'done' when finished.\")\n",
    "        i += 1\n",
    "        if x == \"done\":\n",
    "            break \n",
    "        else: \n",
    "            num= float(x)\n",
    "            numbers.append(num)   \n",
    "\n",
    "    print(\"These are the numbers you inputted:\",numbers)"
   ]
  },
  {
   "cell_type": "code",
   "execution_count": 3,
   "id": "a168f26f-d760-488e-adcb-8e2b5ab7965c",
   "metadata": {
    "tags": []
   },
   "outputs": [
    {
     "name": "stdin",
     "output_type": "stream",
     "text": [
      "Enter numbers one by one. Type 'done' when finished. 3\n",
      "Enter numbers one by one. Type 'done' when finished. 4\n",
      "Enter numbers one by one. Type 'done' when finished. 5\n",
      "Enter numbers one by one. Type 'done' when finished. done\n"
     ]
    },
    {
     "name": "stdout",
     "output_type": "stream",
     "text": [
      "These are the numbers you inputted: [3.0, 4.0, 5.0]\n"
     ]
    }
   ],
   "source": [
    "enter_num()"
   ]
  },
  {
   "cell_type": "markdown",
   "id": "c4bfcfc3-0144-4c6d-aa37-807ad86793d6",
   "metadata": {},
   "source": [
    "#### Menu:"
   ]
  },
  {
   "cell_type": "code",
   "execution_count": null,
   "id": "cdb497f6-0c0e-4a3e-82cf-c9c5b8bf114b",
   "metadata": {
    "tags": []
   },
   "outputs": [
    {
     "name": "stdout",
     "output_type": "stream",
     "text": [
      "Option 1: Input Numbers\n",
      "Option 2: Calculate Mean\n",
      "Option 3: Calculate Variance\n",
      "Option 4: Calculate Standard Deviation\n",
      "Option 5: Calculate Standard Error\n",
      "Option 6: Calculate Z-score\n",
      "Option 7: Quit :) \n"
     ]
    },
    {
     "name": "stdin",
     "output_type": "stream",
     "text": [
      "Enter your choice (number): 3\n"
     ]
    },
    {
     "name": "stdout",
     "output_type": "stream",
     "text": [
      "Option 1: Input Numbers\n",
      "Option 2: Calculate Mean\n",
      "Option 3: Calculate Variance\n",
      "Option 4: Calculate Standard Deviation\n",
      "Option 5: Calculate Standard Error\n",
      "Option 6: Calculate Z-score\n",
      "Option 7: Quit :) \n"
     ]
    }
   ],
   "source": [
    "def menu(): \n",
    "    print(\"Option 1: Input Numbers\")\n",
    "    print(\"Option 2: Calculate Mean\")\n",
    "    print(\"Option 3: Calculate Variance\")\n",
    "    print(\"Option 4: Calculate Standard Deviation\")\n",
    "    print(\"Option 5: Calculate Standard Error\")\n",
    "    print(\"Option 6: Calculate Z-score\")\n",
    "    print(\"Option 7: Quit :) \")\n",
    "    \n",
    "while True: \n",
    "    menu()\n",
    "    choice = input(\"Enter your choice (number):\")\n",
    "    \n",
    "    if choice == '1':\n",
    "        enter_num()\n",
    "        \n",
    "    \n",
    "        \n",
    "        "
   ]
  },
  {
   "cell_type": "code",
   "execution_count": null,
   "id": "c0cf142d-fd69-457d-ab12-9149decf7854",
   "metadata": {},
   "outputs": [],
   "source": []
  },
  {
   "cell_type": "code",
   "execution_count": 47,
   "id": "b570d6cc-a255-43e0-a69f-f728ee1cae63",
   "metadata": {
    "tags": []
   },
   "outputs": [
    {
     "name": "stdin",
     "output_type": "stream",
     "text": [
      "Enter numbers one by one. Type 'done' when finished. 234\n",
      "Enter numbers one by one. Type 'done' when finished. 234\n",
      "Enter numbers one by one. Type 'done' when finished. 6457\n",
      "Enter numbers one by one. Type 'done' when finished. 242\n",
      "Enter numbers one by one. Type 'done' when finished. 34.3\n",
      "Enter numbers one by one. Type 'done' when finished. 2\n",
      "Enter numbers one by one. Type 'done' when finished. 4\n",
      "Enter numbers one by one. Type 'done' when finished. 5\n",
      "Enter numbers one by one. Type 'done' when finished. done\n"
     ]
    },
    {
     "name": "stdout",
     "output_type": "stream",
     "text": [
      "[234.0, 234.0, 6457.0, 242.0, 34.3, 2.0, 4.0, 5.0]\n"
     ]
    }
   ],
   "source": [
    "numbers=[]\n",
    "i=1\n",
    "\n",
    "while i>=1:\n",
    "    x = input(\"Enter numbers one by one. Type 'done' when finished.\")\n",
    "    i += 1\n",
    "    if x == \"done\":\n",
    "        break \n",
    "    else: \n",
    "        num= float(x)\n",
    "        numbers.append(num)   \n",
    "\n",
    "print(numbers)"
   ]
  },
  {
   "cell_type": "markdown",
   "id": "828cbd39-40e8-4af6-b9c9-adfa4efa17d4",
   "metadata": {},
   "source": [
    "### Computational Operators"
   ]
  },
  {
   "cell_type": "markdown",
   "id": "1fff6cbe-46dd-458e-809d-7d27201b08a5",
   "metadata": {
    "tags": []
   },
   "source": [
    "#### Mean: "
   ]
  },
  {
   "cell_type": "code",
   "execution_count": 33,
   "id": "d95de505-0409-4bd5-a412-d953e982fe78",
   "metadata": {},
   "outputs": [],
   "source": [
    "def mean(numbers):\n",
    "    mean=sum(numbers)/len(numbers)\n",
    "    print(f\"Mean = {mean:.3f}\")\n",
    "    \n",
    " "
   ]
  },
  {
   "cell_type": "code",
   "execution_count": 34,
   "id": "5440481e-c392-46e8-97f4-ba6259027994",
   "metadata": {
    "tags": []
   },
   "outputs": [
    {
     "name": "stdout",
     "output_type": "stream",
     "text": [
      "Mean = 3.200\n"
     ]
    }
   ],
   "source": [
    "mean(numbers)"
   ]
  },
  {
   "cell_type": "markdown",
   "id": "7056bd24-0797-4cb8-982a-ae778bf8e665",
   "metadata": {},
   "source": [
    "#### Variance: "
   ]
  },
  {
   "cell_type": "code",
   "execution_count": 35,
   "id": "7008a4c4-2e92-4bdf-99e8-9dae6baa3a3b",
   "metadata": {
    "tags": []
   },
   "outputs": [],
   "source": [
    "def variance(numbers):\n",
    "    mean = sum(numbers) / len(numbers)\n",
    "    squared_deviation = [(num - mean) ** 2 for num in numbers]\n",
    "    sum_of_squares= sum(squared_deviation)\n",
    "    var = sum_of_squares/(len(numbers)-1)\n",
    "    print(f\"Variance = {var:.3f}\")\n"
   ]
  },
  {
   "cell_type": "code",
   "execution_count": 36,
   "id": "6b9a8ced-7826-4200-86de-a9caf6ca7881",
   "metadata": {},
   "outputs": [
    {
     "name": "stdout",
     "output_type": "stream",
     "text": [
      "Variance = 1.700\n"
     ]
    }
   ],
   "source": [
    "variance(numbers)"
   ]
  },
  {
   "cell_type": "markdown",
   "id": "e78e7bfc-2ad7-414f-b57a-d73d7fab81ce",
   "metadata": {},
   "source": [
    "#### Standard Deviation:"
   ]
  },
  {
   "cell_type": "code",
   "execution_count": 37,
   "id": "d8b58030-3bcf-4579-bc7b-b7901937ab2d",
   "metadata": {
    "tags": []
   },
   "outputs": [],
   "source": [
    "def st_dev(numbers):\n",
    "    mean = sum(numbers) / len(numbers)\n",
    "    squared_deviation = [(num - mean) ** 2 for num in numbers]\n",
    "    sum_of_squares= sum(squared_deviation)\n",
    "    var = sum_of_squares/(len(numbers)-1)\n",
    "    std_dev= var**(1/2)\n",
    "    print(f\"Standard Deviation = {std_dev:.3f}\")\n"
   ]
  },
  {
   "cell_type": "code",
   "execution_count": 38,
   "id": "e5435d4f-8ab5-4306-bafe-fdce0e2ab135",
   "metadata": {
    "tags": []
   },
   "outputs": [
    {
     "name": "stdout",
     "output_type": "stream",
     "text": [
      "Standard Deviation = 1.304\n"
     ]
    }
   ],
   "source": [
    "st_dev(numbers)"
   ]
  },
  {
   "cell_type": "markdown",
   "id": "86df2764-ef29-4b99-9202-1160417d92c3",
   "metadata": {},
   "source": [
    "#### Standard Error: "
   ]
  },
  {
   "cell_type": "code",
   "execution_count": 39,
   "id": "4bb4d9bd-b9e9-4018-a784-cbd0adf517b5",
   "metadata": {
    "tags": []
   },
   "outputs": [],
   "source": [
    "def std_err(numbers):\n",
    "    mean = sum(numbers) / len(numbers)\n",
    "    squared_deviation = [(num - mean) ** 2 for num in numbers]\n",
    "    sum_of_squares= sum(squared_deviation)\n",
    "    var = sum_of_squares/(len(numbers)-1)\n",
    "    std_dev= var**(1/2)\n",
    "    std_err= std_dev/((len(numbers))**(1/2))\n",
    "    print(f\"Standard Error = {std_err:.3f}\")\n"
   ]
  },
  {
   "cell_type": "code",
   "execution_count": 40,
   "id": "e39bc388-dfa7-409e-8688-4564557b6ae8",
   "metadata": {
    "tags": []
   },
   "outputs": [
    {
     "name": "stdout",
     "output_type": "stream",
     "text": [
      "Standard Error = 0.583\n"
     ]
    }
   ],
   "source": [
    "std_err(numbers)"
   ]
  },
  {
   "cell_type": "markdown",
   "id": "cd4110ee-f555-4c71-834d-8dc38a3f76bd",
   "metadata": {},
   "source": [
    "#### Z-Score: "
   ]
  },
  {
   "cell_type": "code",
   "execution_count": 41,
   "id": "416d6b21-faef-4870-ae4a-e85f97d975dd",
   "metadata": {
    "tags": []
   },
   "outputs": [],
   "source": [
    "def z_score(numbers):\n",
    "    observed_value= float(input(\"Enter a new observation to calculate z-score\"))\n",
    "    mean = sum(numbers) / len(numbers)\n",
    "    squared_deviation = [(num - mean) ** 2 for num in numbers]\n",
    "    sum_of_squares= sum(squared_deviation)\n",
    "    var = sum_of_squares/(len(numbers)-1)\n",
    "    std_dev= var**(1/2)\n",
    "    z= (observed_value - mean)/std_dev\n",
    "    print(f\"Z-score = {z:.3f}\")\n",
    "    \n"
   ]
  },
  {
   "cell_type": "code",
   "execution_count": 42,
   "id": "91e116bd-daa2-466a-84d9-2deb750f9279",
   "metadata": {
    "tags": []
   },
   "outputs": [
    {
     "name": "stdin",
     "output_type": "stream",
     "text": [
      "Enter a new observation to calculate z-score 34\n"
     ]
    },
    {
     "name": "stdout",
     "output_type": "stream",
     "text": [
      "Z-score = 23.623\n"
     ]
    }
   ],
   "source": [
    "z_score(numbers)"
   ]
  },
  {
   "cell_type": "markdown",
   "id": "965cfadf-9922-4d26-85de-4bdbc94fe886",
   "metadata": {
    "tags": []
   },
   "source": [
    "#### Summary: "
   ]
  },
  {
   "cell_type": "code",
   "execution_count": 44,
   "id": "78ccff9f-4f37-4fca-8da0-72b0bcb7b038",
   "metadata": {
    "tags": []
   },
   "outputs": [],
   "source": [
    "def summary(numbers): \n",
    "    observed_value= float(input(\"Enter a new observation to calculate z-score\"))\n",
    "    mean = sum(numbers) / len(numbers)\n",
    "    squared_deviation = [(num - mean) ** 2 for num in numbers]\n",
    "    sum_of_squares= sum(squared_deviation)\n",
    "    var = sum_of_squares/(len(numbers)-1)\n",
    "    std_dev= var**(1/2)\n",
    "    std_err= std_dev/((len(numbers))**(1/2))\n",
    "    z= (observed_value - mean)/std_dev\n",
    "    #clean outputs\n",
    "    print(f\"Mean = {mean:.3f}\")\n",
    "    print(f\"Variance = {var:.3f}\")\n",
    "    print(f\"Standard Deviation = {std_dev:.3f}\")\n",
    "    print(f\"Standard Error = {std_err:.3f}\")\n",
    "    print(f\"Z-score = {z:.3f}\")"
   ]
  },
  {
   "cell_type": "code",
   "execution_count": 48,
   "id": "c05fe385-9d8d-4347-936c-9998477bc64f",
   "metadata": {
    "tags": []
   },
   "outputs": [
    {
     "name": "stdin",
     "output_type": "stream",
     "text": [
      "Enter a new observation to calculate z-score 2\n"
     ]
    },
    {
     "name": "stdout",
     "output_type": "stream",
     "text": [
      "Mean = 901.538\n",
      "Variance = 5051426.797\n",
      "Standard Deviation = 2247.538\n",
      "Standard Error = 794.625\n",
      "Z-score = -0.400\n"
     ]
    }
   ],
   "source": [
    "summary(numbers)"
   ]
  }
 ],
 "metadata": {
  "kernelspec": {
   "display_name": "Python 3 (ipykernel)",
   "language": "python",
   "name": "python3"
  },
  "language_info": {
   "codemirror_mode": {
    "name": "ipython",
    "version": 3
   },
   "file_extension": ".py",
   "mimetype": "text/x-python",
   "name": "python",
   "nbconvert_exporter": "python",
   "pygments_lexer": "ipython3",
   "version": "3.11.4"
  }
 },
 "nbformat": 4,
 "nbformat_minor": 5
}
