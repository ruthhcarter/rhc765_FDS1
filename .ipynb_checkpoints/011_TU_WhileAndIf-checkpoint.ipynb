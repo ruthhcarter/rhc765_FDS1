{
 "cells": [
  {
   "cell_type": "markdown",
   "id": "4ee24606",
   "metadata": {
    "editable": true,
    "slideshow": {
     "slide_type": ""
    },
    "tags": []
   },
   "source": [
    "# Basic control flow in Python II: Logic, `if`, and `while`"
   ]
  },
  {
   "cell_type": "markdown",
   "id": "9643a583",
   "metadata": {},
   "source": [
    "### Learning outcomes:\n",
    " - Learn more about  control flow in python\n",
    " - Comparisons and Logical operators\n",
    " - `if`, `else` statements\n",
    " - `while` loops"
   ]
  },
  {
   "cell_type": "markdown",
   "id": "2918365b",
   "metadata": {},
   "source": [
    "Last time, we covered `for` loops, which allow us to repeat an action a fixed number of times. This time, we'll cover some other aspects of control flow that allow computer programs to be more flexible and therefore more powerful."
   ]
  },
  {
   "cell_type": "markdown",
   "id": "17249da9",
   "metadata": {},
   "source": [
    "Recall our little scenario from the last tutorial:\n",
    "\n",
    "  - Walk to the door\n",
    "  - ***If*** the door ***is*** closed, open the door\n",
    "  - Walk through the door\n",
    "  - Continue walking ***for*** 10 more steps to the elevator\n",
    "  - ***If*** the elevator door ***is not*** open, press the button\n",
    "  - ***While*** the door is not open, wait\n",
    "  - Enter the elevator\n",
    "  - ***If*** the button for your floor *is not* lit, press the button"
   ]
  },
  {
   "cell_type": "markdown",
   "id": "c816084e",
   "metadata": {},
   "source": [
    "Notice we had a `for` in there, but we had some other stuff too, like `while` and `if` and logical tests like (effictively) `door != open` and `door == closed`. It's these things we wil cover today and, when we're finished, we will have a fairly complete \"control flow toolbox\" at our disposal."
   ]
  },
  {
   "cell_type": "markdown",
   "id": "a38d572b",
   "metadata": {},
   "source": [
    "### Control flow: Logical Tests and Boolean Operators"
   ]
  },
  {
   "cell_type": "markdown",
   "id": "d62720d2",
   "metadata": {},
   "source": [
    "Believe it or not, everything that happens on your phone or computer comes down to lots – **LOTS** – of little decisions based on one or two inputs that can be either \"True\" or \"False\", and an output that can also be \"True\" or \"False\". \n",
    "\n",
    "Seriously, everything on any digitial device – from Tik Tok videos to your Python code – comes down to a whole bunch of truths and falsehoods (ones and zeros) that are themselves the result of decisions based on other truths and falsehoods. The \"decision makers\" are actual physical (but teeny teeny tiny) devices that are combinations of things called [*transistors*](https://en.wikipedia.org/wiki/Transistor). The transistor is important that the three folks that built the first working one were awarded the Nobel Prize in Physics. \n",
    "\n",
    "Two are the primary operations performed by transistors:\n",
    "\n",
    "* ***Comparison*** operations like `==` (equals) and `>` (greater than) that yield `True` or `False`\n",
    "* ***Logical*** operations that use ***Boolean logic***, which compares two logical inputs and returns `True` or `False` like  `A and B` (`True` only if both A and B are `True`) and `A or B` (`True` if either A or B – or both – are `True`).\n",
    "\n",
    "Let's play with this. It might seem a bit silly and obvious now, but the power of logical tests will reveal itself soon."
   ]
  },
  {
   "cell_type": "markdown",
   "id": "d4090476-f4e9-4bda-be38-de11b569ae3b",
   "metadata": {},
   "source": [
    "#### Comparison operators"
   ]
  },
  {
   "cell_type": "markdown",
   "id": "972d9f1a-9116-42a7-9f87-f03bc193e530",
   "metadata": {},
   "source": [
    "These are operators that test one value against another. Imagine wanting to ask, whether the number of lives your kitty cat has ([which is 9 in the U.S., but only 7 in Italy and 6 according to Arabic tradition](https://en.wikipedia.org/wiki/Cat#Superstitions_and_rituals)) is different than the number of lives of [Schrödinger's cat](https://en.wikipedia.org/wiki/Schr%C3%B6dinger%27s_cat) has. This would involve testing two numbers for perhaps:\n",
    "\n",
    "* equality `==`\n",
    "* inequality `!=`\n",
    "* greater than `>`\n",
    "* less than `<`\n",
    "* greater than or equal to `>=`\n",
    "* less than or equal to `<=`\n"
   ]
  },
  {
   "cell_type": "code",
   "execution_count": null,
   "id": "2dbf26ba-3e31-41e8-b41d-10def8dc8c51",
   "metadata": {},
   "outputs": [],
   "source": [
    "Schrd_cat_lives = 1\n",
    "our_kitty_lives = 9\n",
    "our_kitty_lives > Schrd_cat_lives"
   ]
  },
  {
   "cell_type": "markdown",
   "id": "40148ae3",
   "metadata": {},
   "source": [
    "Let's set a variable `x` to 11. (Most amps only go up to 10, but our amp, `x`, goes up to 11!)"
   ]
  },
  {
   "cell_type": "code",
   "execution_count": null,
   "id": "6d8b3d4f",
   "metadata": {},
   "outputs": [],
   "source": [
    "x = 11\n",
    "x"
   ]
  },
  {
   "cell_type": "markdown",
   "id": "5378f9ef",
   "metadata": {},
   "source": [
    "Now let's do some logical tests on our variable `x`. Let's see if `x` is less than `42`."
   ]
  },
  {
   "cell_type": "code",
   "execution_count": null,
   "id": "c8841a2d",
   "metadata": {},
   "outputs": [],
   "source": [
    "x < 42"
   ]
  },
  {
   "cell_type": "markdown",
   "id": "6f72847c",
   "metadata": {},
   "source": [
    "---"
   ]
  },
  {
   "cell_type": "markdown",
   "id": "70f3a756",
   "metadata": {},
   "source": [
    "Use the code cell below to test if `x` is greater than `42`."
   ]
  },
  {
   "cell_type": "code",
   "execution_count": null,
   "id": "391f5de7",
   "metadata": {},
   "outputs": [],
   "source": []
  },
  {
   "cell_type": "markdown",
   "id": "aa68f2fc",
   "metadata": {},
   "source": [
    "---"
   ]
  },
  {
   "cell_type": "markdown",
   "id": "61ba2cac",
   "metadata": {},
   "source": [
    "We can also test for equality. Is `x` equal to `42`?"
   ]
  },
  {
   "cell_type": "code",
   "execution_count": null,
   "id": "788198b2",
   "metadata": {},
   "outputs": [],
   "source": [
    "x == 42"
   ]
  },
  {
   "cell_type": "markdown",
   "id": "85c23215",
   "metadata": {},
   "source": [
    "Finally, we can test for *inequality*. (We test whether it is true that x is *not* equal to a specific number). "
   ]
  },
  {
   "cell_type": "code",
   "execution_count": null,
   "id": "c6149376",
   "metadata": {},
   "outputs": [],
   "source": [
    "x != 42"
   ]
  },
  {
   "cell_type": "markdown",
   "id": "8e839816",
   "metadata": {},
   "source": [
    "The exclamation point here means \"not\", so the experession `x != 42` can be read as \"is x not equal to 42?\"\n",
    "\n",
    "And the answer is \"That's `True`! The variable `x` is not equal to 42!\""
   ]
  },
  {
   "cell_type": "markdown",
   "id": "b3659874",
   "metadata": {},
   "source": [
    "---"
   ]
  },
  {
   "cell_type": "markdown",
   "id": "6f2ac065",
   "metadata": {},
   "source": [
    "In the code cell below, test to see if `x` has the value 11."
   ]
  },
  {
   "cell_type": "code",
   "execution_count": null,
   "id": "de832c9a",
   "metadata": {},
   "outputs": [],
   "source": []
  },
  {
   "cell_type": "markdown",
   "id": "fb5f5999-af4a-4644-8915-9874aeef620c",
   "metadata": {},
   "source": [
    "Now test `x` to see if it does not have the value 11."
   ]
  },
  {
   "cell_type": "code",
   "execution_count": null,
   "id": "3fe4402d-e905-4c64-a76e-fb8b762feb00",
   "metadata": {},
   "outputs": [],
   "source": []
  },
  {
   "cell_type": "markdown",
   "id": "93d10eb2",
   "metadata": {},
   "source": [
    "---"
   ]
  },
  {
   "cell_type": "markdown",
   "id": "ce9b435d",
   "metadata": {},
   "source": [
    "As you might have noticed, all these operations are *built in.* This means that we did not have to import any specific package to access the operations. Python provides these operations as they are core functionality, the bread and butter of most users, or better said, of most programmers. Like you!"
   ]
  },
  {
   "cell_type": "markdown",
   "id": "a40d4dd6-fb9c-498a-ae65-d11e337075e9",
   "metadata": {},
   "source": [
    "#### Combining comparison operators: `and` and `or`"
   ]
  },
  {
   "cell_type": "markdown",
   "id": "25ed8782-1404-4182-bc2c-97a0ea990ed3",
   "metadata": {},
   "source": [
    "You can make tests arbitratily complex by combining logical tests. For example, let's make 4 variables:"
   ]
  },
  {
   "cell_type": "code",
   "execution_count": null,
   "id": "e3d3b155-95da-4c8d-a2d2-03c78ad98a56",
   "metadata": {},
   "outputs": [],
   "source": [
    "a, b, c, d = 1, 2, 3, 4"
   ]
  },
  {
   "cell_type": "markdown",
   "id": "5172d29f-63cf-4982-9b84-04c8d2c3b38d",
   "metadata": {},
   "source": [
    "Now we can test if **two** conditions are **both** `True`:"
   ]
  },
  {
   "cell_type": "code",
   "execution_count": null,
   "id": "167da86b-9867-470f-b65c-794e239fe916",
   "metadata": {},
   "outputs": [],
   "source": [
    "a < b and b < c"
   ]
  },
  {
   "cell_type": "code",
   "execution_count": null,
   "id": "958f41bb-dd69-45d6-865e-9a952c96f495",
   "metadata": {},
   "outputs": [],
   "source": [
    "a < b and b < a"
   ]
  },
  {
   "cell_type": "markdown",
   "id": "aacb530a-8278-44b1-a3e3-769490102ced",
   "metadata": {},
   "source": [
    "Or we can see if **either** are `True`:"
   ]
  },
  {
   "cell_type": "code",
   "execution_count": null,
   "id": "d26e92c7-4b51-47e1-b75a-d88cde121bac",
   "metadata": {},
   "outputs": [],
   "source": [
    "a < b or b < c"
   ]
  },
  {
   "cell_type": "code",
   "execution_count": null,
   "id": "230c0b87-18cf-4e35-9eaa-ac585276dcaa",
   "metadata": {},
   "outputs": [],
   "source": [
    "a < b or b < a"
   ]
  },
  {
   "cell_type": "markdown",
   "id": "0416d346-065f-4a0a-85aa-2291154e57e6",
   "metadata": {},
   "source": [
    "(Make sure and compare the last two code cells and their outputs with the two before them."
   ]
  },
  {
   "cell_type": "markdown",
   "id": "d39decad-4c45-4c7a-a937-d003b3547231",
   "metadata": {},
   "source": [
    "Believe it or not, we just did the first steps of building your smartphone! Or your laptop! One transitor did the left test, another did the right test, and a third transistor did the middle one (`and` or `or`). Everything your phone or computer does is just a vast, vast combination of operations like these."
   ]
  },
  {
   "cell_type": "markdown",
   "id": "b54725bc-f806-4ec0-9087-7435fe22e103",
   "metadata": {},
   "source": [
    "#### Flipping the script with `not`"
   ]
  },
  {
   "cell_type": "markdown",
   "id": "aabc4068-378a-4bd4-aae5-3a4d1f1e2978",
   "metadata": {},
   "source": [
    "To make thing really interesting, we can toggle `False` and `True` values with `not`:"
   ]
  },
  {
   "cell_type": "code",
   "execution_count": null,
   "id": "f2e00e3f-4260-4ddc-b6a2-b63efc21e5dc",
   "metadata": {},
   "outputs": [],
   "source": [
    "a < b"
   ]
  },
  {
   "cell_type": "code",
   "execution_count": null,
   "id": "079ea565-3e63-42e9-a0d0-80bec68af5af",
   "metadata": {},
   "outputs": [],
   "source": [
    "not a < b"
   ]
  },
  {
   "cell_type": "code",
   "execution_count": null,
   "id": "029e99a6-74ac-4829-bcdc-c0f1372c7c2e",
   "metadata": {},
   "outputs": [],
   "source": [
    "not not a < b  # don't do this in real code!"
   ]
  },
  {
   "cell_type": "markdown",
   "id": "1451ea87-4802-4c59-9f10-b59b1c9436df",
   "metadata": {},
   "source": [
    "You can use parenthesis to group things. Notice the difference between:"
   ]
  },
  {
   "cell_type": "code",
   "execution_count": null,
   "id": "0f9d2aca-3510-4388-bd69-df224096144d",
   "metadata": {},
   "outputs": [],
   "source": [
    "not b < a or a < b"
   ]
  },
  {
   "cell_type": "markdown",
   "id": "07624f42-1abd-45be-8d58-cd3f6c76171a",
   "metadata": {},
   "source": [
    "and:"
   ]
  },
  {
   "cell_type": "code",
   "execution_count": null,
   "id": "83e961cc-30f4-4d34-8e30-0f5e6975204f",
   "metadata": {},
   "outputs": [],
   "source": [
    "not (b < a or a < b)"
   ]
  },
  {
   "cell_type": "markdown",
   "id": "c6f0a4e6-986f-429c-8526-67aa55b2c707",
   "metadata": {},
   "source": [
    "You can also use parentheses just to make things more clear (human readable), even if you don't need them:"
   ]
  },
  {
   "cell_type": "code",
   "execution_count": null,
   "id": "db1566e8-318c-4977-9d05-f34d16227d84",
   "metadata": {},
   "outputs": [],
   "source": [
    "not (b < a) or (a < b)"
   ]
  },
  {
   "cell_type": "markdown",
   "id": "611de1d3-e1a7-4ecd-bc63-c4c00e3251ec",
   "metadata": {},
   "source": [
    "#### Testing for inclusion with `in`"
   ]
  },
  {
   "cell_type": "markdown",
   "id": "1b4c74a8-7bd3-4aeb-8ec4-82c79c18748d",
   "metadata": {},
   "source": [
    "A really handy feature of Python is that you can use `in` outside the context of a `for` loop to test whether one object is `in` another. Consider:"
   ]
  },
  {
   "cell_type": "code",
   "execution_count": null,
   "id": "af213fd7-b8b0-4b6b-a2c5-2a15bbc1bb18",
   "metadata": {},
   "outputs": [],
   "source": [
    "x, y = 4, 2\n",
    "a, b = [1, 2, 3], [6, 5, 4]"
   ]
  },
  {
   "cell_type": "markdown",
   "id": "1323c457-33c8-406d-a8d0-ce36f455b061",
   "metadata": {},
   "source": [
    "Now we can quickly and easly see if `x` or `y` is in `a` or `b`. For example:"
   ]
  },
  {
   "cell_type": "code",
   "execution_count": null,
   "id": "714612a9-549d-41dd-ad8f-21018a3d2f17",
   "metadata": {},
   "outputs": [],
   "source": [
    "x in a"
   ]
  },
  {
   "cell_type": "code",
   "execution_count": null,
   "id": "75dd9ae9-846e-422d-b381-692cdbed7b67",
   "metadata": {},
   "outputs": [],
   "source": [
    "x in b"
   ]
  },
  {
   "cell_type": "markdown",
   "id": "b7892ad5-274c-429b-81a0-10cbf32f4981",
   "metadata": {},
   "source": [
    "---"
   ]
  },
  {
   "cell_type": "markdown",
   "id": "df2deca7-c819-411c-8a0b-13e2f76881ed",
   "metadata": {},
   "source": [
    "In the cell below, test to see if `x` is in *either* `a` or `b` in one line."
   ]
  },
  {
   "cell_type": "code",
   "execution_count": null,
   "id": "ba88ee96-07e7-4735-bb9d-1108e7d77ecc",
   "metadata": {},
   "outputs": [],
   "source": []
  },
  {
   "cell_type": "markdown",
   "id": "f9330aa5-dc39-4801-8711-9bcd778cb9e6",
   "metadata": {},
   "source": [
    "Now test to see if `x` is in *both* `a` and `b`."
   ]
  },
  {
   "cell_type": "code",
   "execution_count": null,
   "id": "83c74433-f545-43bc-aba4-c974bc36c85b",
   "metadata": {},
   "outputs": [],
   "source": []
  },
  {
   "cell_type": "markdown",
   "id": "0da0d4a0-3eb1-44ad-b491-39fb1a72418f",
   "metadata": {},
   "source": [
    "---"
   ]
  },
  {
   "cell_type": "markdown",
   "id": "b6f78351-72e3-43ca-9c22-a3b1d802d26a",
   "metadata": {},
   "source": [
    "You can also throw in a `not`!"
   ]
  },
  {
   "cell_type": "code",
   "execution_count": null,
   "id": "a28cbc1b-8787-4b3a-a4f8-bcc5ae0f4f74",
   "metadata": {},
   "outputs": [],
   "source": [
    "x not in a and x in b"
   ]
  },
  {
   "cell_type": "markdown",
   "id": "82b058ab-c003-4752-a65c-5f287be05ad0",
   "metadata": {},
   "source": [
    "Here, we can point out how nice a language Python is, because the above statement is easy to read: \"Hey, Python, can you tell me if `x` is not in `a` but is in `b`?\"  \n",
    "Any Python answers with a `True` or `False` (`True` in this case)."
   ]
  },
  {
   "cell_type": "markdown",
   "id": "78bc82bd-581b-49ae-9418-609792ff9d86",
   "metadata": {},
   "source": [
    "Okay, so logical tests are fundemental blah.. blah... but how do we really use them in code? One **huge** use of logical tests is to *branch* code execution using the `if`."
   ]
  },
  {
   "cell_type": "markdown",
   "id": "99d31a61-df12-454f-aa03-d912694d6c12",
   "metadata": {},
   "source": [
    "---"
   ]
  },
  {
   "cell_type": "markdown",
   "id": "7019bb28",
   "metadata": {},
   "source": [
    "### Control flow: `if`, (`elif`), (`else`) statements"
   ]
  },
  {
   "cell_type": "markdown",
   "id": "ded2ac3c",
   "metadata": {},
   "source": [
    "Fundamental to any programming language is the ability to express conditional statements such as `if` something is `True`, then do this. Or, `if` something is `True`, then do this, `else` do that. These are basic building blocks of coding, as they allow controlling the flow of the the program, making branch to different code depending on the conditions met.  In life, you might say \"I can eat my cake only if I went out for a run today.\" In code, you might want to say \"`if` an input is not zero, divide it into some other number, `else` `print(\"You can't divide by zero, silly!`)."
   ]
  },
  {
   "cell_type": "markdown",
   "id": "2148c428",
   "metadata": {},
   "source": [
    "Here are some simple examples. First, we'll test whether a number you input is \"big\". Run it once with a number greater than 100, then again with a number less than 100. "
   ]
  },
  {
   "cell_type": "code",
   "execution_count": null,
   "id": "5e091f9e-c744-4ad4-9539-ce60e0d29cc1",
   "metadata": {},
   "outputs": [],
   "source": [
    "a_big_number = 100\n",
    "\n",
    "x = input(\"Give me a number!\\n\")\n",
    "x = int(x)\n",
    "\n",
    "if x > a_big_number :\n",
    "    print('Yes, it is a big number!')"
   ]
  },
  {
   "cell_type": "markdown",
   "id": "60a20ab1-9f5d-4432-bf04-10a4bab9a118",
   "metadata": {},
   "source": [
    "That's great for a \"big\" number, but not so satisfying for a \"small\" number, huh? Let's rectify this by adding an `else`:"
   ]
  },
  {
   "cell_type": "code",
   "execution_count": null,
   "id": "766b0b79",
   "metadata": {},
   "outputs": [],
   "source": [
    "a_big_number = 100\n",
    "\n",
    "x = input(\"Give me a number!\\n\")\n",
    "x = int(x)\n",
    "\n",
    "if x > a_big_number :\n",
    "    print('Yes, it is a big number!')\n",
    "else :\n",
    "    print('Nope, small!')"
   ]
  },
  {
   "cell_type": "markdown",
   "id": "9194602b-71e0-47d7-afc3-96a6c745adff",
   "metadata": {},
   "source": [
    "Let's make sure we understand what's going on here. The first thing that happens when the `if` line is reached is that the expression\n",
    "```\n",
    "x > a_big_number\n",
    "```\n",
    "is evaluated. It can *only* evaluate to either `True` or `False` (1 or 0); those are the only alternatives. If it evaluates to `True`, then whatever is (indented!) in the `if` block is evaluated. Otherwise, code execution falls to the `else` block, and whatever is in that block (indented!) gets evaluated instead."
   ]
  },
  {
   "cell_type": "markdown",
   "id": "133dea2b",
   "metadata": {},
   "source": [
    "We can even add another test using the `elif` (\"else if\") statement. Here, we ask for a tempurature, and say what that tempurature is like in a normal place."
   ]
  },
  {
   "cell_type": "code",
   "execution_count": null,
   "id": "0341c2e5",
   "metadata": {},
   "outputs": [],
   "source": [
    "test_temp = input(\"Give me a tempurature (in F)!\")\n",
    "test_temp = int(test_temp)\n",
    "\n",
    "if test_temp >= 90 :\n",
    "    print('Too hot!')\n",
    "elif test_temp <= 50 :\n",
    "    print('Too cold!')\n",
    "else :\n",
    "    print('Just right!')"
   ]
  },
  {
   "cell_type": "markdown",
   "id": "905d8af8-1ebd-40df-8bd5-85af6f392a7b",
   "metadata": {},
   "source": [
    "And we can modify that code to say what that tempurature is like in Austin, Texas."
   ]
  },
  {
   "cell_type": "code",
   "execution_count": null,
   "id": "45f57b6e-d3d4-49c0-a60c-69a33cecffd4",
   "metadata": {},
   "outputs": [],
   "source": [
    "test_temp = input(\"Give me a temperature (in F)!\")\n",
    "test_temp = int(test_temp)\n",
    "\n",
    "if test_temp >= 110 :\n",
    "    print('Too hot!')\n",
    "elif test_temp <= 75 :\n",
    "    print('Too cold!')\n",
    "else :\n",
    "    print('Just right!')"
   ]
  },
  {
   "cell_type": "markdown",
   "id": "3d064e4c-2605-421a-9bdc-199edf214ebc",
   "metadata": {},
   "source": [
    "We can (and should) make the threshold \"high\" and \"low\" temperature variables, so we can change them easily:"
   ]
  },
  {
   "cell_type": "code",
   "execution_count": null,
   "id": "b06dd350-f546-430c-9b43-ccd50f6bb1bc",
   "metadata": {},
   "outputs": [],
   "source": [
    "too_hot, too_cold = 110, 75\n",
    "\n",
    "test_temp = input(\"Give me a temperature (in F)!\")\n",
    "test_temp = int(test_temp)\n",
    "\n",
    "if test_temp >= too_hot :\n",
    "    print('Too hot!')\n",
    "elif test_temp <= too_cold :\n",
    "    print('Too cold!')\n",
    "else :\n",
    "    print('Just right!')"
   ]
  },
  {
   "cell_type": "markdown",
   "id": "ba8c4f05-a23f-4a35-a9cc-42b6e8ef9633",
   "metadata": {},
   "source": [
    "---"
   ]
  },
  {
   "cell_type": "markdown",
   "id": "69874195-6b6b-46e8-af98-e73ecc187272",
   "metadata": {},
   "source": [
    "In the cell below, write a little program that \n",
    "\n",
    "1. Asks the user what city they are in, and\n",
    "2. If it's \"Austin\", make the threshold temperatures relatively high, but if it's any other answer, make the threshold temperatures relatively low\n",
    "3. Asks the user for a temperature\n",
    "4. Responds whether it's too hot, too cold, or all good."
   ]
  },
  {
   "cell_type": "code",
   "execution_count": null,
   "id": "cd956da6-3f6f-473c-b8d2-6b41a3c649f8",
   "metadata": {},
   "outputs": [],
   "source": []
  },
  {
   "cell_type": "markdown",
   "id": "8d59c3c0-455a-4114-b060-1cac5e93de21",
   "metadata": {},
   "source": [
    "---"
   ]
  },
  {
   "cell_type": "markdown",
   "id": "94c6a0ad",
   "metadata": {},
   "source": [
    "`If, then` statements can be combined with logical operators also and help manage complex decisions in a matter of a few lines:"
   ]
  },
  {
   "cell_type": "code",
   "execution_count": null,
   "id": "3399b7bc-dd42-488b-9121-7727c005b4a4",
   "metadata": {},
   "outputs": [],
   "source": [
    "current_temp = int(input(\"What's the current tempurature?\"))\n",
    "                   \n",
    "if not ((current_temp >= 90) or (current_temp <= 50)) : \n",
    "    print('I will ride my bike to school!')\n",
    "else :\n",
    "    print('Too cold! I will drive or take the bus.') "
   ]
  },
  {
   "cell_type": "markdown",
   "id": "2e399675-481e-46de-b8e1-1ef700aaec06",
   "metadata": {},
   "source": [
    "Here's an example where `not` is useful (you may have been wondering...). With the `not`, the `if` line reads \"If it's not too hot or too cold...\". That's something you might say to a friend. But without the not, the spoken equivalent is a bit more awkward and forced. Code that is \"Pythonic\" is code that's natural to read!"
   ]
  },
  {
   "cell_type": "markdown",
   "id": "feba47f1",
   "metadata": {},
   "source": [
    "Again, all these operations are *built in* this means that we did not have to import any specific package. Python provides these basic operations as they are the bread and butter of most users, or better said, of most programmers, like you."
   ]
  },
  {
   "cell_type": "markdown",
   "id": "3e6453f8",
   "metadata": {},
   "source": [
    "---"
   ]
  },
  {
   "cell_type": "markdown",
   "id": "f7fd4e6d-febb-43e1-b3fc-f9dfe4f28580",
   "metadata": {},
   "source": [
    "#### `False` is 0 or nothing; anything else is `True`"
   ]
  },
  {
   "cell_type": "code",
   "execution_count": null,
   "id": "82df9aaf-1c04-4e97-a636-c3f273d8f788",
   "metadata": {},
   "outputs": [],
   "source": [
    "a = False\n",
    "\n",
    "if a :\n",
    "    print(\"True story!\")\n",
    "else :\n",
    "    print(\"Fake news!\")"
   ]
  },
  {
   "cell_type": "markdown",
   "id": "78ac2b6c-cc19-4415-8630-e884c22ba44f",
   "metadata": {},
   "source": [
    "Re-run the above code cell after changing `a` to:\n",
    "\n",
    "* True\n",
    "* 0\n",
    "* 1\n",
    "* 42\n",
    "* \"Hi there!\"\n",
    "* [  ]  (an empty `list`)\n",
    "* \"False\" (include the quotes!)"
   ]
  },
  {
   "cell_type": "markdown",
   "id": "066155fa-acb4-4d51-b50a-09c30e9f5520",
   "metadata": {},
   "source": [
    "So for logical tests, if something is either ***zero*** or ***empty***, the result is `False`, otherwise, it's `True`."
   ]
  },
  {
   "cell_type": "markdown",
   "id": "d5bae557-41ff-4c77-8ed2-9b19ceffd990",
   "metadata": {},
   "source": [
    "---"
   ]
  },
  {
   "cell_type": "markdown",
   "id": "f82c4f24-0a37-4fa5-894b-c31dc4e0d451",
   "metadata": {},
   "source": [
    "### Control flow: 'while' loops"
   ]
  },
  {
   "cell_type": "markdown",
   "id": "c874ab6b-38ef-4e00-a13d-df7df5f0ff1f",
   "metadata": {},
   "source": [
    "In the last tutorial, we talked about `for` loops. A `for` loop is excellent if we know exactly how many times we need to iterate (go through the loop).\n",
    "\n",
    "Sometimes, though we do not know the exact number of items we are iterating over, or alternatively, we want to iterate until a certain condition is met (for instead of iterating until the end of a list of numbers we want to iterate while a number is less than another).\n",
    "\n",
    "In cases when the end condition for a loop can't be easily established before entering the loop, the `while` loop is used."
   ]
  },
  {
   "cell_type": "markdown",
   "id": "17fc6f85-b9fb-453a-a413-8423cd3fc3fa",
   "metadata": {},
   "source": [
    "Let's write a little guessing game:"
   ]
  },
  {
   "cell_type": "code",
   "execution_count": null,
   "id": "7a084dec-57f1-4f93-8c72-eeb5f23f98ea",
   "metadata": {},
   "outputs": [],
   "source": [
    "ans = 42\n",
    "guess = int(input(\"Guess a number between 32 and 52!\\n\"))\n",
    "\n",
    "while guess != ans :\n",
    "    print(\"Sorry, try again!\\n\")\n",
    "    guess = int(input(\"Guess a number between 32 and 52!\\n\"))\n",
    "\n",
    "print(\"That's the answer!\")"
   ]
  },
  {
   "cell_type": "markdown",
   "id": "9c32ea6f-b21b-4c32-a90a-4ed8d3b9b610",
   "metadata": {},
   "source": [
    "Here, we don't know how long to loop, *because we don't know how many guesses it will take to get the answer right*. So we need to end our looping – our iterations – after some *criterion* is met."
   ]
  },
  {
   "cell_type": "markdown",
   "id": "10b94c80-9584-46df-8b05-97cfc6e12066",
   "metadata": {},
   "source": [
    "Not that the syntax of the `while` loop is similar to that of the `for` loop, except that `while` *tests a logical condition* to decide whether to keep running or not. If the condition is `True`, we loop again, but the first time it evaluates to `False`, we break out of the loop and fall down to the  code below the loop (which won't be indented as much as the code in the `while` code block!)."
   ]
  },
  {
   "cell_type": "markdown",
   "id": "a334956a-26c4-4862-acf4-1bada3690a69",
   "metadata": {},
   "source": [
    "---"
   ]
  },
  {
   "cell_type": "markdown",
   "id": "7e88262f-7898-491c-a86d-f948afeaf928",
   "metadata": {},
   "source": [
    "In the cell below, modify our guessing game program above to be a little more nice by telling the user whether a wrong guess is too high or too low."
   ]
  },
  {
   "cell_type": "code",
   "execution_count": null,
   "id": "2e48b855-1e08-49c5-993c-8714a3e85da5",
   "metadata": {},
   "outputs": [],
   "source": []
  },
  {
   "attachments": {},
   "cell_type": "markdown",
   "id": "31751a8b-e100-4e76-8e3b-25225a3450b8",
   "metadata": {},
   "source": [
    "Now make our guessing game a little more mean by only giving the user 5 guesses to get it right! Assign the \"5\" to a variable so you can easily change the number of guesses allowed."
   ]
  },
  {
   "cell_type": "code",
   "execution_count": null,
   "id": "cd43b6c7-7d28-4f12-ad07-3f9a8d6df4b6",
   "metadata": {},
   "outputs": [],
   "source": []
  },
  {
   "cell_type": "markdown",
   "id": "475dcbf7-3567-4fd7-9765-6495f0daedb0",
   "metadata": {},
   "source": [
    "---"
   ]
  },
  {
   "cell_type": "markdown",
   "id": "61d95dfc-6f92-4e5e-be39-af81358f1e99",
   "metadata": {},
   "source": [
    "Sometimes the decision of whether to use a `for` or `while` loop isn't clear cut. Consider a scenario where you code has to compute the square root of list of numbers, but you don't know ahead of time how long the list will be. Here is a list of inputs with different lengths:"
   ]
  },
  {
   "cell_type": "code",
   "execution_count": null,
   "id": "d3113bf7-92a5-4980-8da4-7ebd807ac6bd",
   "metadata": {},
   "outputs": [],
   "source": [
    "data = [[1, 5, 11, 42, 59], [3, 1, 4, 1, 5, 9, 2, 7]]"
   ]
  },
  {
   "cell_type": "markdown",
   "id": "dd86d6eb-f93a-4b9b-8e96-686faa857fda",
   "metadata": {},
   "source": [
    "Let's let the user pick a list. *There's a bug/mistake in the code cell below you'll need to fix!*"
   ]
  },
  {
   "cell_type": "code",
   "execution_count": null,
   "id": "8de8458b-9aea-46e2-9a4b-17228e341046",
   "metadata": {},
   "outputs": [],
   "source": [
    "input_list = input(\"Which list do you want to use? (1 or 2)\")\n",
    "picked_data = data[int(input_list)]"
   ]
  },
  {
   "cell_type": "markdown",
   "id": "233e4073-aad9-4ca7-a0a9-c584c521f663",
   "metadata": {},
   "source": [
    "Now we have our data in `picked_data` – let's compute the square root of all the numbers using a `for` loop and then a `while` loop."
   ]
  },
  {
   "cell_type": "markdown",
   "id": "af1dec1f-af2c-4dce-bcd5-134b9bfd4e2c",
   "metadata": {},
   "source": [
    "---"
   ]
  },
  {
   "cell_type": "markdown",
   "id": "c9ae391f-d610-4cc7-936c-8f7a10b20912",
   "metadata": {},
   "source": [
    "Use the cell below to compute, store, and print the square root of the list using a `for` loop."
   ]
  },
  {
   "cell_type": "code",
   "execution_count": null,
   "id": "1e47af6f-bf0d-4b15-aa48-94696dac69ad",
   "metadata": {},
   "outputs": [],
   "source": []
  },
  {
   "cell_type": "markdown",
   "id": "47aeeb77-86e0-4a67-9baa-bb0bfc10609d",
   "metadata": {},
   "source": [
    "---"
   ]
  },
  {
   "cell_type": "markdown",
   "id": "d556eaf8-b10c-4aca-832a-7d2617d207cf",
   "metadata": {},
   "source": [
    "Now here's a `while` loop version."
   ]
  },
  {
   "cell_type": "code",
   "execution_count": null,
   "id": "dea59290-d5e1-42c0-b7ad-7d669310407c",
   "metadata": {},
   "outputs": [],
   "source": [
    "input_data = picked_data.copy()\n",
    "roots = []\n",
    "while(len(input_data) > 0) :\n",
    "    roots.append(input_data.pop(0)**0.5)\n",
    "\n",
    "print(roots)"
   ]
  },
  {
   "cell_type": "markdown",
   "id": "79c43fd6-3b40-4518-a7fa-0cbc6bade796",
   "metadata": {},
   "source": [
    "Which do you prefer? In this case, it's a matter of taste, really. In the `for` loop version, you're first step was to (probably) \"measure\" the length of the input using the `len()` function. The `while` loop version never cared how long it was, however; as long as it had elements in it, the `while` kept on while-ing...  \n",
    "\n",
    "Before you move on, note that the above code used three `list` methods: `copy()`, `append()`, and `pop()`. Do you see what each is doing? Try running the code using `pop()` instead of `.pop(0)`."
   ]
  },
  {
   "cell_type": "markdown",
   "id": "153e08a5-d631-4b2e-a7a4-2064f1c18831",
   "metadata": {},
   "source": [
    "---"
   ]
  },
  {
   "cell_type": "markdown",
   "id": "87782832-f161-4a0d-a9ab-d05f3d7b4bcc",
   "metadata": {},
   "source": [
    "### Summary: "
   ]
  },
  {
   "cell_type": "markdown",
   "id": "cf64c4ac-e9b1-418c-93e1-4b21d3f77eb2",
   "metadata": {},
   "source": [
    "In this tutorial, we first learned about something seemingly simple: logical comparisons. These, however, are the building blocks of all computing, including the computer you are on right now (both in the software in the form of – well – software, and in the hardware in the form of *transistors*).  \n",
    "\n",
    "These logical test start to reveal their power when used to make decision about \n",
    "\n",
    "- what to do? `if`, (`elif`), (`else`)\n",
    "- whether to stop or continue? `which`\n",
    "\n",
    "These constructs allow our computer programs to branch, or \"make decisions\", based upon circumstances, and that's what makes computer programs powerful tools."
   ]
  }
 ],
 "metadata": {
  "kernelspec": {
   "display_name": "Python 3 (ipykernel)",
   "language": "python",
   "name": "python3"
  },
  "language_info": {
   "codemirror_mode": {
    "name": "ipython",
    "version": 3
   },
   "file_extension": ".py",
   "mimetype": "text/x-python",
   "name": "python",
   "nbconvert_exporter": "python",
   "pygments_lexer": "ipython3",
   "version": "3.8.17"
  }
 },
 "nbformat": 4,
 "nbformat_minor": 5
}
