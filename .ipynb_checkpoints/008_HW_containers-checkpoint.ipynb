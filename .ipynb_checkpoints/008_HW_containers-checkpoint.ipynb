{
 "cells": [
  {
   "cell_type": "markdown",
   "id": "8efe4c64-7a8e-48e2-832b-1537774a135f",
   "metadata": {
    "tags": []
   },
   "source": [
    "## 1. Indexing Strings:"
   ]
  },
  {
   "cell_type": "code",
   "execution_count": 2,
   "id": "b1a44ffd-6cbe-425e-97b0-8bfb13478b61",
   "metadata": {
    "tags": []
   },
   "outputs": [],
   "source": [
    "s = \"PYTHON\""
   ]
  },
  {
   "cell_type": "code",
   "execution_count": 59,
   "id": "9f98c66c-8203-4277-9001-d7768f8b415b",
   "metadata": {
    "tags": []
   },
   "outputs": [
    {
     "name": "stdout",
     "output_type": "stream",
     "text": [
      "P\n",
      "N\n",
      "H\n",
      "<class 'str'>\n"
     ]
    }
   ],
   "source": [
    "#a\n",
    "print(s[0])\n",
    "#b\n",
    "print(s[5])\n",
    "#c\n",
    "print(s[3])\n",
    "#d\n",
    "print(type(s[3]))"
   ]
  },
  {
   "cell_type": "markdown",
   "id": "1d242f6d-7fa8-4e7e-bb9f-1a0949564e19",
   "metadata": {},
   "source": [
    "## 2. Indexing Tuples:"
   ]
  },
  {
   "cell_type": "code",
   "execution_count": 8,
   "id": "434a522d-2125-4dbc-a1ff-314352eea45e",
   "metadata": {
    "tags": []
   },
   "outputs": [],
   "source": [
    "t = (10, 20, 30, 40, 50, 60)"
   ]
  },
  {
   "cell_type": "code",
   "execution_count": 61,
   "id": "5a51c6fa-a180-44c8-ba6a-30c0e3fcb233",
   "metadata": {
    "tags": []
   },
   "outputs": [
    {
     "name": "stdout",
     "output_type": "stream",
     "text": [
      "10\n",
      "30\n"
     ]
    },
    {
     "ename": "TypeError",
     "evalue": "'tuple' object does not support item assignment",
     "output_type": "error",
     "traceback": [
      "\u001b[0;31m---------------------------------------------------------------------------\u001b[0m",
      "\u001b[0;31mTypeError\u001b[0m                                 Traceback (most recent call last)",
      "Cell \u001b[0;32mIn[61], line 6\u001b[0m\n\u001b[1;32m      4\u001b[0m \u001b[38;5;28mprint\u001b[39m(t[\u001b[38;5;241m2\u001b[39m])\n\u001b[1;32m      5\u001b[0m \u001b[38;5;66;03m#c\u001b[39;00m\n\u001b[0;32m----> 6\u001b[0m t[\u001b[38;5;241m2\u001b[39m]\u001b[38;5;241m=\u001b[39m\u001b[38;5;241m30.4\u001b[39m\n\u001b[1;32m      7\u001b[0m \u001b[38;5;28mprint\u001b[39m(t)\n",
      "\u001b[0;31mTypeError\u001b[0m: 'tuple' object does not support item assignment"
     ]
    }
   ],
   "source": [
    "#a\n",
    "print(t[0])\n",
    "#b\n",
    "print(t[2])\n",
    "#c\n",
    "t[2]=30.4\n",
    "print(t)"
   ]
  },
  {
   "cell_type": "markdown",
   "id": "941faa30-a9da-40ce-9aa7-e250a884a436",
   "metadata": {},
   "source": [
    "## 3. Indexing Lists and Lists of Lists"
   ]
  },
  {
   "cell_type": "code",
   "execution_count": 12,
   "id": "befb7af6-ca90-49aa-937e-31106c36a1a3",
   "metadata": {
    "tags": []
   },
   "outputs": [],
   "source": [
    "lst = [5, 15, 25, [35, 45, [55, 65, 75], 85], 95]"
   ]
  },
  {
   "cell_type": "code",
   "execution_count": 60,
   "id": "65ea96b2-02c7-4ae7-8347-706651744b9d",
   "metadata": {
    "tags": []
   },
   "outputs": [
    {
     "name": "stdout",
     "output_type": "stream",
     "text": [
      "5\n",
      "95\n",
      "[55, 65, 75]\n",
      "65\n"
     ]
    }
   ],
   "source": [
    "#a\n",
    "print(lst[0])\n",
    "#b\n",
    "print(lst[4])\n",
    "#c\n",
    "print(lst[3][2])\n",
    "#d\n",
    "print(lst[3][2][1])"
   ]
  },
  {
   "cell_type": "markdown",
   "id": "f84dbf1d-2007-4765-b795-c6641c3fe212",
   "metadata": {},
   "source": [
    "## 4. Lists of Lists as Arrays"
   ]
  },
  {
   "cell_type": "code",
   "execution_count": 16,
   "id": "d8a7911e-d1bf-4234-a6d7-8a6f09399d2b",
   "metadata": {
    "tags": []
   },
   "outputs": [],
   "source": [
    "matrix = [\n",
    "    [1, 2, 3],\n",
    "    [4, 5, 6],\n",
    "    [7, 8, 9]\n",
    "]"
   ]
  },
  {
   "cell_type": "code",
   "execution_count": 58,
   "id": "05b7227e-85d0-41cc-9248-f71fd0feb64c",
   "metadata": {
    "tags": []
   },
   "outputs": [
    {
     "name": "stdout",
     "output_type": "stream",
     "text": [
      "[4, 0, 6]\n",
      "3 \n",
      " 6 \n",
      " 9 \n",
      "\n",
      "[[1, 2, 3], [4, 0, 6], [7, 8, 9]]\n"
     ]
    }
   ],
   "source": [
    "#a\n",
    "print(matrix[1])\n",
    "#b\n",
    "print(matrix[0][2], \"\\n\", matrix[1][2], \"\\n\", matrix[2][2], \"\\n\")\n",
    "#c\n",
    "matrix[1][1]=0\n",
    "print(matrix)"
   ]
  },
  {
   "cell_type": "markdown",
   "id": "f629cfe1-581a-4bf0-9f38-fdd7636372b2",
   "metadata": {},
   "source": [
    "## 5. Using Sets: "
   ]
  },
  {
   "cell_type": "code",
   "execution_count": 22,
   "id": "7fbfae19-e72a-4a19-b09c-c7718b6c8d95",
   "metadata": {
    "tags": []
   },
   "outputs": [],
   "source": [
    "A = [1, 2, 2, 3, 4, 4, 5]\n",
    "B = [4, 5, 5, 6, 7, 7,  8]"
   ]
  },
  {
   "cell_type": "code",
   "execution_count": 54,
   "id": "e4766ecf-67e7-4db4-a9fc-d09a14a8cf4e",
   "metadata": {
    "tags": []
   },
   "outputs": [],
   "source": [
    "#a\n",
    "A_but_its_a_set = set(A)\n",
    "B_but_its_a_set = set(B)"
   ]
  },
  {
   "cell_type": "code",
   "execution_count": 62,
   "id": "2e33bbdb-3a74-4543-a4b4-f9a305b61bb9",
   "metadata": {
    "tags": []
   },
   "outputs": [
    {
     "name": "stdout",
     "output_type": "stream",
     "text": [
      "{1, 2, 3, 4, 5, 6, 7, 8}\n",
      "{4, 5}\n",
      "{1, 2, 3}\n",
      "{1, 2, 3, 6, 7, 8}\n"
     ]
    }
   ],
   "source": [
    "#b/c/d/e\n",
    "print(A_but_its_a_set | B_but_its_a_set)\n",
    "print(A_but_its_a_set & B_but_its_a_set)\n",
    "print(A_but_its_a_set - B_but_its_a_set)\n",
    "print(A_but_its_a_set ^ B_but_its_a_set)"
   ]
  },
  {
   "cell_type": "markdown",
   "id": "9b9daa92-8816-4e73-85b7-b965c2cf1108",
   "metadata": {},
   "source": [
    "## 6. Working with Dictionaries:"
   ]
  },
  {
   "cell_type": "code",
   "execution_count": 49,
   "id": "29d8aa28-dd1c-4169-a133-d98db005f05a",
   "metadata": {
    "tags": []
   },
   "outputs": [],
   "source": [
    "stock = {\n",
    "    \"apple\": 50,\n",
    "    \"banana\": 25,\n",
    "    \"orange\": 30,\n",
    "    \"grape\": 45\n",
    "}"
   ]
  },
  {
   "cell_type": "code",
   "execution_count": 50,
   "id": "13c88625-e7f0-4a52-a33b-1a9b845d87fe",
   "metadata": {
    "tags": []
   },
   "outputs": [
    {
     "name": "stdout",
     "output_type": "stream",
     "text": [
      "50\n"
     ]
    }
   ],
   "source": [
    "print(stock[\"apple\"])"
   ]
  },
  {
   "cell_type": "code",
   "execution_count": 51,
   "id": "137e3d3b-3414-471e-bbb8-c2614778282a",
   "metadata": {
    "tags": []
   },
   "outputs": [
    {
     "name": "stdout",
     "output_type": "stream",
     "text": [
      "{'apple': 50, 'banana': 25, 'orange': 30, 'grape': 45, 'pear': 40}\n"
     ]
    }
   ],
   "source": [
    "stock[\"pear\"]= 40\n",
    "print(stock)"
   ]
  },
  {
   "cell_type": "code",
   "execution_count": 52,
   "id": "df8b38b7-27ec-4a26-be34-29b0cd84e9c8",
   "metadata": {
    "tags": []
   },
   "outputs": [
    {
     "name": "stdout",
     "output_type": "stream",
     "text": [
      "{'apple': 50, 'banana': 30, 'orange': 30, 'grape': 45, 'pear': 40}\n"
     ]
    }
   ],
   "source": [
    "stock[\"banana\"]=30\n",
    "print(stock)"
   ]
  },
  {
   "cell_type": "code",
   "execution_count": 53,
   "id": "295c44a6-779e-469c-9789-dd9ec5cdbfc8",
   "metadata": {
    "tags": []
   },
   "outputs": [
    {
     "name": "stdout",
     "output_type": "stream",
     "text": [
      "{'apple': 50, 'banana': 30, 'grape': 45, 'pear': 40}\n"
     ]
    }
   ],
   "source": [
    "del stock['orange']\n",
    "print(stock)"
   ]
  }
 ],
 "metadata": {
  "kernelspec": {
   "display_name": "Python 3 (ipykernel)",
   "language": "python",
   "name": "python3"
  },
  "language_info": {
   "codemirror_mode": {
    "name": "ipython",
    "version": 3
   },
   "file_extension": ".py",
   "mimetype": "text/x-python",
   "name": "python",
   "nbconvert_exporter": "python",
   "pygments_lexer": "ipython3",
   "version": "3.11.4"
  }
 },
 "nbformat": 4,
 "nbformat_minor": 5
}
