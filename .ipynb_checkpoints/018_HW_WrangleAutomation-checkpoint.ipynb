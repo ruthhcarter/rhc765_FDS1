{
 "cells": [
  {
   "cell_type": "markdown",
   "id": "b2078916-a749-45a2-ae94-551444740e94",
   "metadata": {},
   "source": [
    "### Automating wranglin HW: "
   ]
  },
  {
   "cell_type": "markdown",
   "id": "c5381668-363b-49b0-be56-36d69d7c276c",
   "metadata": {},
   "source": [
    "##### Write a function to convert the data file \"018_HW_2x2_data.csv\" from wide to \"tidy\" long format. Your function can assume that the input data consist of 4 columns (like our rat data), but should handle any number of rows (i.e. number of observations per cell)."
   ]
  },
  {
   "cell_type": "markdown",
   "id": "3cf4b2d8-36a5-449c-a9bd-cad0dfaa7946",
   "metadata": {
    "tags": []
   },
   "source": [
    "### testing: "
   ]
  },
  {
   "cell_type": "code",
   "execution_count": 2,
   "id": "0ab47fd4-67fd-4622-abfc-df45fe5d08d6",
   "metadata": {
    "tags": []
   },
   "outputs": [],
   "source": [
    "import numpy as np\n",
    "import pandas as pd "
   ]
  },
  {
   "cell_type": "code",
   "execution_count": 12,
   "id": "854a451c-f2e9-4702-a5af-00f660aa8d5e",
   "metadata": {
    "tags": []
   },
   "outputs": [
    {
     "data": {
      "text/html": [
       "<div>\n",
       "<style scoped>\n",
       "    .dataframe tbody tr th:only-of-type {\n",
       "        vertical-align: middle;\n",
       "    }\n",
       "\n",
       "    .dataframe tbody tr th {\n",
       "        vertical-align: top;\n",
       "    }\n",
       "\n",
       "    .dataframe thead th {\n",
       "        text-align: right;\n",
       "    }\n",
       "</style>\n",
       "<table border=\"1\" class=\"dataframe\">\n",
       "  <thead>\n",
       "    <tr style=\"text-align: right;\">\n",
       "      <th></th>\n",
       "      <th>Condition_A_Level_1</th>\n",
       "      <th>Condition_A_Level_2</th>\n",
       "      <th>Condition_B_Level_1</th>\n",
       "      <th>Condition_B_Level_2</th>\n",
       "    </tr>\n",
       "  </thead>\n",
       "  <tbody>\n",
       "    <tr>\n",
       "      <th>0</th>\n",
       "      <td>10</td>\n",
       "      <td>20</td>\n",
       "      <td>30</td>\n",
       "      <td>40</td>\n",
       "    </tr>\n",
       "    <tr>\n",
       "      <th>1</th>\n",
       "      <td>15</td>\n",
       "      <td>25</td>\n",
       "      <td>35</td>\n",
       "      <td>45</td>\n",
       "    </tr>\n",
       "  </tbody>\n",
       "</table>\n",
       "</div>"
      ],
      "text/plain": [
       "   Condition_A_Level_1  Condition_A_Level_2  Condition_B_Level_1  \\\n",
       "0                   10                   20                   30   \n",
       "1                   15                   25                   35   \n",
       "\n",
       "   Condition_B_Level_2  \n",
       "0                   40  \n",
       "1                   45  "
      ]
     },
     "execution_count": 12,
     "metadata": {},
     "output_type": "execute_result"
    }
   ],
   "source": [
    "dat = pd.read_csv(\"datasets/018_HW_2x2_data.csv\")\n",
    "\n",
    "dat"
   ]
  },
  {
   "cell_type": "markdown",
   "id": "9f873023-3546-4cd6-9d0d-642eb098618c",
   "metadata": {},
   "source": [
    "##### should look like: \n",
    "\n",
    "0           | Condition A/B Level 1 | Condition A/B Level 2 \n",
    "observation |      a.                   b \n",
    "observation |\n",
    "observation | \n",
    "\n"
   ]
  },
  {
   "cell_type": "code",
   "execution_count": null,
   "id": "b0317a23-b547-4413-b432-4aa4ee4402f1",
   "metadata": {},
   "outputs": [],
   "source": []
  },
  {
   "cell_type": "code",
   "execution_count": null,
   "id": "923f92a7-881a-4e31-b455-b372cbcac2e0",
   "metadata": {},
   "outputs": [],
   "source": [
    "def tidyformat(filename): \n",
    "    import numpy as np\n",
    "    import pandas as pd \n",
    "    \n",
    "    dat = pd.read_csv(filename) \n",
    "    observations, groups = dat.shape()\n",
    "    "
   ]
  }
 ],
 "metadata": {
  "kernelspec": {
   "display_name": "Python 3 (ipykernel)",
   "language": "python",
   "name": "python3"
  },
  "language_info": {
   "codemirror_mode": {
    "name": "ipython",
    "version": 3
   },
   "file_extension": ".py",
   "mimetype": "text/x-python",
   "name": "python",
   "nbconvert_exporter": "python",
   "pygments_lexer": "ipython3",
   "version": "3.11.4"
  }
 },
 "nbformat": 4,
 "nbformat_minor": 5
}
