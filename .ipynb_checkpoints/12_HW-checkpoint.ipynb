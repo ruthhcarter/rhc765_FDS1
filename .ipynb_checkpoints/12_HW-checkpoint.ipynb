{
 "cells": [
  {
   "cell_type": "markdown",
   "id": "1d755d8c-8e42-4afc-b97b-89be414b34ba",
   "metadata": {
    "jp-MarkdownHeadingCollapsed": true,
    "tags": []
   },
   "source": [
    "### 1. Function Design for Unit Conversions: "
   ]
  },
  {
   "cell_type": "markdown",
   "id": "5fdc5cbe-5268-46c8-a564-b6404ed320c6",
   "metadata": {},
   "source": [
    "### Miles and Kilometers: \n"
   ]
  },
  {
   "cell_type": "code",
   "execution_count": 30,
   "id": "28fa4990-9c48-4a98-8a60-b779738f4d0c",
   "metadata": {},
   "outputs": [
    {
     "name": "stdout",
     "output_type": "stream",
     "text": [
      " 3 miles is equal to 4.83 kilos\n"
     ]
    }
   ],
   "source": [
    "\n",
    "#### Miles to Kilos: \n",
    "def miles_to_kilos(x):\n",
    "    return (x*1.60934)\n",
    "    \n",
    "\n",
    "\n",
    "x=3\n",
    "a= miles_to_kilos(x)\n",
    "print(f\" {x} miles is equal to {a:.2f} kilos\")\n",
    "\n"
   ]
  },
  {
   "cell_type": "code",
   "execution_count": 6,
   "id": "2cbf4e39-263d-4ec6-ab91-5a0ce3dbff03",
   "metadata": {
    "tags": []
   },
   "outputs": [
    {
     "name": "stdout",
     "output_type": "stream",
     "text": [
      " 4 kilometers is equal to 2.49 miles\n"
     ]
    }
   ],
   "source": [
    "#### Kilos to Miles: \n",
    "\n",
    "def kilos_to_miles(y):\n",
    "    return(y*.621371) \n",
    "\n",
    "y=4\n",
    "b= kilos_to_miles(y)\n",
    "print(f\" {y} kilometers is equal to {b:.2f} miles\")\n",
    "      \n",
    "      \n"
   ]
  },
  {
   "cell_type": "markdown",
   "id": "8ae0c86d-8ddf-47d9-af46-a062c5c8a541",
   "metadata": {},
   "source": [
    "### Farenheit and Celsius: \n"
   ]
  },
  {
   "cell_type": "code",
   "execution_count": 15,
   "id": "ae4037c1-d47c-4573-9194-904785be5fdd",
   "metadata": {},
   "outputs": [
    {
     "name": "stdout",
     "output_type": "stream",
     "text": [
      " 98.6 degrees Farenheit is equal to 37.00 degrees Celsius\n"
     ]
    }
   ],
   "source": [
    "### Farenheit to Celsius: \n",
    "\n",
    "def far_to_cel(x):\n",
    "    return((5/9) * (x-32))\n",
    "        \n",
    "        \n",
    "        \n",
    "x=98.6\n",
    "c= far_to_cel(x)\n",
    "print(f\" {x} degrees Farenheit is equal to {c:.2f} degrees Celsius\")\n"
   ]
  },
  {
   "cell_type": "code",
   "execution_count": 23,
   "id": "63dfc559-fc8c-4dd0-bf86-d85c703503c5",
   "metadata": {
    "tags": []
   },
   "outputs": [
    {
     "name": "stdout",
     "output_type": "stream",
     "text": [
      " 3 degrees Celsius is equal to 37.40 degrees Farenheit\n"
     ]
    }
   ],
   "source": [
    "### Celsius to Farenheit: \n",
    "\n",
    "def cal_to_far(y):\n",
    "    return(y * (9/5) + 32)\n",
    "        \n",
    "        \n",
    "        \n",
    "y=3\n",
    "d= cal_to_far(y)\n",
    "print(f\" {y} degrees Celsius is equal to {d:.2f} degrees Farenheit\")\n"
   ]
  },
  {
   "cell_type": "markdown",
   "id": "fe974ddc-864a-414c-b5fc-d17de3b429be",
   "metadata": {},
   "source": [
    "### Kilograms and Pounds"
   ]
  },
  {
   "cell_type": "code",
   "execution_count": 26,
   "id": "a54fa1a4-b85b-46df-bfff-f85fae6beb19",
   "metadata": {
    "tags": []
   },
   "outputs": [
    {
     "name": "stdout",
     "output_type": "stream",
     "text": [
      " 2.4 kilos is equal to 5.29 pounds\n"
     ]
    }
   ],
   "source": [
    "### Kilo to Pounds: \n",
    "\n",
    "def kilo_to_lbs(x):\n",
    "    return (x*2.205)\n",
    "        \n",
    "        \n",
    "        \n",
    "x=2.4\n",
    "e= kilo_to_lbs(x)\n",
    "print(f\" {x} kilos is equal to {e:.2f} pounds\")\n"
   ]
  },
  {
   "cell_type": "code",
   "execution_count": 38,
   "id": "4a15bbcc-80c9-452f-a2e5-6f595ff9436c",
   "metadata": {
    "tags": []
   },
   "outputs": [
    {
     "name": "stdout",
     "output_type": "stream",
     "text": [
      " 3.5 pounds is equal to 1.59 kilos\n"
     ]
    }
   ],
   "source": [
    "### Pounds to Kilo: \n",
    "\n",
    "def lbs_to_kilo(y):\n",
    "    return (y * 0.45359237)\n",
    "\n",
    "y=3.5\n",
    "f= lbs_to_kilo(y)\n",
    "print(f\" {y} pounds is equal to {f:.2f} kilos\")\n"
   ]
  },
  {
   "cell_type": "code",
   "execution_count": null,
   "id": "33ab3bd9-b3bd-4db9-84d5-7a88a61d9efe",
   "metadata": {},
   "outputs": [],
   "source": []
  }
 ],
 "metadata": {
  "kernelspec": {
   "display_name": "Python 3 (ipykernel)",
   "language": "python",
   "name": "python3"
  },
  "language_info": {
   "codemirror_mode": {
    "name": "ipython",
    "version": 3
   },
   "file_extension": ".py",
   "mimetype": "text/x-python",
   "name": "python",
   "nbconvert_exporter": "python",
   "pygments_lexer": "ipython3",
   "version": "3.11.4"
  }
 },
 "nbformat": 4,
 "nbformat_minor": 5
}
