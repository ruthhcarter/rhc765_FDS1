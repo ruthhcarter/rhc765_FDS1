{
 "cells": [
  {
   "cell_type": "markdown",
   "id": "6825d13a-c130-4550-8ef8-d92c3d64a483",
   "metadata": {},
   "source": [
    "### Part A: Slicing"
   ]
  },
  {
   "cell_type": "markdown",
   "id": "64e6fdb1-ae1a-433c-a922-603dc5debe0f",
   "metadata": {},
   "source": [
    "## 1. Strings: "
   ]
  },
  {
   "cell_type": "code",
   "execution_count": 1,
   "id": "fac5622f-be4f-4203-b7e8-f0ae1b1526ee",
   "metadata": {
    "tags": []
   },
   "outputs": [],
   "source": [
    "s = \"ProgrammingIsFun\""
   ]
  },
  {
   "cell_type": "code",
   "execution_count": 2,
   "id": "5cc31b6d-36a6-4f91-947f-1786e6b57d12",
   "metadata": {
    "tags": []
   },
   "outputs": [
    {
     "name": "stdout",
     "output_type": "stream",
     "text": [
      "Fun\n"
     ]
    }
   ],
   "source": [
    "print(s[-3:])"
   ]
  },
  {
   "cell_type": "code",
   "execution_count": 3,
   "id": "9cd2fc74-8251-4240-8f8c-797dd8813ac1",
   "metadata": {
    "tags": []
   },
   "outputs": [
    {
     "name": "stdout",
     "output_type": "stream",
     "text": [
      "Pgmnsn\n"
     ]
    }
   ],
   "source": [
    "print(s[ ::3])"
   ]
  },
  {
   "cell_type": "markdown",
   "id": "a5057a22-0a6f-425e-91f2-1befbe5048f2",
   "metadata": {},
   "source": [
    "## 2. Lists:"
   ]
  },
  {
   "cell_type": "code",
   "execution_count": 116,
   "id": "199e8fe6-c318-4748-adf7-7c2628f57cfb",
   "metadata": {
    "tags": []
   },
   "outputs": [],
   "source": [
    "lst = [10, 20, 30, 40, 50, 60, 70, 80]"
   ]
  },
  {
   "cell_type": "code",
   "execution_count": 6,
   "id": "696773ca-b859-4dec-90df-b7537c5f694b",
   "metadata": {
    "tags": []
   },
   "outputs": [
    {
     "name": "stdout",
     "output_type": "stream",
     "text": [
      "[10, 20, 30]\n"
     ]
    }
   ],
   "source": [
    "print(lst[0:3])"
   ]
  },
  {
   "cell_type": "code",
   "execution_count": 11,
   "id": "81c91c99-e37c-48fd-b7cd-e2c6f1f41cf5",
   "metadata": {
    "tags": []
   },
   "outputs": [
    {
     "name": "stdout",
     "output_type": "stream",
     "text": [
      "[70, 80]\n"
     ]
    }
   ],
   "source": [
    "print(lst[-2: ])"
   ]
  },
  {
   "cell_type": "code",
   "execution_count": 23,
   "id": "4fcd3533-f767-4fb9-a7e7-079874b4fa1f",
   "metadata": {
    "tags": []
   },
   "outputs": [
    {
     "name": "stdout",
     "output_type": "stream",
     "text": [
      "[40, 50, 60, 70]\n"
     ]
    }
   ],
   "source": [
    "print(lst[3:7])"
   ]
  },
  {
   "cell_type": "code",
   "execution_count": 13,
   "id": "6d137778-a859-46f7-a34b-d6a613c42b57",
   "metadata": {
    "tags": []
   },
   "outputs": [
    {
     "name": "stdout",
     "output_type": "stream",
     "text": [
      "[10, 30, 50, 70]\n"
     ]
    }
   ],
   "source": [
    "print(lst[ ::2])"
   ]
  },
  {
   "cell_type": "code",
   "execution_count": 119,
   "id": "09a12a40-e368-480f-8208-69c9fd7c5b8e",
   "metadata": {
    "tags": []
   },
   "outputs": [
    {
     "name": "stdout",
     "output_type": "stream",
     "text": [
      "[80, 60, 40, 20]\n"
     ]
    }
   ],
   "source": [
    "print(lst[ ::-2])"
   ]
  },
  {
   "cell_type": "markdown",
   "id": "a1aaf12a-728a-4756-ac61-f0af203de5c6",
   "metadata": {
    "tags": []
   },
   "source": [
    "## 3. Tuples:"
   ]
  },
  {
   "cell_type": "code",
   "execution_count": 19,
   "id": "4598df95-17ee-43c6-825b-b6488e9b5414",
   "metadata": {
    "tags": []
   },
   "outputs": [],
   "source": [
    "tup = (5, 10, 15, 20, 25, 30, 35, 40)"
   ]
  },
  {
   "cell_type": "code",
   "execution_count": 20,
   "id": "c0d32f72-bd66-473b-84e1-b9c267e3b3a6",
   "metadata": {
    "tags": []
   },
   "outputs": [
    {
     "name": "stdout",
     "output_type": "stream",
     "text": [
      "10\n"
     ]
    }
   ],
   "source": [
    "print(tup[1])"
   ]
  },
  {
   "cell_type": "code",
   "execution_count": 21,
   "id": "040ad6c6-28f5-4fba-9e7a-a70c3babaf09",
   "metadata": {
    "tags": []
   },
   "outputs": [
    {
     "name": "stdout",
     "output_type": "stream",
     "text": [
      "(30, 35, 40)\n"
     ]
    }
   ],
   "source": [
    "print(tup[-3: ])"
   ]
  },
  {
   "cell_type": "code",
   "execution_count": 22,
   "id": "8bf6af48-c5ef-46ac-bba4-82657fc6d8be",
   "metadata": {
    "tags": []
   },
   "outputs": [
    {
     "name": "stdout",
     "output_type": "stream",
     "text": [
      "(15, 20, 25)\n"
     ]
    }
   ],
   "source": [
    "print(tup[2:5])"
   ]
  },
  {
   "cell_type": "markdown",
   "id": "a3038b1c-126f-4611-95dd-ffb03073d5c3",
   "metadata": {},
   "source": [
    "### Part B: Methods of Data Structures"
   ]
  },
  {
   "cell_type": "markdown",
   "id": "31658c9d-f0bf-49f3-9551-76fdcbce2a75",
   "metadata": {},
   "source": [
    "## 1. Strings"
   ]
  },
  {
   "cell_type": "code",
   "execution_count": 24,
   "id": "62b837b0-b040-4fdb-8efc-d200e462a760",
   "metadata": {
    "tags": []
   },
   "outputs": [
    {
     "name": "stdout",
     "output_type": "stream",
     "text": [
      "ProgrammingIsFun\n"
     ]
    }
   ],
   "source": [
    "print(s)"
   ]
  },
  {
   "cell_type": "code",
   "execution_count": 27,
   "id": "610fb0c5-8c6a-45df-a079-b81accb1f6e6",
   "metadata": {
    "tags": []
   },
   "outputs": [
    {
     "name": "stdout",
     "output_type": "stream",
     "text": [
      "ming\n"
     ]
    }
   ],
   "source": [
    "substring = s[7:11]\n",
    "print(substring)"
   ]
  },
  {
   "cell_type": "code",
   "execution_count": 30,
   "id": "efcdb7c2-1c9d-412a-a8cb-f799ebac1e24",
   "metadata": {
    "tags": []
   },
   "outputs": [
    {
     "name": "stdout",
     "output_type": "stream",
     "text": [
      "programmingisfun\n"
     ]
    }
   ],
   "source": [
    "print(s.lower())"
   ]
  },
  {
   "cell_type": "code",
   "execution_count": 36,
   "id": "3e79b215-5129-43e0-baf6-817180f2f8b2",
   "metadata": {
    "tags": []
   },
   "outputs": [
    {
     "data": {
      "text/plain": [
       "'ProgrammingIsAmazing'"
      ]
     },
     "execution_count": 36,
     "metadata": {},
     "output_type": "execute_result"
    }
   ],
   "source": [
    "replace = \"Amazing\"\n",
    "s.replace(\"Fun\", replace)"
   ]
  },
  {
   "cell_type": "markdown",
   "id": "7be407a5-5783-4a60-a5f0-e9c3799fb65b",
   "metadata": {},
   "source": [
    "## 2. Lists:"
   ]
  },
  {
   "cell_type": "code",
   "execution_count": 49,
   "id": "883ed751-b57e-447d-8284-5b6227f14d1b",
   "metadata": {
    "tags": []
   },
   "outputs": [
    {
     "name": "stdout",
     "output_type": "stream",
     "text": [
      "[10, 20, 30, 40, 50, 60, 70, 80]\n",
      "[90, 100]\n",
      "[10, 20, 30, 40, 50, 60, 70, 80, 90, 100]\n"
     ]
    }
   ],
   "source": [
    "lst = [10, 20, 30, 40, 50, 60, 70, 80]\n",
    "print(lst)\n",
    "lst2 = [90 ,100]\n",
    "print(lst2)\n",
    "lst.extend(lst2)\n",
    "print(lst)"
   ]
  },
  {
   "cell_type": "code",
   "execution_count": 56,
   "id": "8c725fb6-2adf-4e57-a8e5-a17b0df1c165",
   "metadata": {
    "tags": []
   },
   "outputs": [
    {
     "ename": "ValueError",
     "evalue": "list.remove(x): x not in list",
     "output_type": "error",
     "traceback": [
      "\u001b[0;31m---------------------------------------------------------------------------\u001b[0m",
      "\u001b[0;31mValueError\u001b[0m                                Traceback (most recent call last)",
      "Cell \u001b[0;32mIn[56], line 1\u001b[0m\n\u001b[0;32m----> 1\u001b[0m lst\u001b[38;5;241m.\u001b[39mremove(\u001b[38;5;241m20\u001b[39m)\n\u001b[1;32m      2\u001b[0m \u001b[38;5;28mprint\u001b[39m(lst)\n",
      "\u001b[0;31mValueError\u001b[0m: list.remove(x): x not in list"
     ]
    }
   ],
   "source": [
    "lst.remove(20)"
   ]
  },
  {
   "cell_type": "code",
   "execution_count": 57,
   "id": "b1fc9e6a-ee8a-4505-9b5e-5cc1e2ef50d2",
   "metadata": {
    "tags": []
   },
   "outputs": [
    {
     "name": "stdout",
     "output_type": "stream",
     "text": [
      "[10, 30, 40, 50, 60, 70, 80, 90, 100]\n"
     ]
    }
   ],
   "source": [
    "print(lst)"
   ]
  },
  {
   "cell_type": "code",
   "execution_count": 60,
   "id": "52077520-1055-4f7e-b08a-85a490f44b92",
   "metadata": {
    "tags": []
   },
   "outputs": [],
   "source": [
    "lst.reverse()"
   ]
  },
  {
   "cell_type": "code",
   "execution_count": 61,
   "id": "f0d1563a-57f3-44e5-a132-211c37a2402d",
   "metadata": {
    "tags": []
   },
   "outputs": [
    {
     "name": "stdout",
     "output_type": "stream",
     "text": [
      "[100, 90, 80, 70, 60, 50, 40, 30, 10]\n"
     ]
    }
   ],
   "source": [
    "print(lst)"
   ]
  },
  {
   "cell_type": "code",
   "execution_count": 62,
   "id": "2ddc83f4-96a4-4dd7-b773-30d0fa52200b",
   "metadata": {
    "tags": []
   },
   "outputs": [
    {
     "data": {
      "text/plain": [
       "5"
      ]
     },
     "execution_count": 62,
     "metadata": {},
     "output_type": "execute_result"
    }
   ],
   "source": [
    "lst.index(50)"
   ]
  },
  {
   "cell_type": "markdown",
   "id": "ea3a4501-1aa7-45ed-b299-c981608e229f",
   "metadata": {},
   "source": [
    "## 3. Tuples:"
   ]
  },
  {
   "cell_type": "code",
   "execution_count": 87,
   "id": "882aa3e5-c562-4fd1-9595-d6d769f1c1fd",
   "metadata": {
    "tags": []
   },
   "outputs": [],
   "source": [
    "tup = (5, 10, 15, 20, 25, 30, 35, 40)"
   ]
  },
  {
   "cell_type": "code",
   "execution_count": 63,
   "id": "4581cb70-3c47-4a5d-8709-e0f01cb4c36f",
   "metadata": {
    "tags": []
   },
   "outputs": [
    {
     "name": "stdout",
     "output_type": "stream",
     "text": [
      "(5, 10, 15, 20, 25, 30, 35, 40)\n"
     ]
    }
   ],
   "source": [
    "print(tup)"
   ]
  },
  {
   "cell_type": "code",
   "execution_count": 64,
   "id": "5983b1f8-2ef1-49b2-9b09-39709d2b805c",
   "metadata": {
    "tags": []
   },
   "outputs": [
    {
     "name": "stdout",
     "output_type": "stream",
     "text": [
      "1\n"
     ]
    }
   ],
   "source": [
    "print(tup.count(20))"
   ]
  },
  {
   "cell_type": "code",
   "execution_count": 88,
   "id": "88a89a0f-e0f6-45e7-adfb-6fad676dcc09",
   "metadata": {
    "tags": []
   },
   "outputs": [
    {
     "data": {
      "text/plain": [
       "list"
      ]
     },
     "execution_count": 88,
     "metadata": {},
     "output_type": "execute_result"
    }
   ],
   "source": [
    "tup = list(tup)\n",
    "type(tup)"
   ]
  },
  {
   "cell_type": "code",
   "execution_count": 89,
   "id": "b816ec55-bc0e-4c27-895a-eebe54630a00",
   "metadata": {
    "tags": []
   },
   "outputs": [
    {
     "data": {
      "text/plain": [
       "[5, 10, 15, 20, 25, 30, 35, 40, 45]"
      ]
     },
     "execution_count": 89,
     "metadata": {},
     "output_type": "execute_result"
    }
   ],
   "source": [
    "tup.insert(8, 45)"
   ]
  },
  {
   "cell_type": "code",
   "execution_count": 93,
   "id": "5f6b3895-c656-4497-9251-7ff28352c361",
   "metadata": {
    "tags": []
   },
   "outputs": [
    {
     "name": "stdout",
     "output_type": "stream",
     "text": [
      "(5, 10, 15, 20, 25, 30, 35, 40, 45)\n"
     ]
    }
   ],
   "source": [
    "tup = tuple(tup)\n",
    "type(tup)\n",
    "print(tup)"
   ]
  },
  {
   "cell_type": "markdown",
   "id": "096b4551-ba78-4d2a-ad24-919738e4f23a",
   "metadata": {},
   "source": [
    "## 4. Dictionaries"
   ]
  },
  {
   "cell_type": "code",
   "execution_count": 94,
   "id": "41995ee6-a3d5-4b84-8402-9e36f31124f9",
   "metadata": {
    "tags": []
   },
   "outputs": [],
   "source": [
    "S_Doo_ = {\"Scooby\": 4, \"Shaggy\": 19, \"Velma\": 18, \"Daphne\": 20}"
   ]
  },
  {
   "cell_type": "code",
   "execution_count": 95,
   "id": "3334d58e-0b72-44a9-9f16-d393d3f8c407",
   "metadata": {
    "tags": []
   },
   "outputs": [],
   "source": [
    "S_Doo_[\"Phred\"] = 21"
   ]
  },
  {
   "cell_type": "code",
   "execution_count": 96,
   "id": "cc578653-39a4-44be-9a93-920a22f9c115",
   "metadata": {
    "tags": []
   },
   "outputs": [
    {
     "name": "stdout",
     "output_type": "stream",
     "text": [
      "{'Scooby': 4, 'Shaggy': 19, 'Velma': 18, 'Daphne': 20, 'Phred': 21}\n"
     ]
    }
   ],
   "source": [
    "print(S_Doo_)"
   ]
  },
  {
   "cell_type": "code",
   "execution_count": 98,
   "id": "a540362c-ad1e-40d7-831e-a8c2a0816b36",
   "metadata": {
    "tags": []
   },
   "outputs": [
    {
     "name": "stdout",
     "output_type": "stream",
     "text": [
      "18\n"
     ]
    }
   ],
   "source": [
    "print(S_Doo_.get(\"Velma\"))"
   ]
  },
  {
   "cell_type": "code",
   "execution_count": 99,
   "id": "f6c48731-28da-4a85-8f0c-88ad88eef6ea",
   "metadata": {
    "tags": []
   },
   "outputs": [
    {
     "name": "stdout",
     "output_type": "stream",
     "text": [
      "{'Shaggy': 19, 'Velma': 18, 'Daphne': 20, 'Phred': 21}\n"
     ]
    }
   ],
   "source": [
    "del S_Doo_[\"Scooby\"]\n",
    "print(S_Doo_)"
   ]
  },
  {
   "cell_type": "code",
   "execution_count": 100,
   "id": "087f1f5d-18cd-49b9-b51e-5ddcbd65bb11",
   "metadata": {
    "tags": []
   },
   "outputs": [
    {
     "data": {
      "text/plain": [
       "dict_keys(['Shaggy', 'Velma', 'Daphne', 'Phred'])"
      ]
     },
     "execution_count": 100,
     "metadata": {},
     "output_type": "execute_result"
    }
   ],
   "source": [
    "S_Doo_.keys()"
   ]
  },
  {
   "cell_type": "code",
   "execution_count": 101,
   "id": "61fa5662-4d76-4215-ae55-f54e8303f16c",
   "metadata": {
    "tags": []
   },
   "outputs": [
    {
     "data": {
      "text/plain": [
       "dict_values([19, 18, 20, 21])"
      ]
     },
     "execution_count": 101,
     "metadata": {},
     "output_type": "execute_result"
    }
   ],
   "source": [
    "S_Doo_.values()"
   ]
  },
  {
   "cell_type": "markdown",
   "id": "eae993d2-b851-402f-93ba-24193e1714d1",
   "metadata": {},
   "source": [
    "### Bonus:"
   ]
  },
  {
   "cell_type": "code",
   "execution_count": 106,
   "id": "c84060c7-485b-4f91-b608-d6c05235b7bd",
   "metadata": {
    "tags": []
   },
   "outputs": [
    {
     "name": "stdout",
     "output_type": "stream",
     "text": [
      "['Shaggy', 'Velma', 'Daphne', 'Phred']\n"
     ]
    }
   ],
   "source": [
    "Jinkies = S_Doo_.keys()\n",
    "Jinkies = list(Jinkies)\n",
    "print(Jinkies)"
   ]
  }
 ],
 "metadata": {
  "kernelspec": {
   "display_name": "Python 3 (ipykernel)",
   "language": "python",
   "name": "python3"
  },
  "language_info": {
   "codemirror_mode": {
    "name": "ipython",
    "version": 3
   },
   "file_extension": ".py",
   "mimetype": "text/x-python",
   "name": "python",
   "nbconvert_exporter": "python",
   "pygments_lexer": "ipython3",
   "version": "3.11.4"
  }
 },
 "nbformat": 4,
 "nbformat_minor": 5
}
