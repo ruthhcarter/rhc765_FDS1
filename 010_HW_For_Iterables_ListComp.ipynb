{
 "cells": [
  {
   "cell_type": "markdown",
   "id": "0fcf0db6-99c0-4aba-b62c-0411ddd47ce6",
   "metadata": {},
   "source": [
    "# Python Looping HW Assignment"
   ]
  },
  {
   "cell_type": "markdown",
   "id": "8ec0a98f-00b5-4853-93f4-9a58becf6da9",
   "metadata": {},
   "source": [
    "## Part 1: for loops with lists and range()"
   ]
  },
  {
   "cell_type": "markdown",
   "id": "25e3f10e-529b-4099-8b7e-a0246364410c",
   "metadata": {},
   "source": [
    "### 1. Lists"
   ]
  },
  {
   "cell_type": "code",
   "execution_count": 4,
   "id": "4308ba1e-456c-404b-a707-fef19455f7ec",
   "metadata": {
    "tags": []
   },
   "outputs": [
    {
     "name": "stdout",
     "output_type": "stream",
     "text": [
      "4\n",
      "8\n",
      "12\n",
      "16\n"
     ]
    }
   ],
   "source": [
    "#a: \n",
    "numslist = [2, 4, 6, 8]\n",
    "for num in numslist:\n",
    "    print(num * 2)"
   ]
  },
  {
   "cell_type": "code",
   "execution_count": 217,
   "id": "076d115a-5911-4e1f-bf39-050e70b62799",
   "metadata": {
    "tags": []
   },
   "outputs": [
    {
     "name": "stdout",
     "output_type": "stream",
     "text": [
      "potato\n",
      "grape\n",
      "kiwi\n",
      "pear\n",
      "apple\n"
     ]
    }
   ],
   "source": [
    "#b \n",
    "strings = [\"apple\", \"pear\", \"kiwi\", \"grape\", \"potato\"]\n",
    "n = len(strings)\n",
    "for i in range(n):\n",
    "    print(strings[-1-i])\n",
    "    "
   ]
  },
  {
   "cell_type": "markdown",
   "id": "2786e6ed-28cc-4700-a7f9-dbab7a9400e9",
   "metadata": {
    "tags": []
   },
   "source": [
    "### 2. Range()"
   ]
  },
  {
   "cell_type": "code",
   "execution_count": 36,
   "id": "0ead63a8-9d1f-403a-80d5-b28a0f9bdb1f",
   "metadata": {
    "tags": []
   },
   "outputs": [
    {
     "name": "stdout",
     "output_type": "stream",
     "text": [
      "0\n",
      "1\n",
      "2\n",
      "3\n",
      "4\n",
      "5\n",
      "6\n",
      "7\n",
      "8\n",
      "9\n"
     ]
    }
   ],
   "source": [
    "#a: \n",
    "for i in range(0,10):\n",
    "    print(i)"
   ]
  },
  {
   "cell_type": "code",
   "execution_count": 38,
   "id": "8f5e9a7b-4120-4e97-901b-d03bea18e763",
   "metadata": {
    "tags": []
   },
   "outputs": [
    {
     "name": "stdout",
     "output_type": "stream",
     "text": [
      "5\n",
      "6\n",
      "7\n",
      "8\n",
      "9\n",
      "10\n",
      "11\n",
      "12\n",
      "13\n",
      "14\n",
      "15\n"
     ]
    }
   ],
   "source": [
    "#b: \n",
    "for i in range(5,16):\n",
    "    print(i)"
   ]
  },
  {
   "cell_type": "code",
   "execution_count": 44,
   "id": "1767e0f0-d5d9-457f-a41a-ef80a6a9356d",
   "metadata": {
    "tags": []
   },
   "outputs": [
    {
     "name": "stdout",
     "output_type": "stream",
     "text": [
      "2\n",
      "4\n",
      "6\n",
      "8\n",
      "10\n",
      "12\n",
      "14\n",
      "16\n",
      "18\n",
      "20\n"
     ]
    }
   ],
   "source": [
    "#c: \n",
    "for i in range(2,21,2):\n",
    "    print(i)"
   ]
  },
  {
   "cell_type": "markdown",
   "id": "9244dffc-06cf-4e1f-bb76-e35a12e4e115",
   "metadata": {},
   "source": [
    "## Part 2: Dictionaries and Loops"
   ]
  },
  {
   "cell_type": "code",
   "execution_count": 55,
   "id": "1afa838c-9563-4c2d-a1ce-32a562604251",
   "metadata": {
    "tags": []
   },
   "outputs": [
    {
     "name": "stdout",
     "output_type": "stream",
     "text": [
      "Alex 's favorite color is Blue .\n",
      "Jordan 's favorite color is Green .\n",
      "Taylor 's favorite color is Red .\n"
     ]
    }
   ],
   "source": [
    "#a\n",
    "dict = {\"Alex\":\"Blue\", \"Jordan\":\"Green\", \"Taylor\":\"Red\"}\n",
    "for name in dict:\n",
    "    print(name, \"'s favorite color is\", dict[name],\".\")\n",
    "    "
   ]
  },
  {
   "cell_type": "code",
   "execution_count": 60,
   "id": "c473726f-cedd-4d33-a706-dde49748347b",
   "metadata": {
    "tags": []
   },
   "outputs": [
    {
     "name": "stdout",
     "output_type": "stream",
     "text": [
      "apple now has 10 .\n",
      "banana now has 6 .\n",
      "cherry now has 20 .\n"
     ]
    }
   ],
   "source": [
    "#b\n",
    "fruits={\"apple\": 5, \"banana\": 3, \"cherry\": 10}\n",
    "for fruit in fruits: \n",
    "    quantity = fruits[fruit]*2\n",
    "    print(fruit, \"now has\", quantity, \".\")"
   ]
  },
  {
   "cell_type": "markdown",
   "id": "5c4cf197-577b-4e0e-b25e-ddfcdc52f9fa",
   "metadata": {},
   "source": [
    "## Part 3: Storing Results of a For Loop in a New List and List Comprehensions"
   ]
  },
  {
   "cell_type": "markdown",
   "id": "13765503-ff55-4ddb-a3f9-3123ac5702ef",
   "metadata": {
    "tags": []
   },
   "source": [
    "### 1. not using list comprehension"
   ]
  },
  {
   "cell_type": "code",
   "execution_count": 88,
   "id": "5a6b6480-9ce1-4276-8b6f-fb93146629f2",
   "metadata": {
    "tags": []
   },
   "outputs": [
    {
     "name": "stdout",
     "output_type": "stream",
     "text": [
      "[2, 6, 10, 14]\n"
     ]
    }
   ],
   "source": [
    "#a \n",
    "empty = []\n",
    "lst = [1, 3, 5, 7]\n",
    "for i in lst: \n",
    "    empty.append(i * 2)\n",
    "print(empty)\n",
    "    "
   ]
  },
  {
   "cell_type": "code",
   "execution_count": 124,
   "id": "8c97eb03-6ff3-4329-94bb-f44fe6d40e0c",
   "metadata": {
    "tags": []
   },
   "outputs": [
    {
     "name": "stdout",
     "output_type": "stream",
     "text": [
      "['A', 'B', 'C', 'D']\n"
     ]
    }
   ],
   "source": [
    "#b \n",
    "fruitss = [\"Apple\", \"Banana\", \"Cherry\", \"Date\"]\n",
    "emp = []\n",
    "for fruit in fruitss: \n",
    "    emp.append(fruit[0])\n",
    "print(emp)"
   ]
  },
  {
   "cell_type": "markdown",
   "id": "893257bd-63b3-4857-904f-e1b9e606abcb",
   "metadata": {},
   "source": [
    "## 2. using list comprehension"
   ]
  },
  {
   "cell_type": "code",
   "execution_count": 138,
   "id": "8a2166c8-76a1-4e58-a5d8-11e3f9d281e9",
   "metadata": {
    "tags": []
   },
   "outputs": [
    {
     "name": "stdout",
     "output_type": "stream",
     "text": [
      "[1.0, 1.4142135623730951, 1.7320508075688772, 2.0, 2.23606797749979, 2.449489742783178, 2.6457513110645907, 2.8284271247461903, 3.0, 3.1622776601683795]\n"
     ]
    }
   ],
   "source": [
    "#c \n",
    "new=[1, 2, 3, 4, 5, 6, 7, 8, 9, 10]\n",
    "sqrt = [i**(1/2) for i in new]\n",
    "print(sqrt)"
   ]
  },
  {
   "cell_type": "code",
   "execution_count": 142,
   "id": "b95b2741-0bc1-4f06-a6cd-8c4e52cee039",
   "metadata": {
    "tags": []
   },
   "outputs": [
    {
     "name": "stdout",
     "output_type": "stream",
     "text": [
      "['e', 'r', 'i', 'e']\n"
     ]
    }
   ],
   "source": [
    "#d\n",
    "yum = [\"apple\", \"pear\", \"kiwi\", \"grape\"]\n",
    "last = [i[-1] for i in yum]\n",
    "print(last)"
   ]
  },
  {
   "cell_type": "markdown",
   "id": "256b23b6-1f53-4b03-876a-ba0828417b37",
   "metadata": {},
   "source": [
    "## Part 4: nested loops "
   ]
  },
  {
   "cell_type": "code",
   "execution_count": 175,
   "id": "c9ea9789-ca65-4431-8003-24dc34479bcf",
   "metadata": {
    "tags": []
   },
   "outputs": [
    {
     "name": "stdout",
     "output_type": "stream",
     "text": [
      "[1, 2, 3, 4, 5, 6, 7, 8, 9, 10, 11, 12, 13, 14, 15, 16, 17, 18, 19, 20, 21, 22, 23, 42]\n"
     ]
    }
   ],
   "source": [
    "#a \n",
    "deep_list = [[[1, 2, 3, 4], [5, 6, 7, 8]],\n",
    "            [[9, 10, 11, 12], [13, 14, 15, 16]],\n",
    "            [[17, 18, 19, 20], [21, 22, 23, 42]]]\n",
    "flat = []\n",
    "for i in range(3) : \n",
    "    for j in range(2) : \n",
    "        for k in range(4):\n",
    "            number = deep_list[i][j][k]\n",
    "            flat.append(number)\n",
    "        \n",
    "print(flat)\n"
   ]
  },
  {
   "cell_type": "code",
   "execution_count": 203,
   "id": "f14a5d27-9b53-4b1c-a3d7-971aafc25ebb",
   "metadata": {
    "tags": []
   },
   "outputs": [
    {
     "name": "stdout",
     "output_type": "stream",
     "text": [
      "['able', 'was', 'I', 'ere', 'I', 'saw', 'elba']\n"
     ]
    }
   ],
   "source": [
    "#b\n",
    "myStrLst = [\"able\", \"was\", \"I\", \"ere\", \"I\", \"saw\", \"elba\"]\n",
    "new= [] \n",
    "for j in myStrLst:\n",
    "    new.append((j[::-1]))\n",
    "print(new[::-1])"
   ]
  }
 ],
 "metadata": {
  "kernelspec": {
   "display_name": "Python 3 (ipykernel)",
   "language": "python",
   "name": "python3"
  },
  "language_info": {
   "codemirror_mode": {
    "name": "ipython",
    "version": 3
   },
   "file_extension": ".py",
   "mimetype": "text/x-python",
   "name": "python",
   "nbconvert_exporter": "python",
   "pygments_lexer": "ipython3",
   "version": "3.11.4"
  }
 },
 "nbformat": 4,
 "nbformat_minor": 5
}
