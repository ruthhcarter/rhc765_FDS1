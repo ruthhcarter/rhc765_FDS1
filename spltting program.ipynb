{
 "cells": [
  {
   "cell_type": "markdown",
   "id": "2026f4e5-bfe9-4702-a259-6ec49ebf9988",
   "metadata": {
    "tags": []
   },
   "source": [
    " ### Program to Split up HW Assignments:\n",
    "\n",
    "- [ ] be able to input file \n",
    "\n",
    "- [ ] identify different major sections \n",
    "\n",
    "- [ ] identify different minor sections \n",
    "\n",
    "- [ ] produce new notebook that contains the split up sections "
   ]
  },
  {
   "cell_type": "code",
   "execution_count": 47,
   "id": "be203e60-1e25-455d-be76-fe3275590809",
   "metadata": {
    "tags": []
   },
   "outputs": [],
   "source": [
    "from IPython.display import Markdown\n",
    "import re\n",
    "\n",
    "def split_HW(filename):\n",
    "    \n",
    "    search_string = ['1. ','2. ','3. ']\n",
    "    \n",
    "    with open(filename, 'r') as f:\n",
    "        hw = f.read()\n",
    "        for string in search_string: \n",
    "            matches = re.findall(string, hw)\n",
    "            if matches:\n",
    "                print(f\"Occurances of '{string}':\")\n",
    "                for match in matches: \n",
    "                    print(match)\n",
    "                "
   ]
  },
  {
   "cell_type": "code",
   "execution_count": 48,
   "id": "53dd8fdd-984a-4273-833d-fdc76884ee89",
   "metadata": {
    "tags": []
   },
   "outputs": [
    {
     "name": "stdout",
     "output_type": "stream",
     "text": [
      "Occurances of '1. ':\n",
      "1. \n",
      "1D \n",
      "1D \n",
      "10 \n",
      "1D \n",
      "1D \n",
      "1a \n",
      "1D \n",
      "1a \n",
      "1D \n",
      "1D \n",
      "1D \n",
      "1b \n",
      "1D \n",
      "Occurances of '2. ':\n",
      "2. \n",
      "Occurances of '3. ':\n",
      "3. \n"
     ]
    }
   ],
   "source": [
    "split_HW(\"020_HW_BasicNumpy.md\")"
   ]
  }
 ],
 "metadata": {
  "kernelspec": {
   "display_name": "Python 3 (ipykernel)",
   "language": "python",
   "name": "python3"
  },
  "language_info": {
   "codemirror_mode": {
    "name": "ipython",
    "version": 3
   },
   "file_extension": ".py",
   "mimetype": "text/x-python",
   "name": "python",
   "nbconvert_exporter": "python",
   "pygments_lexer": "ipython3",
   "version": "3.11.4"
  }
 },
 "nbformat": 4,
 "nbformat_minor": 5
}
