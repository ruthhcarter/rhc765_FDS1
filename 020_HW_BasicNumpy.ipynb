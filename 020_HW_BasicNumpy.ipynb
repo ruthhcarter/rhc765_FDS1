{
 "cells": [
  {
   "cell_type": "markdown",
   "id": "9704bae2-12fb-4646-ae51-10a38de9fa68",
   "metadata": {},
   "source": [
    "## NumPy Basics HW"
   ]
  },
  {
   "cell_type": "code",
   "execution_count": 1,
   "id": "32393761-a3e8-4654-848f-143b682409a1",
   "metadata": {
    "tags": []
   },
   "outputs": [],
   "source": [
    "import numpy as np"
   ]
  },
  {
   "cell_type": "markdown",
   "id": "7c98540c-43c4-466e-a4c3-933c5a778535",
   "metadata": {},
   "source": [
    "### 1. Array Creation: "
   ]
  },
  {
   "cell_type": "code",
   "execution_count": 1,
   "id": "08fd34af-b81d-41c1-b88b-f0b2b967f8fd",
   "metadata": {
    "tags": []
   },
   "outputs": [],
   "source": [
    "#a. Create a 1D array containing numbers from 0 to 9"
   ]
  },
  {
   "cell_type": "code",
   "execution_count": 2,
   "id": "8ce197f7-62c6-441e-ab78-b5a7270cb707",
   "metadata": {
    "tags": []
   },
   "outputs": [
    {
     "data": {
      "text/plain": [
       "array([0, 1, 2, 3, 4, 5, 6, 7, 8, 9])"
      ]
     },
     "execution_count": 2,
     "metadata": {},
     "output_type": "execute_result"
    }
   ],
   "source": [
    "a = np.array([0,1,2,3,4,5,6,7,8,9])\n",
    "a"
   ]
  },
  {
   "cell_type": "code",
   "execution_count": 8,
   "id": "102f66e7-6434-4685-bb3a-13e7760e0098",
   "metadata": {
    "tags": []
   },
   "outputs": [],
   "source": [
    "#b. Create a 3x3 matrix with numbers from 1 to 9"
   ]
  },
  {
   "cell_type": "code",
   "execution_count": 3,
   "id": "e0a00c36-a113-4b7e-9f87-1aee6f15f8e0",
   "metadata": {
    "tags": []
   },
   "outputs": [
    {
     "data": {
      "text/plain": [
       "array([[1, 2, 3],\n",
       "       [4, 5, 6],\n",
       "       [7, 8, 9]])"
      ]
     },
     "execution_count": 3,
     "metadata": {},
     "output_type": "execute_result"
    }
   ],
   "source": [
    "b=np.array([[1,2,3],[4,5,6],[7,8,9]])\n",
    "b"
   ]
  },
  {
   "cell_type": "code",
   "execution_count": 10,
   "id": "ed1a409f-569f-4ac6-8f70-892fce28c9c4",
   "metadata": {
    "tags": []
   },
   "outputs": [],
   "source": [
    "#c. Generate a 1D array of 10 random integers between 50 and 100"
   ]
  },
  {
   "cell_type": "code",
   "execution_count": 5,
   "id": "02394812-8cfa-4dd1-899f-995bbcd3cadb",
   "metadata": {
    "tags": []
   },
   "outputs": [],
   "source": [
    "rng = np.random.default_rng()"
   ]
  },
  {
   "cell_type": "code",
   "execution_count": 93,
   "id": "3da4eab7-8ac5-4589-a874-e2875d5cafb3",
   "metadata": {
    "tags": []
   },
   "outputs": [
    {
     "data": {
      "text/plain": [
       "array([[91, 92, 52, 61, 56, 54, 78, 53, 72, 91]])"
      ]
     },
     "execution_count": 93,
     "metadata": {},
     "output_type": "execute_result"
    }
   ],
   "source": [
    "c=rng.integers(50,100, size=(1,10))\n",
    "np.array(c)\n",
    "c"
   ]
  },
  {
   "cell_type": "code",
   "execution_count": 41,
   "id": "c231e1f0-c27b-4299-bbe3-2659d27b8f80",
   "metadata": {
    "tags": []
   },
   "outputs": [],
   "source": [
    "#d. Create a 3x4 (row,column) matrix of random floating-point numbers between 0 and 1."
   ]
  },
  {
   "cell_type": "code",
   "execution_count": 7,
   "id": "22a96c69-20c5-4dac-8827-1dad607e142f",
   "metadata": {
    "tags": []
   },
   "outputs": [
    {
     "data": {
      "text/plain": [
       "array([[0.5213726 , 0.76934817, 0.89799248, 0.01347922],\n",
       "       [0.69785647, 0.60355742, 0.74375589, 0.35340709],\n",
       "       [0.11780711, 0.87921352, 0.91458159, 0.09581511]])"
      ]
     },
     "execution_count": 7,
     "metadata": {},
     "output_type": "execute_result"
    }
   ],
   "source": [
    "d= np.random.rand(3,4)\n",
    "d"
   ]
  },
  {
   "cell_type": "markdown",
   "id": "2b3d5b0d-e6b4-4c1b-9fdc-0655ec046b05",
   "metadata": {},
   "source": [
    "### 2. Array Indexing"
   ]
  },
  {
   "cell_type": "code",
   "execution_count": 34,
   "id": "267cbf0b-68cc-442c-92dc-820434204803",
   "metadata": {
    "tags": []
   },
   "outputs": [],
   "source": [
    "#a. From the 1D array created in 1a, extract all even numbers."
   ]
  },
  {
   "cell_type": "code",
   "execution_count": 37,
   "id": "401b3647-dfa7-4a1c-a0c1-684d776892e3",
   "metadata": {
    "tags": []
   },
   "outputs": [
    {
     "name": "stdout",
     "output_type": "stream",
     "text": [
      "Values that are even are [0, 2, 4, 6, 8]\n"
     ]
    }
   ],
   "source": [
    "empty=[]\n",
    "for i in a: \n",
    "    if i % 2 == 0:\n",
    "        empty.append(i)\n",
    "print(\"Values that are even are\", empty)"
   ]
  },
  {
   "cell_type": "code",
   "execution_count": 52,
   "id": "74fcacf0-9207-4c50-a0a4-36ecf363bfb0",
   "metadata": {
    "tags": []
   },
   "outputs": [],
   "source": [
    "#b. From the 3x3 matrix created in 1b, extract the second row."
   ]
  },
  {
   "cell_type": "code",
   "execution_count": 9,
   "id": "81a41b85-36c7-4047-bdea-e64daf0c8d44",
   "metadata": {},
   "outputs": [
    {
     "data": {
      "text/plain": [
       "array([4, 5, 6])"
      ]
     },
     "execution_count": 9,
     "metadata": {},
     "output_type": "execute_result"
    }
   ],
   "source": [
    "b[1,]"
   ]
  },
  {
   "cell_type": "code",
   "execution_count": null,
   "id": "45f9d5a1-a678-4948-aee2-b163cabebec5",
   "metadata": {},
   "outputs": [],
   "source": [
    "#c. From the 3x3 matrix, extract the element \n",
    "#at the third row and second column."
   ]
  },
  {
   "cell_type": "code",
   "execution_count": 10,
   "id": "70144bc4-38be-499d-9529-b24827a8468b",
   "metadata": {
    "tags": []
   },
   "outputs": [
    {
     "data": {
      "text/plain": [
       "8"
      ]
     },
     "execution_count": 10,
     "metadata": {},
     "output_type": "execute_result"
    }
   ],
   "source": [
    "b[2,1]"
   ]
  },
  {
   "cell_type": "code",
   "execution_count": null,
   "id": "f8b952ef-1eb8-4851-bc2f-0705680a7602",
   "metadata": {},
   "outputs": [],
   "source": [
    "#d. From the 3x4 matrix created in 1d, extract all elements greater than 0.5."
   ]
  },
  {
   "cell_type": "code",
   "execution_count": 35,
   "id": "074b2da5-dd96-4fb7-96f3-78c858200ff2",
   "metadata": {
    "tags": []
   },
   "outputs": [
    {
     "name": "stdout",
     "output_type": "stream",
     "text": [
      "Values bigger than .5 = [0.5213726  0.76934817 0.89799248 0.69785647 0.60355742 0.74375589\n",
      " 0.87921352 0.91458159]\n"
     ]
    }
   ],
   "source": [
    "print(\"Values bigger than .5 =\", d[d>.5])"
   ]
  },
  {
   "cell_type": "markdown",
   "id": "cbd40bad-14d7-4fa5-bcf7-0212b585be9f",
   "metadata": {},
   "source": [
    "### 3. Basic Math Operators: "
   ]
  },
  {
   "cell_type": "code",
   "execution_count": 38,
   "id": "f53f4e04-e018-45ed-872e-95e269a379a4",
   "metadata": {
    "tags": []
   },
   "outputs": [],
   "source": [
    "#a. Create two arrays A and B of shape (4, 4) \n",
    "#with random integers between 1 and 10. Compute the element-wise sum and product."
   ]
  },
  {
   "cell_type": "code",
   "execution_count": 61,
   "id": "46e8fd69-51f2-43dc-b43d-f3d9a49a5f4d",
   "metadata": {
    "tags": []
   },
   "outputs": [
    {
     "data": {
      "text/plain": [
       "array([[6, 2, 3, 5],\n",
       "       [1, 5, 4, 8],\n",
       "       [9, 4, 2, 1],\n",
       "       [9, 1, 8, 5]])"
      ]
     },
     "execution_count": 61,
     "metadata": {},
     "output_type": "execute_result"
    }
   ],
   "source": [
    "#first array\n",
    "A = rng.integers(1,10, size=(4,4))\n",
    "np.array(A)\n",
    "A"
   ]
  },
  {
   "cell_type": "code",
   "execution_count": 63,
   "id": "7d5a1023-3985-4300-980f-28fc3e467ecc",
   "metadata": {
    "tags": []
   },
   "outputs": [
    {
     "data": {
      "text/plain": [
       "array([[1, 6, 2, 9],\n",
       "       [9, 7, 2, 8],\n",
       "       [5, 6, 9, 7],\n",
       "       [9, 6, 3, 7]])"
      ]
     },
     "execution_count": 63,
     "metadata": {},
     "output_type": "execute_result"
    }
   ],
   "source": [
    "#second array \n",
    "B = rng.integers(1,10, size=(4,4))\n",
    "np.array(B)\n",
    "B"
   ]
  },
  {
   "cell_type": "code",
   "execution_count": 64,
   "id": "7e6544d4-6d8d-43ba-bb1a-7308227133c2",
   "metadata": {
    "tags": []
   },
   "outputs": [
    {
     "data": {
      "text/plain": [
       "array([[ 7,  8,  5, 14],\n",
       "       [10, 12,  6, 16],\n",
       "       [14, 10, 11,  8],\n",
       "       [18,  7, 11, 12]])"
      ]
     },
     "execution_count": 64,
     "metadata": {},
     "output_type": "execute_result"
    }
   ],
   "source": [
    "#element-wise sum: \n",
    "np.add(A,B)\n"
   ]
  },
  {
   "cell_type": "code",
   "execution_count": 67,
   "id": "ec1d403b-018e-4267-b1da-9313696d536a",
   "metadata": {
    "tags": []
   },
   "outputs": [
    {
     "data": {
      "text/plain": [
       "array([[ 6, 12,  6, 45],\n",
       "       [ 9, 35,  8, 64],\n",
       "       [45, 24, 18,  7],\n",
       "       [81,  6, 24, 35]])"
      ]
     },
     "execution_count": 67,
     "metadata": {},
     "output_type": "execute_result"
    }
   ],
   "source": [
    "#element-wise prod:\n",
    "A*B"
   ]
  },
  {
   "cell_type": "code",
   "execution_count": 68,
   "id": "bf6cf88d-cdcb-4484-88f2-c4df7cbbbe3e",
   "metadata": {
    "tags": []
   },
   "outputs": [],
   "source": [
    "#b. Multiply the 1D array created in 1a by 5."
   ]
  },
  {
   "cell_type": "code",
   "execution_count": 69,
   "id": "82d36fa3-be56-4010-a3bf-14256c4e9452",
   "metadata": {
    "tags": []
   },
   "outputs": [
    {
     "data": {
      "text/plain": [
       "array([ 0,  5, 10, 15, 20, 25, 30, 35, 40, 45])"
      ]
     },
     "execution_count": 69,
     "metadata": {},
     "output_type": "execute_result"
    }
   ],
   "source": [
    "a * 5 "
   ]
  },
  {
   "cell_type": "code",
   "execution_count": 70,
   "id": "4b9fc592-9073-45d2-91d2-93dd13ef56c3",
   "metadata": {
    "tags": []
   },
   "outputs": [],
   "source": [
    "#c. Subtract the mean of the 1D array created in 1a from each of its elements"
   ]
  },
  {
   "cell_type": "code",
   "execution_count": 71,
   "id": "aa5b8888-a41b-4b19-bee9-d68bda269469",
   "metadata": {
    "tags": []
   },
   "outputs": [
    {
     "data": {
      "text/plain": [
       "4.5"
      ]
     },
     "execution_count": 71,
     "metadata": {},
     "output_type": "execute_result"
    }
   ],
   "source": [
    "a.mean()"
   ]
  },
  {
   "cell_type": "code",
   "execution_count": 72,
   "id": "5cd412bf-3551-4628-b646-c667b0ea0164",
   "metadata": {
    "tags": []
   },
   "outputs": [
    {
     "data": {
      "text/plain": [
       "array([-4.5, -3.5, -2.5, -1.5, -0.5,  0.5,  1.5,  2.5,  3.5,  4.5])"
      ]
     },
     "execution_count": 72,
     "metadata": {},
     "output_type": "execute_result"
    }
   ],
   "source": [
    "a-4.5"
   ]
  },
  {
   "cell_type": "markdown",
   "id": "0d724475-0311-4563-8e9f-4816fdc5e1d5",
   "metadata": {},
   "source": [
    "### 4. Basic Statistical Calculations: "
   ]
  },
  {
   "cell_type": "code",
   "execution_count": 73,
   "id": "6c401b65-5445-46d4-9f5d-78de3761c649",
   "metadata": {
    "tags": []
   },
   "outputs": [],
   "source": [
    "#a. Compute the mean, median, and standard deviation of the 1D array from 1a"
   ]
  },
  {
   "cell_type": "code",
   "execution_count": 86,
   "id": "99afb219-26bf-436d-abfa-5850cde29ebd",
   "metadata": {
    "tags": []
   },
   "outputs": [
    {
     "name": "stdout",
     "output_type": "stream",
     "text": [
      "4.5\n",
      "4.5\n",
      "2.8722813232690143\n"
     ]
    }
   ],
   "source": [
    "print(np.mean(a))\n",
    "print(np.median(a))\n",
    "print(np.std(a))"
   ]
  },
  {
   "cell_type": "code",
   "execution_count": 88,
   "id": "74203033-b107-4cd0-973c-42ccb379b2ca",
   "metadata": {
    "tags": []
   },
   "outputs": [],
   "source": [
    "#b. Find the minimum and maximum values of the 3x4 matrix created in 1d"
   ]
  },
  {
   "cell_type": "code",
   "execution_count": 90,
   "id": "0624d585-1125-47d8-92b6-4fee4242806e",
   "metadata": {
    "tags": []
   },
   "outputs": [
    {
     "name": "stdout",
     "output_type": "stream",
     "text": [
      "9\n",
      "0\n"
     ]
    }
   ],
   "source": [
    "print(np.max(a))\n",
    "print(np.min(a))"
   ]
  },
  {
   "cell_type": "code",
   "execution_count": 91,
   "id": "865f8d2e-a51e-44d5-8695-8ab6255fac27",
   "metadata": {
    "tags": []
   },
   "outputs": [],
   "source": [
    "#c. Find the position (index) of the minimum and maximum values in the 1D array created in 1c."
   ]
  },
  {
   "cell_type": "code",
   "execution_count": 95,
   "id": "1f65a74b-0fdb-495c-ab21-1952af4b509b",
   "metadata": {
    "tags": []
   },
   "outputs": [
    {
     "name": "stdout",
     "output_type": "stream",
     "text": [
      "1\n",
      "2\n"
     ]
    }
   ],
   "source": [
    "print(np.argmax(c))\n",
    "print(np.argmin(c))"
   ]
  },
  {
   "cell_type": "markdown",
   "id": "a0a680f4-7a3d-4905-80d8-c15463da5362",
   "metadata": {
    "tags": []
   },
   "source": [
    "### 5. Bonus"
   ]
  },
  {
   "cell_type": "code",
   "execution_count": 98,
   "id": "2b717a21-cf44-43c6-a74a-f8796da49c13",
   "metadata": {
    "tags": []
   },
   "outputs": [],
   "source": [
    "#a. Compute the dot product of two 1D arrays of length 5. \n",
    "#Remember, the dot product is the sum of the products of \n",
    "#corresponding entries of the two sequences of numbers"
   ]
  },
  {
   "cell_type": "code",
   "execution_count": 99,
   "id": "0a6a937b-a919-4066-9758-d3f6ee5504b0",
   "metadata": {
    "tags": []
   },
   "outputs": [
    {
     "data": {
      "text/plain": [
       "4330"
      ]
     },
     "execution_count": 99,
     "metadata": {},
     "output_type": "execute_result"
    }
   ],
   "source": [
    "e = np.array([23,35,667,34,420])\n",
    "f = np.array([1,2,3,4,5])\n",
    "\n",
    "np.dot(e,f)"
   ]
  },
  {
   "cell_type": "code",
   "execution_count": 100,
   "id": "6ad7d424-70bf-43d0-9275-41df0c03d986",
   "metadata": {
    "tags": []
   },
   "outputs": [],
   "source": [
    "# b. Reshape the 3x3 matrix from 1b into a 1D array of length 9."
   ]
  },
  {
   "cell_type": "code",
   "execution_count": 101,
   "id": "f3b8a24a-482e-48b6-b3a6-0eb3443138bb",
   "metadata": {
    "tags": []
   },
   "outputs": [
    {
     "data": {
      "text/plain": [
       "array([1, 2, 3, 4, 5, 6, 7, 8, 9])"
      ]
     },
     "execution_count": 101,
     "metadata": {},
     "output_type": "execute_result"
    }
   ],
   "source": [
    "b.flatten()"
   ]
  }
 ],
 "metadata": {
  "kernelspec": {
   "display_name": "Python 3 (ipykernel)",
   "language": "python",
   "name": "python3"
  },
  "language_info": {
   "codemirror_mode": {
    "name": "ipython",
    "version": 3
   },
   "file_extension": ".py",
   "mimetype": "text/x-python",
   "name": "python",
   "nbconvert_exporter": "python",
   "pygments_lexer": "ipython3",
   "version": "3.11.4"
  }
 },
 "nbformat": 4,
 "nbformat_minor": 5
}
