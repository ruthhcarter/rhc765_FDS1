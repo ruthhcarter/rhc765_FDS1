{
 "cells": [
  {
   "cell_type": "markdown",
   "id": "c8a89892-dd0f-4331-9399-258b6de8019e",
   "metadata": {},
   "source": [
    "## 1: Variable and Assignment"
   ]
  },
  {
   "cell_type": "code",
   "execution_count": 31,
   "id": "77b41e45-3304-4699-b2d9-4b9013f4c963",
   "metadata": {
    "tags": []
   },
   "outputs": [
    {
     "name": "stdout",
     "output_type": "stream",
     "text": [
      "Ruth\n"
     ]
    }
   ],
   "source": [
    "#1a: \n",
    "name = 'Ruth'\n",
    "print(name)"
   ]
  },
  {
   "cell_type": "code",
   "execution_count": 32,
   "id": "0052d701-3ecb-459e-ae31-9f308db7d7ca",
   "metadata": {
    "tags": []
   },
   "outputs": [
    {
     "name": "stdout",
     "output_type": "stream",
     "text": [
      "19\n"
     ]
    }
   ],
   "source": [
    "#1b: \n",
    "age = 19 \n",
    "print(age)"
   ]
  },
  {
   "cell_type": "code",
   "execution_count": 33,
   "id": "8fc49b6d-0dfa-49b7-a253-bd379aac34e3",
   "metadata": {
    "tags": []
   },
   "outputs": [],
   "source": [
    "#1c: \n",
    "name, age = age, name"
   ]
  },
  {
   "cell_type": "code",
   "execution_count": 34,
   "id": "bfee50b2-54c7-4c07-99b9-ac6f06285f95",
   "metadata": {
    "tags": []
   },
   "outputs": [
    {
     "name": "stdout",
     "output_type": "stream",
     "text": [
      "Ruth\n"
     ]
    }
   ],
   "source": [
    "print(age)"
   ]
  },
  {
   "cell_type": "code",
   "execution_count": 35,
   "id": "a39459d3-0c11-425b-9d0d-0299a96c6e4f",
   "metadata": {
    "tags": []
   },
   "outputs": [
    {
     "name": "stdout",
     "output_type": "stream",
     "text": [
      "19\n"
     ]
    }
   ],
   "source": [
    "print(name)"
   ]
  },
  {
   "cell_type": "markdown",
   "id": "18b68300-939e-431f-9fb1-072d62b8bdee",
   "metadata": {},
   "source": [
    "## 2: Data Types"
   ]
  },
  {
   "cell_type": "code",
   "execution_count": 76,
   "id": "05f4b191-19d9-411a-9096-04a8fb896476",
   "metadata": {
    "tags": []
   },
   "outputs": [
    {
     "name": "stdout",
     "output_type": "stream",
     "text": [
      "<class 'int'>\n",
      "<class 'float'>\n",
      "<class 'str'>\n",
      "<class 'list'>\n",
      "<class 'tuple'>\n",
      "<class 'set'>\n",
      "<class 'bool'>\n"
     ]
    }
   ],
   "source": [
    "#2a\n",
    "print(type(5))\n",
    "print(type(5.0))\n",
    "print(type(\"5\"))\n",
    "print(type([5]))\n",
    "print(type((5, )))\n",
    "print(type({5}))\n",
    "print(type(True))"
   ]
  },
  {
   "cell_type": "code",
   "execution_count": 30,
   "id": "f845eb94-5fba-4644-9880-945de2e4ef11",
   "metadata": {
    "tags": []
   },
   "outputs": [
    {
     "name": "stdout",
     "output_type": "stream",
     "text": [
      "True\n"
     ]
    }
   ],
   "source": [
    "#2b\n",
    "is_student = True \n",
    "print(is_student)"
   ]
  },
  {
   "cell_type": "markdown",
   "id": "09beca22-ff1a-48fa-ab23-d417df499e7a",
   "metadata": {},
   "source": [
    "## 3: Basic Operators "
   ]
  },
  {
   "cell_type": "code",
   "execution_count": 36,
   "id": "6e6ff202-5f54-489d-9cdd-eb389b494bc8",
   "metadata": {
    "tags": []
   },
   "outputs": [
    {
     "name": "stdout",
     "output_type": "stream",
     "text": [
      "38 -16 56 25.0\n"
     ]
    }
   ],
   "source": [
    "#3a\n",
    "a = 15 + 23 \n",
    "b = 34 - 50 \n",
    "c = 8 * 7 \n",
    "d = 100 / 4\n",
    "print (a,b,c,d)"
   ]
  },
  {
   "cell_type": "code",
   "execution_count": 37,
   "id": "1db1b758-fcf2-4dcb-b53c-641f0f61d08d",
   "metadata": {
    "tags": []
   },
   "outputs": [
    {
     "name": "stdout",
     "output_type": "stream",
     "text": [
      "2.0 100000\n"
     ]
    }
   ],
   "source": [
    "#3b\n",
    "a = 10 \n",
    "b = 5 \n",
    "c = a / b \n",
    "d = a ** b \n",
    "print (c, d)"
   ]
  },
  {
   "cell_type": "markdown",
   "id": "285ed7c9-16d2-4109-b2f6-333f22e22342",
   "metadata": {},
   "source": [
    "## 4: Type Conversion"
   ]
  },
  {
   "cell_type": "code",
   "execution_count": 55,
   "id": "43ee7e11-91f4-4a5f-80ef-a121a4c5f6a1",
   "metadata": {
    "tags": []
   },
   "outputs": [
    {
     "data": {
      "text/plain": [
       "str"
      ]
     },
     "execution_count": 55,
     "metadata": {},
     "output_type": "execute_result"
    }
   ],
   "source": [
    "#4a\n",
    "a = \"123\"\n",
    "type(a)"
   ]
  },
  {
   "cell_type": "code",
   "execution_count": 77,
   "id": "e4ea66e6-06eb-4cad-91b3-c43bb459ed5d",
   "metadata": {
    "tags": []
   },
   "outputs": [
    {
     "data": {
      "text/plain": [
       "int"
      ]
     },
     "execution_count": 77,
     "metadata": {},
     "output_type": "execute_result"
    }
   ],
   "source": [
    "b=int(a)\n",
    "type(b)"
   ]
  },
  {
   "cell_type": "code",
   "execution_count": 73,
   "id": "7f0571f2-a199-41d9-acd1-38affc00b9f4",
   "metadata": {
    "tags": []
   },
   "outputs": [
    {
     "data": {
      "text/plain": [
       "int"
      ]
     },
     "execution_count": 73,
     "metadata": {},
     "output_type": "execute_result"
    }
   ],
   "source": [
    "#4b \n",
    "x = 456 \n",
    "type(x)"
   ]
  },
  {
   "cell_type": "code",
   "execution_count": 75,
   "id": "84ef5410-7fa6-4512-be90-2eccef70d138",
   "metadata": {
    "tags": []
   },
   "outputs": [
    {
     "data": {
      "text/plain": [
       "str"
      ]
     },
     "execution_count": 75,
     "metadata": {},
     "output_type": "execute_result"
    }
   ],
   "source": [
    "y = str(x)\n",
    "type(y)"
   ]
  },
  {
   "cell_type": "code",
   "execution_count": 62,
   "id": "9b0e3353-d96e-4326-b8de-f1bd980c5c9e",
   "metadata": {
    "tags": []
   },
   "outputs": [
    {
     "data": {
      "text/plain": [
       "float"
      ]
     },
     "execution_count": 62,
     "metadata": {},
     "output_type": "execute_result"
    }
   ],
   "source": [
    "w = 78.9\n",
    "type(w)"
   ]
  },
  {
   "cell_type": "code",
   "execution_count": 68,
   "id": "8cb51664-b1fb-4590-9287-1d728535577a",
   "metadata": {
    "tags": []
   },
   "outputs": [
    {
     "name": "stdout",
     "output_type": "stream",
     "text": [
      "123 456 78\n"
     ]
    }
   ],
   "source": [
    "s = int(w)\n",
    "print(b, y, s)"
   ]
  },
  {
   "cell_type": "markdown",
   "id": "a75e182f-f17e-4c39-9680-2021b0214207",
   "metadata": {},
   "source": [
    "## 5: String Manipulation "
   ]
  },
  {
   "cell_type": "code",
   "execution_count": 69,
   "id": "45413d71-0d83-4cd0-a095-5aa502a3f2b8",
   "metadata": {
    "tags": []
   },
   "outputs": [
    {
     "name": "stdout",
     "output_type": "stream",
     "text": [
      "PythonRocks\n"
     ]
    }
   ],
   "source": [
    "#5a \n",
    "p = \"Python\" \n",
    "r = \"Rocks\" \n",
    "d = p + r\n",
    "print(d)"
   ]
  },
  {
   "cell_type": "code",
   "execution_count": 71,
   "id": "8cd91168-1a71-4e5d-bac6-505591226e8e",
   "metadata": {
    "tags": []
   },
   "outputs": [
    {
     "name": "stdout",
     "output_type": "stream",
     "text": [
      "hellohellohello\n"
     ]
    }
   ],
   "source": [
    "#5b \n",
    "h = \"hello\" \n",
    "g = h * 3\n",
    "print(g)"
   ]
  },
  {
   "cell_type": "markdown",
   "id": "867b7a90-0b6e-4104-b3e7-4bdd75949277",
   "metadata": {
    "tags": []
   },
   "source": [
    "## 6: Bonus Question"
   ]
  },
  {
   "cell_type": "code",
   "execution_count": 4,
   "id": "1efd75e2-5b5c-4db8-a2c2-dc26e3b0d875",
   "metadata": {
    "tags": []
   },
   "outputs": [],
   "source": [
    "#6 \n",
    "x = 5\n",
    "y = 10 \n",
    "z = 15 "
   ]
  },
  {
   "cell_type": "code",
   "execution_count": 6,
   "id": "0c63a3b6-9b40-46f9-bbf0-cee320e43548",
   "metadata": {
    "tags": []
   },
   "outputs": [
    {
     "name": "stdout",
     "output_type": "stream",
     "text": [
      "10\n"
     ]
    }
   ],
   "source": [
    "#x has value of y\n",
    "print(x+x)"
   ]
  },
  {
   "cell_type": "code",
   "execution_count": 7,
   "id": "6aa7fd45-1b4c-4727-8fa8-0fa3062e2fca",
   "metadata": {
    "tags": []
   },
   "outputs": [
    {
     "name": "stdout",
     "output_type": "stream",
     "text": [
      "15\n"
     ]
    }
   ],
   "source": [
    "#y has the value of z\n",
    "print(y+x)"
   ]
  },
  {
   "cell_type": "code",
   "execution_count": 8,
   "id": "f3cbcabf-91d2-4b25-996e-cd9f8e3933f0",
   "metadata": {
    "tags": []
   },
   "outputs": [
    {
     "name": "stdout",
     "output_type": "stream",
     "text": [
      "5\n"
     ]
    }
   ],
   "source": [
    "#z has the value of x \n",
    "print(z-y)"
   ]
  }
 ],
 "metadata": {
  "kernelspec": {
   "display_name": "Python 3 (ipykernel)",
   "language": "python",
   "name": "python3"
  },
  "language_info": {
   "codemirror_mode": {
    "name": "ipython",
    "version": 3
   },
   "file_extension": ".py",
   "mimetype": "text/x-python",
   "name": "python",
   "nbconvert_exporter": "python",
   "pygments_lexer": "ipython3",
   "version": "3.11.4"
  }
 },
 "nbformat": 4,
 "nbformat_minor": 5
}
