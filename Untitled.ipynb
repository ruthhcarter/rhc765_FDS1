{
 "cells": [
  {
   "cell_type": "code",
   "execution_count": 25,
   "id": "d6223eb8-b832-4a96-8359-1d2221e0d314",
   "metadata": {
    "tags": []
   },
   "outputs": [
    {
     "name": "stdin",
     "output_type": "stream",
     "text": [
      "Enter numbers one by one. Type 'done' when finished. 3404\n",
      "Enter numbers one by one. Type 'done' when finished. 4534\n",
      "Enter numbers one by one. Type 'done' when finished. 6\n",
      "Enter numbers one by one. Type 'done' when finished. 324\n",
      "Enter numbers one by one. Type 'done' when finished. done\n"
     ]
    }
   ],
   "source": [
    "numbers=[]\n",
    "i=1\n",
    "\n",
    "while i>=1:\n",
    "    x = input(\"Enter numbers one by one. Type 'done' when finished.\")\n",
    "    i += 1\n",
    "    if x.isnumeric():\n",
    "        x= int(x)\n",
    "        numbers.append(x)\n",
    "    else: \n",
    "        break      "
   ]
  },
  {
   "cell_type": "markdown",
   "id": "828cbd39-40e8-4af6-b9c9-adfa4efa17d4",
   "metadata": {},
   "source": [
    "### Computational Operators"
   ]
  },
  {
   "cell_type": "markdown",
   "id": "1fff6cbe-46dd-458e-809d-7d27201b08a5",
   "metadata": {
    "tags": []
   },
   "source": [
    "#### Mean: "
   ]
  },
  {
   "cell_type": "code",
   "execution_count": 27,
   "id": "d95de505-0409-4bd5-a412-d953e982fe78",
   "metadata": {},
   "outputs": [],
   "source": [
    "def mean(numbers):\n",
    "    for num in numbers:\n",
    "        avg=sum(numbers)/len(numbers)\n",
    "    print(avg)"
   ]
  },
  {
   "cell_type": "code",
   "execution_count": 28,
   "id": "5440481e-c392-46e8-97f4-ba6259027994",
   "metadata": {
    "tags": []
   },
   "outputs": [
    {
     "ename": "TypeError",
     "evalue": "'float' object is not callable",
     "output_type": "error",
     "traceback": [
      "\u001b[0;31m---------------------------------------------------------------------------\u001b[0m",
      "\u001b[0;31mTypeError\u001b[0m                                 Traceback (most recent call last)",
      "Cell \u001b[0;32mIn[28], line 1\u001b[0m\n\u001b[0;32m----> 1\u001b[0m mean(numbers)\n",
      "Cell \u001b[0;32mIn[27], line 4\u001b[0m, in \u001b[0;36mmean\u001b[0;34m(numbers)\u001b[0m\n\u001b[1;32m      2\u001b[0m \u001b[38;5;28;01mfor\u001b[39;00m num \u001b[38;5;129;01min\u001b[39;00m numbers:\n\u001b[1;32m      3\u001b[0m     avg\u001b[38;5;241m=\u001b[39m\u001b[38;5;28msum\u001b[39m(numbers)\u001b[38;5;241m/\u001b[39m\u001b[38;5;28mlen\u001b[39m(numbers)\n\u001b[0;32m----> 4\u001b[0m \u001b[38;5;28mprint\u001b[39m(avg)\n",
      "\u001b[0;31mTypeError\u001b[0m: 'float' object is not callable"
     ]
    }
   ],
   "source": [
    "mean(numbers)"
   ]
  },
  {
   "cell_type": "markdown",
   "id": "7056bd24-0797-4cb8-982a-ae778bf8e665",
   "metadata": {},
   "source": [
    "#### Variance: "
   ]
  },
  {
   "cell_type": "code",
   "execution_count": 24,
   "id": "7008a4c4-2e92-4bdf-99e8-9dae6baa3a3b",
   "metadata": {
    "tags": []
   },
   "outputs": [
    {
     "ename": "TypeError",
     "evalue": "'float' object is not callable",
     "output_type": "error",
     "traceback": [
      "\u001b[0;31m---------------------------------------------------------------------------\u001b[0m",
      "\u001b[0;31mTypeError\u001b[0m                                 Traceback (most recent call last)",
      "Cell \u001b[0;32mIn[24], line 2\u001b[0m\n\u001b[1;32m      1\u001b[0m \u001b[38;5;28;01mfor\u001b[39;00m num \u001b[38;5;129;01min\u001b[39;00m numbers: \n\u001b[0;32m----> 2\u001b[0m     \u001b[38;5;28mprint\u001b[39m((avg \u001b[38;5;241m-\u001b[39m num)\u001b[38;5;241m*\u001b[39m\u001b[38;5;241m*\u001b[39m\u001b[38;5;241m2\u001b[39m)\n",
      "\u001b[0;31mTypeError\u001b[0m: 'float' object is not callable"
     ]
    }
   ],
   "source": [
    "\n",
    "for num in numbers: \n",
    "    print((avg - num)**2)\n",
    "    \n",
    "    \n",
    "    \n",
    " "
   ]
  },
  {
   "cell_type": "code",
   "execution_count": null,
   "id": "6b9a8ced-7826-4200-86de-a9caf6ca7881",
   "metadata": {},
   "outputs": [],
   "source": []
  }
 ],
 "metadata": {
  "kernelspec": {
   "display_name": "Python 3 (ipykernel)",
   "language": "python",
   "name": "python3"
  },
  "language_info": {
   "codemirror_mode": {
    "name": "ipython",
    "version": 3
   },
   "file_extension": ".py",
   "mimetype": "text/x-python",
   "name": "python",
   "nbconvert_exporter": "python",
   "pygments_lexer": "ipython3",
   "version": "3.11.4"
  }
 },
 "nbformat": 4,
 "nbformat_minor": 5
}
