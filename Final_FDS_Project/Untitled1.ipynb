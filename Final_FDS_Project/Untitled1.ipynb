{
 "cells": [
  {
   "cell_type": "code",
   "execution_count": null,
   "id": "7e5f2007-3ac0-485c-b5b1-931af165d265",
   "metadata": {},
   "outputs": [],
   "source": [
    "n_trials = 2000  # Number of trials (assuming 2000 people in each state)\n",
    "p_success = state_polls/100  # Estimated percentage of votes for candidate A (adjust as needed)\n",
    "n_states = len(state_pop) # we could set this to 11, but this is more general\n",
    "weighted_polls = np.zeros(n_states) # initialize the vector for the weighted polls\n",
    "\n",
    "ppl_per_EC_vote = 1000 # given in the problem\n",
    "EC_votes_by_state = state_pop/ppl_per_EC_vote \n",
    "EC_vote_threshold = sum(EC_votes_by_state)/2\n",
    "pop_vote_threshold = sum(voter_turnout)/2\n",
    "\n",
    "for i in range(10000):\n",
    "     # Resetting the vote counts for each simulation\n",
    "    electoral_votes_Barnes = 0 \n",
    "    pop_votes_Barnes = 0 \n",
    "    \n",
    "    #create variability in polls using rnd.binomial:\n",
    "    polls_variability = rnd.binomial(n=2000, p=p_success, size=(n_states, 7))\n",
    "    polls_var_percent=polls_variability/2000 #creates percentage of pollers that voted for Barnes \n",
    "    \n",
    "    #find weighted avg of the polls (with variability) \n",
    "    for k in range(n_states):\n",
    "        weighted_polls[k] = np.average(polls_var_percent[k,:], weights=poll_quality)\n",
    "        \n",
    "    #find voter turnout (with variability)    \n",
    "    for l in range(n_states): \n",
    "        voter_turnout_percent = np.random.normal(loc=.6, scale=0.05, size=11) # Simulate voter turnout variability\n",
    "        voter_turnout_percent = np.clip(voter_turnout_percent, 0, 1) # Ensure voter turnout values are within [0, 1]\n",
    "        voter_turnout = state_pop * voter_turnout_percent  #find voter actual turnout \n",
    "\n",
    "    #find popular vote via weighted avg of polls (with variability) + voter turnout (with variability)   \n",
    "        pred_vote_by_state = weighted_polls * voter_turnout\n",
    "        pred_pop_vote = np.sum(pred_vote_by_state)\n",
    "        \n",
    "    \n",
    "        #find electoral vote: \n",
    "        Barnes_won = pred_vote_by_state > voter_turnout/2 \n",
    "        EC_votes_for_Barnes = np.sum(EC_votes_by_state[Barnes_won])\n",
    "        \n",
    " # Storing the results of the current simulation\n",
    "    electoral_votes_results[i] = EC_votes_for_Barnes # Store the electoral votes for candidate A for this experiment\n",
    "    popular_votes_results[i] = pred_pop_vote # Store the popular votes for candidate A for this experiment\n",
    "    \n",
    "popular_votes_results"
   ]
  },
  {
   "cell_type": "code",
   "execution_count": 1,
   "id": "4bee32af-52db-4e8f-90ac-b3acb3b85ae9",
   "metadata": {
    "tags": []
   },
   "outputs": [
    {
     "ename": "NameError",
     "evalue": "name 'plt' is not defined",
     "output_type": "error",
     "traceback": [
      "\u001b[0;31m---------------------------------------------------------------------------\u001b[0m",
      "\u001b[0;31mNameError\u001b[0m                                 Traceback (most recent call last)",
      "Cell \u001b[0;32mIn[1], line 1\u001b[0m\n\u001b[0;32m----> 1\u001b[0m fig, axs \u001b[38;5;241m=\u001b[39m plt\u001b[38;5;241m.\u001b[39msubplots(\u001b[38;5;241m1\u001b[39m, \u001b[38;5;241m1\u001b[39m, layout\u001b[38;5;241m=\u001b[39m\u001b[38;5;124m\"\u001b[39m\u001b[38;5;124mconstrained\u001b[39m\u001b[38;5;124m\"\u001b[39m, figsize\u001b[38;5;241m=\u001b[39m(\u001b[38;5;241m9\u001b[39m,\u001b[38;5;241m5\u001b[39m))\n\u001b[1;32m      3\u001b[0m \u001b[38;5;66;03m## Popular votes\u001b[39;00m\n\u001b[1;32m      4\u001b[0m plt\u001b[38;5;241m.\u001b[39msubplot(\u001b[38;5;241m1\u001b[39m, \u001b[38;5;241m2\u001b[39m, \u001b[38;5;241m2\u001b[39m)\n",
      "\u001b[0;31mNameError\u001b[0m: name 'plt' is not defined"
     ]
    }
   ],
   "source": [
    "fig, axs = plt.subplots(1, 1, layout=\"constrained\", figsize=(9,5))\n",
    "\n",
    "## Popular votes\n",
    "plt.subplot(1, 2, 2)\n",
    "plt.hist(popular_votes_results, bins=10, density=True, \n",
    "         color='b', alpha=0.75, edgecolor='k')\n",
    "plt.title('Sampling Distribution of Popular Votes for Barnes')\n",
    "plt.xlabel('Number of Votes')\n",
    "plt.ylabel('Frequency')\n",
    "plt.axvline(x=pop_vote_threshold, color='y', linestyle='--', label='Win/Loss Cutoff')\n",
    "plt.legend()\n",
    "\n",
    "\n",
    "#shading of area corresponding to Barnes winning: \n",
    "plt.fill_between(x, p, where=(x > pop_vote_threshold), color='red', alpha=0.6)\n",
    "\n",
    "# Generate points for the best-fit normal distribution\n",
    "xmin, xmax = plt.xlim()\n",
    "\n",
    "mean_popular_votes = np.mean(popular_votes_results)\n",
    "std_dev_popular_votes = np.std(popular_votes_results)\n",
    "\n",
    "x = np.linspace(xmin, xmax, 100)\n",
    "p = stats.norm.pdf(x, mean_popular_votes, std_dev_popular_votes)\n",
    "plt.plot(x, p, 'red', linewidth=2)\n",
    "\n",
    "\n",
    "\n",
    "## Electoral college: \n",
    "plt.subplot(1, 2, 1)\n",
    "\n",
    "plt.hist(electoral_votes_results, bins=20, density=True, \n",
    "         color='b', alpha=0.75, edgecolor='k')\n",
    "plt.axvline(x=EC_vote_threshold, color='y', linestyle='--', label='Win/Loss Cutoff')\n",
    "plt.title('Sampling Distribution of Electoral College Votes')\n",
    "plt.xlabel('Electoral College Votes for Barnes')\n",
    "plt.ylabel('Frequency')\n",
    "plt.legend()\n",
    "\n",
    "plt.tight_layout()\n",
    "plt.show()\n",
    "\n"
   ]
  }
 ],
 "metadata": {
  "kernelspec": {
   "display_name": "Python 3 (ipykernel)",
   "language": "python",
   "name": "python3"
  },
  "language_info": {
   "codemirror_mode": {
    "name": "ipython",
    "version": 3
   },
   "file_extension": ".py",
   "mimetype": "text/x-python",
   "name": "python",
   "nbconvert_exporter": "python",
   "pygments_lexer": "ipython3",
   "version": "3.11.4"
  }
 },
 "nbformat": 4,
 "nbformat_minor": 5
}
