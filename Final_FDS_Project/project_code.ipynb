{
 "cells": [
  {
   "cell_type": "code",
   "execution_count": null,
   "id": "91303be4-6392-4163-a1ee-a9bbbb4f0faf",
   "metadata": {},
   "outputs": [],
   "source": [
    "#fixed:  \n",
    "\n",
    "n_states = len(state_pop) # we could set this to 11, but this is more general\n",
    "weighted_polls = np.zeros(n_states) # initialize the vector for the weighted polls\n",
    "for i in range(n_states):\n",
    "    weighted_polls[i] = np.average(state_polls[i,:], weights=poll_quality)\n",
    "\n"
   ]
  }
 ],
 "metadata": {
  "kernelspec": {
   "display_name": "Python 3 (ipykernel)",
   "language": "python",
   "name": "python3"
  },
  "language_info": {
   "codemirror_mode": {
    "name": "ipython",
    "version": 3
   },
   "file_extension": ".py",
   "mimetype": "text/x-python",
   "name": "python",
   "nbconvert_exporter": "python",
   "pygments_lexer": "ipython3",
   "version": "3.11.4"
  }
 },
 "nbformat": 4,
 "nbformat_minor": 5
}
