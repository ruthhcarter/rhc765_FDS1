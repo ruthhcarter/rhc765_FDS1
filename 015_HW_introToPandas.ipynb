{
 "cells": [
  {
   "cell_type": "markdown",
   "id": "b60b0759-058a-46f4-8726-8c2ce576d0a9",
   "metadata": {},
   "source": [
    "### Series Exercises: "
   ]
  },
  {
   "cell_type": "markdown",
   "id": "28184345-82ac-4211-bfa0-a00628758642",
   "metadata": {},
   "source": [
    "#### 1. Create a Series:"
   ]
  },
  {
   "cell_type": "code",
   "execution_count": 1,
   "id": "28254c8a-7a06-43d7-9303-747f057d9dd9",
   "metadata": {
    "tags": []
   },
   "outputs": [],
   "source": [
    "import pandas as pd"
   ]
  },
  {
   "cell_type": "code",
   "execution_count": 3,
   "id": "ba6ce180-be88-4ca4-934e-0465f586f82f",
   "metadata": {
    "tags": []
   },
   "outputs": [
    {
     "name": "stdout",
     "output_type": "stream",
     "text": [
      "a     apple\n",
      "b    banana\n",
      "c    cherry\n",
      "d      date\n",
      "dtype: object\n",
      "Index(['a', 'b', 'c', 'd'], dtype='object')\n"
     ]
    }
   ],
   "source": [
    "fruits_series=pd.Series(['apple', 'banana','cherry', 'date'],\n",
    "                        index=['a','b','c','d'])\n",
    "print(fruits_series)\n",
    "print(fruits_series.index)"
   ]
  },
  {
   "cell_type": "markdown",
   "id": "773ae8d8-f4e5-46a4-8e20-e80ab12e7941",
   "metadata": {},
   "source": [
    "#### 2. Accessing Elements:"
   ]
  },
  {
   "cell_type": "code",
   "execution_count": 4,
   "id": "8517babe-7cea-4bc5-b622-1e1d2dcd2ea2",
   "metadata": {
    "tags": []
   },
   "outputs": [
    {
     "name": "stdout",
     "output_type": "stream",
     "text": [
      "banana\n"
     ]
    }
   ],
   "source": [
    "print(fruits_series[\"b\"])"
   ]
  },
  {
   "cell_type": "markdown",
   "id": "73acac08-6c76-4d41-971c-96a65cc4b4f4",
   "metadata": {},
   "source": [
    "#### 3. Series Operations:"
   ]
  },
  {
   "cell_type": "code",
   "execution_count": 11,
   "id": "c001fb9c-9026-4dd4-843e-13b39c438711",
   "metadata": {
    "tags": []
   },
   "outputs": [
    {
     "name": "stdout",
     "output_type": "stream",
     "text": [
      "1     1\n",
      "2     4\n",
      "3     9\n",
      "4    16\n",
      "5    25\n",
      "dtype: int64\n",
      "1    11\n",
      "2    14\n",
      "3    19\n",
      "4    26\n",
      "5    35\n",
      "dtype: int64\n"
     ]
    }
   ],
   "source": [
    "onetofive_series=pd.Series([1,4,9,16,25],\n",
    "                           index=[1,2,3,4,5])\n",
    "updated_onetofive_series = onetofive_series + 10\n",
    "print(onetofive_series)\n",
    "print(updated_onetofive_series)"
   ]
  },
  {
   "cell_type": "markdown",
   "id": "a495f495-7bc4-45ac-8e91-13dcffc1faf2",
   "metadata": {},
   "source": [
    "### DataFrame Exercises: "
   ]
  },
  {
   "cell_type": "markdown",
   "id": "fc40c1f6-fcbb-45df-b521-ef492c7989db",
   "metadata": {},
   "source": [
    "#### 1. Create Dataframe: "
   ]
  },
  {
   "cell_type": "code",
   "execution_count": 19,
   "id": "2263ffc9-8032-4903-885b-5dac19fd1b76",
   "metadata": {
    "tags": []
   },
   "outputs": [
    {
     "data": {
      "text/html": [
       "<div>\n",
       "<style scoped>\n",
       "    .dataframe tbody tr th:only-of-type {\n",
       "        vertical-align: middle;\n",
       "    }\n",
       "\n",
       "    .dataframe tbody tr th {\n",
       "        vertical-align: top;\n",
       "    }\n",
       "\n",
       "    .dataframe thead th {\n",
       "        text-align: right;\n",
       "    }\n",
       "</style>\n",
       "<table border=\"1\" class=\"dataframe\">\n",
       "  <thead>\n",
       "    <tr style=\"text-align: right;\">\n",
       "      <th></th>\n",
       "      <th>Name</th>\n",
       "      <th>Age</th>\n",
       "      <th>Grade</th>\n",
       "    </tr>\n",
       "  </thead>\n",
       "  <tbody>\n",
       "    <tr>\n",
       "      <th>0</th>\n",
       "      <td>Jerry</td>\n",
       "      <td>28</td>\n",
       "      <td>C</td>\n",
       "    </tr>\n",
       "    <tr>\n",
       "      <th>1</th>\n",
       "      <td>Leslie</td>\n",
       "      <td>20</td>\n",
       "      <td>A</td>\n",
       "    </tr>\n",
       "    <tr>\n",
       "      <th>2</th>\n",
       "      <td>April</td>\n",
       "      <td>19</td>\n",
       "      <td>B</td>\n",
       "    </tr>\n",
       "  </tbody>\n",
       "</table>\n",
       "</div>"
      ],
      "text/plain": [
       "     Name  Age Grade\n",
       "0   Jerry   28     C\n",
       "1  Leslie   20     A\n",
       "2   April   19     B"
      ]
     },
     "execution_count": 19,
     "metadata": {},
     "output_type": "execute_result"
    }
   ],
   "source": [
    "#create ficitional students: \n",
    "data = [\n",
    "    ['Jerry', 28, 'C'],\n",
    "     ['Leslie', 20, 'A'],\n",
    "     ['April', 19, 'B']\n",
    "]\n",
    "\n",
    "\n",
    "students = pd.DataFrame(data, columns=['Name', 'Age', 'Grade'])\n",
    "\n",
    "students"
   ]
  },
  {
   "cell_type": "markdown",
   "id": "d88217a1-0f9e-4e91-a09d-ca1d3ba20153",
   "metadata": {},
   "source": [
    "#### 2. Accessing Data:"
   ]
  },
  {
   "cell_type": "code",
   "execution_count": 18,
   "id": "342e6d80-d5cf-4c68-92c4-ac46718339ce",
   "metadata": {
    "tags": []
   },
   "outputs": [
    {
     "name": "stdout",
     "output_type": "stream",
     "text": [
      "0     Jerry\n",
      "1    Leslie\n",
      "2     April\n",
      "Name: Name, dtype: object\n"
     ]
    }
   ],
   "source": [
    "print(students[\"Name\"])"
   ]
  },
  {
   "cell_type": "markdown",
   "id": "8614e545-ac5a-4d98-8d89-b159bd9f3db9",
   "metadata": {},
   "source": [
    "#### 3. DataFrame Operations:"
   ]
  },
  {
   "cell_type": "code",
   "execution_count": 21,
   "id": "f0e9ea99-ca8f-46ef-a993-7b28c890fbcc",
   "metadata": {
    "tags": []
   },
   "outputs": [
    {
     "name": "stdout",
     "output_type": "stream",
     "text": [
      "     Name  Age Grade Graduated\n",
      "0   Jerry   28     C     False\n",
      "1  Leslie   20     A      True\n",
      "2   April   19     B     False\n"
     ]
    }
   ],
   "source": [
    "grad=[\"False\", \"True\",\"False\"]\n",
    "\n",
    "students[\"Graduated\"]= grad\n",
    "print(students)"
   ]
  },
  {
   "cell_type": "markdown",
   "id": "15342ba0-906f-468f-8c99-91bfe3c961a7",
   "metadata": {},
   "source": [
    "#### 3. Maths:"
   ]
  },
  {
   "cell_type": "code",
   "execution_count": 23,
   "id": "1f763c2d-c8cb-443d-a2f9-864e571ca87d",
   "metadata": {
    "tags": []
   },
   "outputs": [
    {
     "name": "stdout",
     "output_type": "stream",
     "text": [
      "22.333333333333332\n"
     ]
    }
   ],
   "source": [
    "print(students[\"Age\"].mean())"
   ]
  },
  {
   "cell_type": "markdown",
   "id": "5c767149-61a7-4aa5-950e-d83914cebfa4",
   "metadata": {},
   "source": [
    "#### 5. Sorting: "
   ]
  },
  {
   "cell_type": "code",
   "execution_count": 31,
   "id": "1c95574c-f726-4201-be91-54af2260e3a6",
   "metadata": {
    "tags": []
   },
   "outputs": [
    {
     "data": {
      "text/html": [
       "<div>\n",
       "<style scoped>\n",
       "    .dataframe tbody tr th:only-of-type {\n",
       "        vertical-align: middle;\n",
       "    }\n",
       "\n",
       "    .dataframe tbody tr th {\n",
       "        vertical-align: top;\n",
       "    }\n",
       "\n",
       "    .dataframe thead th {\n",
       "        text-align: right;\n",
       "    }\n",
       "</style>\n",
       "<table border=\"1\" class=\"dataframe\">\n",
       "  <thead>\n",
       "    <tr style=\"text-align: right;\">\n",
       "      <th></th>\n",
       "      <th>Name</th>\n",
       "      <th>Age</th>\n",
       "      <th>Grade</th>\n",
       "      <th>Graduated</th>\n",
       "    </tr>\n",
       "  </thead>\n",
       "  <tbody>\n",
       "    <tr>\n",
       "      <th>0</th>\n",
       "      <td>Jerry</td>\n",
       "      <td>28</td>\n",
       "      <td>C</td>\n",
       "      <td>False</td>\n",
       "    </tr>\n",
       "    <tr>\n",
       "      <th>1</th>\n",
       "      <td>Leslie</td>\n",
       "      <td>20</td>\n",
       "      <td>A</td>\n",
       "      <td>True</td>\n",
       "    </tr>\n",
       "    <tr>\n",
       "      <th>2</th>\n",
       "      <td>April</td>\n",
       "      <td>19</td>\n",
       "      <td>B</td>\n",
       "      <td>False</td>\n",
       "    </tr>\n",
       "  </tbody>\n",
       "</table>\n",
       "</div>"
      ],
      "text/plain": [
       "     Name  Age Grade Graduated\n",
       "0   Jerry   28     C     False\n",
       "1  Leslie   20     A      True\n",
       "2   April   19     B     False"
      ]
     },
     "execution_count": 31,
     "metadata": {},
     "output_type": "execute_result"
    }
   ],
   "source": [
    "students.sort_values(\"Age\", ascending=False)"
   ]
  },
  {
   "cell_type": "markdown",
   "id": "fdcf87b5-4d79-40fb-b680-508c67b6cea8",
   "metadata": {},
   "source": [
    "#### 6. Tidy Data:"
   ]
  },
  {
   "cell_type": "code",
   "execution_count": 39,
   "id": "8b215474-28b5-44be-bf5e-e3df16c9b67d",
   "metadata": {
    "tags": []
   },
   "outputs": [
    {
     "data": {
      "text/html": [
       "<div>\n",
       "<style scoped>\n",
       "    .dataframe tbody tr th:only-of-type {\n",
       "        vertical-align: middle;\n",
       "    }\n",
       "\n",
       "    .dataframe tbody tr th {\n",
       "        vertical-align: top;\n",
       "    }\n",
       "\n",
       "    .dataframe thead th {\n",
       "        text-align: right;\n",
       "    }\n",
       "</style>\n",
       "<table border=\"1\" class=\"dataframe\">\n",
       "  <thead>\n",
       "    <tr style=\"text-align: right;\">\n",
       "      <th></th>\n",
       "      <th>happiness</th>\n",
       "      <th>language</th>\n",
       "      <th>energy</th>\n",
       "      <th>memory</th>\n",
       "    </tr>\n",
       "  </thead>\n",
       "  <tbody>\n",
       "    <tr>\n",
       "      <th>Subject 1</th>\n",
       "      <td>10</td>\n",
       "      <td>2</td>\n",
       "      <td>5</td>\n",
       "      <td>3</td>\n",
       "    </tr>\n",
       "    <tr>\n",
       "      <th>Subject 2</th>\n",
       "      <td>15</td>\n",
       "      <td>4</td>\n",
       "      <td>9</td>\n",
       "      <td>6</td>\n",
       "    </tr>\n",
       "    <tr>\n",
       "      <th>Subject 3</th>\n",
       "      <td>18</td>\n",
       "      <td>7</td>\n",
       "      <td>12</td>\n",
       "      <td>9</td>\n",
       "    </tr>\n",
       "    <tr>\n",
       "      <th>Subject 4</th>\n",
       "      <td>13</td>\n",
       "      <td>2</td>\n",
       "      <td>7</td>\n",
       "      <td>4</td>\n",
       "    </tr>\n",
       "  </tbody>\n",
       "</table>\n",
       "</div>"
      ],
      "text/plain": [
       "           happiness  language  energy  memory\n",
       "Subject 1         10         2       5       3\n",
       "Subject 2         15         4       9       6\n",
       "Subject 3         18         7      12       9\n",
       "Subject 4         13         2       7       4"
      ]
     },
     "execution_count": 39,
     "metadata": {},
     "output_type": "execute_result"
    }
   ],
   "source": [
    "#make dataframe\n",
    "cog_health=[\n",
    "    [10,2,5,3],\n",
    "    [15,4,9,6],\n",
    "    [18,7,12,9],\n",
    "    [13,2,7,4]\n",
    "]\n",
    "\n",
    "cog_health_df=pd.DataFrame(cog_health, columns=['happiness', 'language','energy','memory'],\n",
    "                           index = ['Subject 1', 'Subject 2','Subject 3', 'Subject 4'])\n",
    "\n",
    "cog_health_df"
   ]
  },
  {
   "cell_type": "code",
   "execution_count": 40,
   "id": "a0e150e2-ad6a-4db4-9bb5-77b0d5ae9cef",
   "metadata": {
    "tags": []
   },
   "outputs": [
    {
     "name": "stdout",
     "output_type": "stream",
     "text": [
      "14.0\n",
      "3.366501646120693\n",
      "3.75\n",
      "2.362907813126304\n",
      "8.25\n",
      "2.9860788111948193\n",
      "5.5\n",
      "2.6457513110645907\n"
     ]
    }
   ],
   "source": [
    "## mean/standard deviation\n",
    "\n",
    "#happyness: \n",
    "print(cog_health_df[\"happiness\"].mean())\n",
    "print(cog_health_df[\"happiness\"].std())\n",
    "\n",
    "#language: \n",
    "print(cog_health_df[\"language\"].mean())\n",
    "print(cog_health_df[\"language\"].std())\n",
    "\n",
    "#energy: \n",
    "print(cog_health_df[\"energy\"].mean())\n",
    "print(cog_health_df[\"energy\"].std())\n",
    "\n",
    "#memory: \n",
    "print(cog_health_df[\"memory\"].mean())\n",
    "print(cog_health_df[\"memory\"].std())\n"
   ]
  },
  {
   "cell_type": "code",
   "execution_count": 44,
   "id": "c222cbc9-8ca3-461e-9f81-c3ca64122663",
   "metadata": {
    "tags": []
   },
   "outputs": [
    {
     "name": "stdout",
     "output_type": "stream",
     "text": [
      "14.0\n",
      "1.6832508230603465\n"
     ]
    }
   ],
   "source": [
    "## mean/standard error of happiness: \n",
    "\n",
    "print(cog_health_df[\"happiness\"].mean())\n",
    "print(cog_health_df[\"happiness\"].sem())"
   ]
  }
 ],
 "metadata": {
  "kernelspec": {
   "display_name": "Python 3 (ipykernel)",
   "language": "python",
   "name": "python3"
  },
  "language_info": {
   "codemirror_mode": {
    "name": "ipython",
    "version": 3
   },
   "file_extension": ".py",
   "mimetype": "text/x-python",
   "name": "python",
   "nbconvert_exporter": "python",
   "pygments_lexer": "ipython3",
   "version": "3.11.4"
  }
 },
 "nbformat": 4,
 "nbformat_minor": 5
}
