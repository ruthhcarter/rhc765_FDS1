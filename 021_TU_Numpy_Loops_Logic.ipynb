{
 "cells": [
  {
   "cell_type": "markdown",
   "id": "2f781c82",
   "metadata": {},
   "source": [
    "# `NumPy`: Using loops and logical operators with `arrays`"
   ]
  },
  {
   "cell_type": "markdown",
   "id": "2436bfc1",
   "metadata": {},
   "source": [
    "### Learning outcomes:\n",
    " - Advanced usage of the `NumPy arrays`\n",
    " - Advanced usage of `for` and `while` loops\n",
    " - Apply loops and logical operators on `numpy arrays`"
   ]
  },
  {
   "cell_type": "markdown",
   "id": "8148d1bb",
   "metadata": {},
   "source": [
    "In previous tutorials we have learned about `for` and `while` loops using simple Python datatypes such as `lists`. \n",
    "\n",
    "Here we will combine the use of loops with `NumPy` arrays. This will give us the opportunity to explore more advanced uses of `NumPy` arrays, new ways to create 2-dimensional arrays, index into arrays using loops, and explore some methods of `numpy` arrays.\n",
    "\n",
    "*Note*. `numpy` arrays, like everything else in Python, are `objects`, so they have `properties` (nouns that describe the object) and `methods` (verbs; actions that the object can do). For example, as we have seen already, `numpy` arrays can tell you their `.shape` (a noun), or they can compute the `.mean()` of themselves (a verb)."
   ]
  },
  {
   "cell_type": "markdown",
   "id": "0c416314",
   "metadata": {},
   "source": [
    "### More tinkering with `arrays`"
   ]
  },
  {
   "cell_type": "markdown",
   "id": "c86bf88e",
   "metadata": {},
   "source": [
    "Needless to say, we first need to `import numpy as np`"
   ]
  },
  {
   "cell_type": "code",
   "execution_count": 3,
   "id": "d2315344",
   "metadata": {
    "tags": []
   },
   "outputs": [],
   "source": [
    "import numpy as np"
   ]
  },
  {
   "cell_type": "markdown",
   "id": "b277c854",
   "metadata": {},
   "source": [
    "Technically, all data containters in `numpy` are `arrays`. But arrays can be:\n",
    "\n",
    "* 1D (we call these \"vectors\")\n",
    "* 2d (we call these \"matrices\")\n",
    "* higher dimesional arrays"
   ]
  },
  {
   "cell_type": "markdown",
   "id": "157ecd35",
   "metadata": {},
   "source": [
    "A numpy array could also be just a single number:"
   ]
  },
  {
   "cell_type": "code",
   "execution_count": 2,
   "id": "d78193c3",
   "metadata": {
    "tags": []
   },
   "outputs": [
    {
     "name": "stdout",
     "output_type": "stream",
     "text": [
      "Here is my scaler: [42]; its type is <class 'numpy.ndarray'>, and its shape is (1,)\n"
     ]
    }
   ],
   "source": [
    "my_scaler = np.array([42])\n",
    "print(f\"Here is my scaler: {my_scaler}; its type is {type(my_scaler)}, and its shape is {my_scaler.shape}\")"
   ]
  },
  {
   "cell_type": "markdown",
   "id": "f94156f5",
   "metadata": {},
   "source": [
    "But this is a degenerate case because, if we want a scaler, we would just use a regular Python variable..."
   ]
  },
  {
   "cell_type": "code",
   "execution_count": 3,
   "id": "c9e7f7b2",
   "metadata": {
    "tags": []
   },
   "outputs": [],
   "source": [
    "my_scaler = 42"
   ]
  },
  {
   "cell_type": "markdown",
   "id": "22654c84",
   "metadata": {},
   "source": [
    "---"
   ]
  },
  {
   "cell_type": "markdown",
   "id": "29323e52",
   "metadata": {},
   "source": [
    "To start with a little review, let's make a 1D vector."
   ]
  },
  {
   "cell_type": "code",
   "execution_count": 4,
   "id": "d47d39bd",
   "metadata": {
    "tags": []
   },
   "outputs": [
    {
     "name": "stdout",
     "output_type": "stream",
     "text": [
      "[1 2 3]\n"
     ]
    }
   ],
   "source": [
    "oneDarray = np.array([1,2,3])\n",
    "print(oneDarray)"
   ]
  },
  {
   "cell_type": "markdown",
   "id": "a84da1a1",
   "metadata": {},
   "source": [
    "We can investigate the shape of the array using the method `.shape`:"
   ]
  },
  {
   "cell_type": "code",
   "execution_count": 5,
   "id": "2cfdaae0",
   "metadata": {
    "tags": []
   },
   "outputs": [
    {
     "data": {
      "text/plain": [
       "(3,)"
      ]
     },
     "execution_count": 5,
     "metadata": {},
     "output_type": "execute_result"
    }
   ],
   "source": [
    "oneDarray.shape"
   ]
  },
  {
   "cell_type": "markdown",
   "id": "41f5e30e",
   "metadata": {},
   "source": [
    "Ok, that means that the array has one dimension of length `3`. So, you can't index it with two indices.  You can only index it with one index.  For example, you can do this:\n"
   ]
  },
  {
   "cell_type": "code",
   "execution_count": 6,
   "id": "752cad13",
   "metadata": {
    "tags": []
   },
   "outputs": [
    {
     "name": "stdout",
     "output_type": "stream",
     "text": [
      "2\n"
     ]
    }
   ],
   "source": [
    "print(oneDarray[1])"
   ]
  },
  {
   "cell_type": "markdown",
   "id": "ce5b7f22",
   "metadata": {},
   "source": [
    "So when we did `oneDarray.shape`, why did it report `(3,)` rather than just `3`? The reason is that the most common use of `numpy`, by far, is to work with 2d arrays of data (i.e. matrices). The (3,) with nothing after the comma indicates that this array does **not** have a column dimension, and is hence a 1D vector rather than a matrix with a single column (or row)."
   ]
  },
  {
   "cell_type": "markdown",
   "id": "2b55beed",
   "metadata": {},
   "source": [
    "So, most commonly, arrays can also have more than one dimensions, say 2, making it a matrix:"
   ]
  },
  {
   "cell_type": "code",
   "execution_count": 7,
   "id": "e1447887",
   "metadata": {
    "tags": []
   },
   "outputs": [
    {
     "name": "stdout",
     "output_type": "stream",
     "text": [
      "[[1 2 3]\n",
      " [4 5 6]]\n"
     ]
    }
   ],
   "source": [
    "twoDarray = np.array([[1, 2, 3], [4, 5, 6]])\n",
    "print(twoDarray)"
   ]
  },
  {
   "cell_type": "code",
   "execution_count": 8,
   "id": "2f044e02",
   "metadata": {
    "tags": []
   },
   "outputs": [
    {
     "data": {
      "text/plain": [
       "(2, 3)"
      ]
     },
     "execution_count": 8,
     "metadata": {},
     "output_type": "execute_result"
    }
   ],
   "source": [
    "twoDarray.shape"
   ]
  },
  {
   "cell_type": "markdown",
   "id": "aa2fd8ec",
   "metadata": {},
   "source": [
    "Here we see that the first dimension is of size `2` and the second of size `3`. That is because the outer square brakets contain only two elements, two sets of square brakets, something like `[ [] , [] ]`. The outer square brakets contain the first dimension – the rows. The inner square brackets contain elements along the second dimension – the columns. \n",
    "\n",
    "What happens if the second row has a different number of elements than the first? Let's try:"
   ]
  },
  {
   "cell_type": "code",
   "execution_count": 1,
   "id": "4a9ce594",
   "metadata": {
    "tags": []
   },
   "outputs": [
    {
     "ename": "NameError",
     "evalue": "name 'np' is not defined",
     "output_type": "error",
     "traceback": [
      "\u001b[0;31m---------------------------------------------------------------------------\u001b[0m",
      "\u001b[0;31mNameError\u001b[0m                                 Traceback (most recent call last)",
      "Cell \u001b[0;32mIn[1], line 1\u001b[0m\n\u001b[0;32m----> 1\u001b[0m twoDarray \u001b[38;5;241m=\u001b[39m np\u001b[38;5;241m.\u001b[39marray([[\u001b[38;5;241m1\u001b[39m, \u001b[38;5;241m2\u001b[39m, \u001b[38;5;241m3\u001b[39m], [\u001b[38;5;241m4\u001b[39m, \u001b[38;5;241m5\u001b[39m, \u001b[38;5;241m6\u001b[39m, \u001b[38;5;241m7\u001b[39m]])\n\u001b[1;32m      2\u001b[0m \u001b[38;5;28mprint\u001b[39m(twoDarray)\n",
      "\u001b[0;31mNameError\u001b[0m: name 'np' is not defined"
     ]
    }
   ],
   "source": [
    "twoDarray = np.array([[1, 2, 3], [4, 5, 6, 7]])\n",
    "print(twoDarray)"
   ]
  },
  {
   "cell_type": "markdown",
   "id": "39bbf3b0",
   "metadata": {},
   "source": [
    "That won't work. By definition, all columns and rows of an array must be of the same length. If their are missing values in any row or column, they must be coded as `nan`, which stands for \"not a number\", in order to fill out the array to a rectangular shape (or hyper-rectangular shape if the number of dimensions is > 2)."
   ]
  },
  {
   "cell_type": "markdown",
   "id": "51c27eb4",
   "metadata": {},
   "source": [
    "$\\color{blue}{\\text{Complete the following exercise.}}$\n",
    "\n",
    "  - Create the `twoDarray` from above, but make it work by inserting a `numpy.nan` somewhere."
   ]
  },
  {
   "cell_type": "code",
   "execution_count": 10,
   "id": "b605b9cf",
   "metadata": {
    "tags": []
   },
   "outputs": [
    {
     "name": "stdout",
     "output_type": "stream",
     "text": [
      "[[ 1.  2.  3. nan]\n",
      " [ 4.  5.  6.  7.]]\n"
     ]
    }
   ],
   "source": [
    "twoDarray = np.array([[1, 2, 3, np.nan], [4, 5, 6, 7]])\n",
    "print(twoDarray)"
   ]
  },
  {
   "cell_type": "markdown",
   "id": "fb67578e",
   "metadata": {},
   "source": [
    "---"
   ]
  },
  {
   "cell_type": "markdown",
   "id": "e146a2d5",
   "metadata": {},
   "source": [
    "### General methods to create `numpy` arrays"
   ]
  },
  {
   "cell_type": "markdown",
   "id": "5185dbfc",
   "metadata": {},
   "source": [
    "Oftentimes, as we go about doing our nice data sciency stuff, we will need to create arrays of a certain shape, which we'll later populate with other values. Depending on what we're doing, we might want to start with an array of all 1's or an array of all 0's (or, as we've already seen, and array of random numbers). We might even want to start with an array of `nan`s so that any cells that don't get filled with valid values later are already set to `nan`."
   ]
  },
  {
   "cell_type": "markdown",
   "id": "2bb5cdae",
   "metadata": {},
   "source": [
    "The functions `np.zeros()` and `np.ones()` allow creating arrays with the proper dimensions. Whereas the first initializes an array with, ahem, zeros inside, the second, well you know the drill... Let's see how to use them:"
   ]
  },
  {
   "cell_type": "code",
   "execution_count": 11,
   "id": "dec0aba8",
   "metadata": {
    "scrolled": true,
    "tags": []
   },
   "outputs": [
    {
     "name": "stdout",
     "output_type": "stream",
     "text": [
      "[0. 0.]\n"
     ]
    }
   ],
   "source": [
    "AnArrayOfZeros = np.zeros(2)\n",
    "print(AnArrayOfZeros)"
   ]
  },
  {
   "cell_type": "markdown",
   "id": "a22afefe",
   "metadata": {},
   "source": [
    "The above created a 1-D array of size 2."
   ]
  },
  {
   "cell_type": "code",
   "execution_count": 12,
   "id": "d91a655f",
   "metadata": {
    "tags": []
   },
   "outputs": [
    {
     "name": "stdout",
     "output_type": "stream",
     "text": [
      "[[0. 0.]\n",
      " [0. 0.]]\n"
     ]
    }
   ],
   "source": [
    "AnotherArrayOfZeros = np.zeros((2,2))\n",
    "print(AnotherArrayOfZeros)"
   ]
  },
  {
   "cell_type": "markdown",
   "id": "85f751bc",
   "metadata": {},
   "source": [
    "The above created a 2-D array of size 2 in in both dimensions. Let's create one with 3 elements in the first dimension and 4 in the second dimension:"
   ]
  },
  {
   "cell_type": "code",
   "execution_count": 13,
   "id": "bdfc3f17",
   "metadata": {
    "tags": []
   },
   "outputs": [
    {
     "name": "stdout",
     "output_type": "stream",
     "text": [
      "[[0. 0. 0. 0.]\n",
      " [0. 0. 0. 0.]\n",
      " [0. 0. 0. 0.]]\n"
     ]
    }
   ],
   "source": [
    "myArray = np.zeros((3,4))\n",
    "print(myArray)"
   ]
  },
  {
   "cell_type": "markdown",
   "id": "a397777c",
   "metadata": {},
   "source": [
    "We can also use `np.ones()` in a similar way, let's create an array with 2 elements in the first dimension and 5 in the second:"
   ]
  },
  {
   "cell_type": "code",
   "execution_count": 14,
   "id": "07f2a38c",
   "metadata": {
    "tags": []
   },
   "outputs": [
    {
     "name": "stdout",
     "output_type": "stream",
     "text": [
      "[[1. 1. 1. 1. 1.]\n",
      " [1. 1. 1. 1. 1.]]\n"
     ]
    }
   ],
   "source": [
    "myArray = np.ones((2,5))\n",
    "print(myArray)"
   ]
  },
  {
   "cell_type": "markdown",
   "id": "b6c5e16a",
   "metadata": {},
   "source": [
    "The arrays come with a series of methoss, built-in! For example, number of dimensions can be returned by the array using the method `.ndim`:"
   ]
  },
  {
   "cell_type": "code",
   "execution_count": 16,
   "id": "32a0b6e0",
   "metadata": {
    "tags": []
   },
   "outputs": [
    {
     "data": {
      "text/plain": [
       "2"
      ]
     },
     "execution_count": 16,
     "metadata": {},
     "output_type": "execute_result"
    }
   ],
   "source": [
    "myArray.ndim"
   ]
  },
  {
   "cell_type": "markdown",
   "id": "9a70ed9c",
   "metadata": {},
   "source": [
    "The shape of the array  can be returned as follows:"
   ]
  },
  {
   "cell_type": "code",
   "execution_count": 17,
   "id": "f452fc18",
   "metadata": {
    "tags": []
   },
   "outputs": [
    {
     "data": {
      "text/plain": [
       "(2, 5)"
      ]
     },
     "execution_count": 17,
     "metadata": {},
     "output_type": "execute_result"
    }
   ],
   "source": [
    "myArray.shape\n"
   ]
  },
  {
   "cell_type": "markdown",
   "id": "c9d0d7a2",
   "metadata": {},
   "source": [
    "The totla number of the elements can be returned using the method `.size`:"
   ]
  },
  {
   "cell_type": "code",
   "execution_count": 18,
   "id": "6803edad",
   "metadata": {
    "tags": []
   },
   "outputs": [
    {
     "data": {
      "text/plain": [
       "10"
      ]
     },
     "execution_count": 18,
     "metadata": {},
     "output_type": "execute_result"
    }
   ],
   "source": [
    "myArray.size"
   ]
  },
  {
   "cell_type": "markdown",
   "id": "4f740cde",
   "metadata": {},
   "source": [
    "$\\color{blue}{\\text{Complete the following exercise.}}$\n",
    "\n",
    " Create an 11x5 array containing all `np.nan`s (hint: any number added to or multiplied by a `nan` is a `nan`)."
   ]
  },
  {
   "cell_type": "code",
   "execution_count": 24,
   "id": "087ac916",
   "metadata": {
    "tags": []
   },
   "outputs": [
    {
     "data": {
      "text/plain": [
       "array([[nan, nan, nan, nan, nan],\n",
       "       [nan, nan, nan, nan, nan],\n",
       "       [nan, nan, nan, nan, nan],\n",
       "       [nan, nan, nan, nan, nan],\n",
       "       [nan, nan, nan, nan, nan],\n",
       "       [nan, nan, nan, nan, nan],\n",
       "       [nan, nan, nan, nan, nan],\n",
       "       [nan, nan, nan, nan, nan],\n",
       "       [nan, nan, nan, nan, nan],\n",
       "       [nan, nan, nan, nan, nan],\n",
       "       [nan, nan, nan, nan, nan]])"
      ]
     },
     "execution_count": 24,
     "metadata": {},
     "output_type": "execute_result"
    }
   ],
   "source": [
    "n = np.ones((11, 5))\n",
    "n = np.nan * n\n",
    "n"
   ]
  },
  {
   "cell_type": "code",
   "execution_count": 25,
   "id": "b974d586-5646-438b-815d-c804fb66cf10",
   "metadata": {
    "tags": []
   },
   "outputs": [
    {
     "data": {
      "text/plain": [
       "array([[nan, nan, nan, nan, nan],\n",
       "       [nan, nan, nan, nan, nan],\n",
       "       [nan, nan, nan, nan, nan],\n",
       "       [nan, nan, nan, nan, nan],\n",
       "       [nan, nan, nan, nan, nan],\n",
       "       [nan, nan, nan, nan, nan],\n",
       "       [nan, nan, nan, nan, nan],\n",
       "       [nan, nan, nan, nan, nan],\n",
       "       [nan, nan, nan, nan, nan],\n",
       "       [nan, nan, nan, nan, nan],\n",
       "       [nan, nan, nan, nan, nan]])"
      ]
     },
     "execution_count": 25,
     "metadata": {},
     "output_type": "execute_result"
    }
   ],
   "source": [
    "newarray= np.ones((11,5))\n",
    "newarray*np.nan"
   ]
  },
  {
   "cell_type": "markdown",
   "id": "b878ffc7",
   "metadata": {},
   "source": [
    "---"
   ]
  },
  {
   "cell_type": "markdown",
   "id": "fa234fdf",
   "metadata": {},
   "source": [
    "### `for` loops on arrays"
   ]
  },
  {
   "cell_type": "markdown",
   "id": "e59f68f2",
   "metadata": {},
   "source": [
    "A `for` loop can be a useful way to either put data into or get data out of an array. To see this, let's first make an array filled with zeroes:"
   ]
  },
  {
   "cell_type": "code",
   "execution_count": 26,
   "id": "e1b37a43",
   "metadata": {
    "tags": []
   },
   "outputs": [
    {
     "name": "stdout",
     "output_type": "stream",
     "text": [
      "[[0. 0. 0. 0. 0.]\n",
      " [0. 0. 0. 0. 0.]\n",
      " [0. 0. 0. 0. 0.]\n",
      " [0. 0. 0. 0. 0.]\n",
      " [0. 0. 0. 0. 0.]\n",
      " [0. 0. 0. 0. 0.]\n",
      " [0. 0. 0. 0. 0.]\n",
      " [0. 0. 0. 0. 0.]\n",
      " [0. 0. 0. 0. 0.]\n",
      " [0. 0. 0. 0. 0.]]\n"
     ]
    }
   ],
   "source": [
    "nRows, nCols = 10, 5   # Python let's us do this!\n",
    "myArraySize = (nRows, nCols)  # we'll make a 10x5 array. Rows always come first!\n",
    "anArray = np.zeros(myArraySize)\n",
    "print(anArray)"
   ]
  },
  {
   "cell_type": "markdown",
   "id": "f8f7e389",
   "metadata": {},
   "source": [
    "Let's think how we can start filling up arrays with data. \n",
    "\n",
    "One great thing about `for` loops is that we can use them to go through the rows or columns of an array (or both!) in turn, repeating some operation on each one. Let's say we need to put the numbers of the binary sequence (2, 4, 8, 16...) in turn down the columns of a 10x5 array for some future simulation."
   ]
  },
  {
   "cell_type": "markdown",
   "id": "6b1fc529",
   "metadata": {},
   "source": [
    "We could do that this way:"
   ]
  },
  {
   "cell_type": "code",
   "execution_count": 27,
   "id": "5e551156",
   "metadata": {
    "tags": []
   },
   "outputs": [
    {
     "data": {
      "text/plain": [
       "array([[ 2.,  4.,  8., 16., 32.],\n",
       "       [ 2.,  4.,  8., 16., 32.],\n",
       "       [ 2.,  4.,  8., 16., 32.],\n",
       "       [ 2.,  4.,  8., 16., 32.],\n",
       "       [ 2.,  4.,  8., 16., 32.],\n",
       "       [ 2.,  4.,  8., 16., 32.],\n",
       "       [ 2.,  4.,  8., 16., 32.],\n",
       "       [ 2.,  4.,  8., 16., 32.],\n",
       "       [ 2.,  4.,  8., 16., 32.],\n",
       "       [ 2.,  4.,  8., 16., 32.]])"
      ]
     },
     "execution_count": 27,
     "metadata": {},
     "output_type": "execute_result"
    }
   ],
   "source": [
    "anArray[:,0] = 2\n",
    "anArray[:,1] = 4\n",
    "anArray[:,2] = 8\n",
    "anArray[:,3] = 16\n",
    "anArray[:,4] = 32\n",
    "\n",
    "anArray"
   ]
  },
  {
   "cell_type": "markdown",
   "id": "2c4bec86",
   "metadata": {},
   "source": [
    "That works, no doubt. But \n",
    "\n",
    "1. there's a lot of \"hand coding\", which is prone to mistakes\n",
    "2. it would be a pain to scale up to huge arrays (as we already know)\n",
    "3. it's ugly – not Pythonic at all"
   ]
  },
  {
   "cell_type": "markdown",
   "id": "008c1644",
   "metadata": {},
   "source": [
    "Now let's do this a cleaner and much more scalable way using a `for` loop (you'll reuse much of this in just a little bit)."
   ]
  },
  {
   "cell_type": "code",
   "execution_count": 28,
   "id": "8e5b3661",
   "metadata": {
    "tags": []
   },
   "outputs": [
    {
     "data": {
      "text/plain": [
       "array([[ 2.,  4.,  8., 16., 32.],\n",
       "       [ 2.,  4.,  8., 16., 32.],\n",
       "       [ 2.,  4.,  8., 16., 32.],\n",
       "       [ 2.,  4.,  8., 16., 32.],\n",
       "       [ 2.,  4.,  8., 16., 32.],\n",
       "       [ 2.,  4.,  8., 16., 32.],\n",
       "       [ 2.,  4.,  8., 16., 32.],\n",
       "       [ 2.,  4.,  8., 16., 32.],\n",
       "       [ 2.,  4.,  8., 16., 32.],\n",
       "       [ 2.,  4.,  8., 16., 32.]])"
      ]
     },
     "execution_count": 28,
     "metadata": {},
     "output_type": "execute_result"
    }
   ],
   "source": [
    "nRows, nCols = 10, 5   # make variables for length and width of our array\n",
    "myArraySize = (nRows, nCols)    # we'll make a 10x5 array. Rows always come first!\n",
    "ourNumbers = [2, 4, 8, 16, 32]  # numbers that we'll set each column to in turn\n",
    "anArray = np.zeros(myArraySize) # make an array to hold our numbers\n",
    "\n",
    "for i in range(nCols) :\n",
    "    anArray[:,i] = ourNumbers[i]\n",
    "    \n",
    "anArray"
   ]
  },
  {
   "cell_type": "markdown",
   "id": "e3522be5",
   "metadata": {},
   "source": [
    "And we get the same result."
   ]
  },
  {
   "cell_type": "markdown",
   "id": "6700c7b8",
   "metadata": {},
   "source": [
    "So we've swapped this:\n",
    "\n",
    "```\n",
    "anArray[:,0] = 2\n",
    "anArray[:,1] = 4\n",
    "anArray[:,2] = 8\n",
    "anArray[:,3] = 16\n",
    "anArray[:,4] = 32\n",
    "```\n",
    "\n",
    "(Yuk.)\n",
    "\n",
    "for this:\n",
    "\n",
    "```\n",
    "for i in range(nCols) :\n",
    "    anArray[:,i] = ourNumbers[i]\n",
    "```\n",
    "    \n",
    "(Nice.)\n",
    "\n",
    "which is already a huge improvement. But imagine if we were working with a 1000 or 10,000 element array! Doing it the first way – well – you can imagine. But doing it the second way, all we would have to do is change `nCols` and be a bit clever and compute `ourNumbers` automatically."
   ]
  },
  {
   "cell_type": "markdown",
   "id": "8810f65e",
   "metadata": {},
   "source": [
    " Wait, what? How would we compute the binary sequence – the powers of 2 – automatically? \n",
    " \n",
    " With a `for` loop of course! Let's do that!"
   ]
  },
  {
   "cell_type": "code",
   "execution_count": 29,
   "id": "0cc5ffda",
   "metadata": {
    "tags": []
   },
   "outputs": [
    {
     "data": {
      "text/plain": [
       "[2, 4, 8, 16, 32]"
      ]
     },
     "execution_count": 29,
     "metadata": {},
     "output_type": "execute_result"
    }
   ],
   "source": [
    "ourNumbers = list()                # Make an empty Python list\n",
    "for i in range(nCols) :\n",
    "    thisNumber = 2**(i+1)          # compute 2 to the appropriate power\n",
    "    ourNumbers.append(thisNumber)  # and append it to our list \n",
    "ourNumbers"
   ]
  },
  {
   "cell_type": "markdown",
   "id": "7298eaa6",
   "metadata": {},
   "source": [
    "---"
   ]
  },
  {
   "cell_type": "markdown",
   "id": "7a01fde9",
   "metadata": {},
   "source": [
    "$\\color{blue}{\\text{Complete the following exercise.}}$\n",
    "  \n",
    "  - Rewrite the above code avoiding defining (using) the `thisNumber` variable (so there should only be one line inside the `for` loop).\n",
    "  \n",
    "  [Use the cell below to show your code]\n",
    "  "
   ]
  },
  {
   "cell_type": "code",
   "execution_count": 31,
   "id": "28911fab",
   "metadata": {
    "tags": []
   },
   "outputs": [
    {
     "data": {
      "text/plain": [
       "[2, 4, 8, 16, 32]"
      ]
     },
     "execution_count": 31,
     "metadata": {},
     "output_type": "execute_result"
    }
   ],
   "source": [
    "ourNewNumbers = list()\n",
    "for i in range(nCols) : \n",
    "    ourNewNumbers.append(2**(i+1))\n",
    "ourNewNumbers"
   ]
  },
  {
   "cell_type": "markdown",
   "id": "2e815688",
   "metadata": {},
   "source": [
    "Okay, now write code to populate the numpy array in a way that is completely scalable (i.e. works well for any size array) using a single `for` loop. Hint: combine your code from the cell above with the \"reusable\" code a couple cells back."
   ]
  },
  {
   "cell_type": "code",
   "execution_count": 33,
   "id": "18038572",
   "metadata": {
    "tags": []
   },
   "outputs": [
    {
     "data": {
      "text/plain": [
       "array([[ 2.,  4.,  8., 16., 32.],\n",
       "       [ 2.,  4.,  8., 16., 32.],\n",
       "       [ 2.,  4.,  8., 16., 32.],\n",
       "       [ 2.,  4.,  8., 16., 32.],\n",
       "       [ 2.,  4.,  8., 16., 32.]])"
      ]
     },
     "execution_count": 33,
     "metadata": {},
     "output_type": "execute_result"
    }
   ],
   "source": [
    "nRows, nCols = 5, 5   # make variables for length and width of our array\n",
    "myArraySize = (nRows, nCols)    # we'll make a 10x5 array. Rows always come first!\n",
    "aNewArray = np.zeros(myArraySize) # make an array to hold our numbers\n",
    "ourNewerNumbers= list()\n",
    "\n",
    "for i in range(nCols) :\n",
    "    ourNewerNumbers.append(2**(i+1))\n",
    "    aNewArray[:,i] = ourNewerNumbers[i]\n",
    "    \n",
    "aNewArray"
   ]
  },
  {
   "cell_type": "markdown",
   "id": "248a82c6",
   "metadata": {},
   "source": [
    "Notice that, now, the ***only*** thing we need to change to compute and add more or fewer powers of 2 to our array is a single value – nCols in this case – *everything else is done automatically!*"
   ]
  },
  {
   "cell_type": "markdown",
   "id": "1b9aa1f4",
   "metadata": {},
   "source": [
    "---"
   ]
  },
  {
   "cell_type": "markdown",
   "id": "6bca6ba3",
   "metadata": {},
   "source": [
    "$\\color{blue}{\\text{Complete the following exercise.}}$"
   ]
  },
  {
   "cell_type": "markdown",
   "id": "dc956031",
   "metadata": {},
   "source": [
    "Write scalable code to compute the first \"n\" numbers of the [Fibonacci sequence](https://en.wikipedia.org/wiki/Fibonacci_number) and write each number across the rows of an n-by-10 `numpy` array. The Fibonacci sequence (named for the famous 13th century mathematician) starts with the numbers 0 and 1, and each number after that is the sum of the previous two numbers. "
   ]
  },
  {
   "cell_type": "code",
   "execution_count": 81,
   "id": "5153a2bd",
   "metadata": {
    "tags": []
   },
   "outputs": [
    {
     "name": "stdout",
     "output_type": "stream",
     "text": [
      "1\n",
      "2\n",
      "3\n",
      "4\n",
      "5\n",
      "6\n",
      "7\n",
      "8\n",
      "9\n",
      "10\n"
     ]
    },
    {
     "data": {
      "text/plain": [
       "[1, 2, 3, 4, 5, 6, 7, 8, 9, 10]"
      ]
     },
     "execution_count": 81,
     "metadata": {},
     "output_type": "execute_result"
    }
   ],
   "source": [
    "nRows, nCols = 10, 1\n",
    "ArraySize = (nRows, nCols)\n",
    "FibArray = np.zeros(ArraySize) \n",
    "FibNumbers = list() \n",
    "n=0\n",
    "for i in range(nRows): \n",
    "    x=0 \n",
    "    y=1\n",
    "    n+=1\n",
    "    i=2\n",
    "    FibNumbers.append(((x+y)*n))\n",
    "    print(n)\n",
    "FibNumbers"
   ]
  },
  {
   "cell_type": "markdown",
   "id": "3ec48d96",
   "metadata": {},
   "source": [
    "---"
   ]
  },
  {
   "cell_type": "markdown",
   "id": "ff3a1381",
   "metadata": {},
   "source": [
    "### Nested for loops"
   ]
  },
  {
   "cell_type": "markdown",
   "id": "a4ecdd38",
   "metadata": {},
   "source": [
    "A great thing about `for` loops is that they can be *nested* inside one another. This is best illustrated by example, so let's look at one and disect it."
   ]
  },
  {
   "cell_type": "code",
   "execution_count": 76,
   "id": "d6b1708a",
   "metadata": {
    "tags": []
   },
   "outputs": [
    {
     "name": "stdout",
     "output_type": "stream",
     "text": [
      "Hi! I'm in row  0  and column 0 !\n",
      "Hi! I'm in row  0  and column 1 !\n",
      "Hi! I'm in row  0  and column 2 !\n",
      "Hi! I'm in row  1  and column 0 !\n",
      "Hi! I'm in row  1  and column 1 !\n",
      "Hi! I'm in row  1  and column 2 !\n",
      "Hi! I'm in row  2  and column 0 !\n",
      "Hi! I'm in row  2  and column 1 !\n",
      "Hi! I'm in row  2  and column 2 !\n",
      "Hi! I'm in row  3  and column 0 !\n",
      "Hi! I'm in row  3  and column 1 !\n",
      "Hi! I'm in row  3  and column 2 !\n"
     ]
    },
    {
     "data": {
      "text/plain": [
       "array([[ 0.,  4.,  8.],\n",
       "       [ 1.,  5.,  9.],\n",
       "       [ 2.,  6., 10.],\n",
       "       [ 3.,  7., 11.]])"
      ]
     },
     "execution_count": 76,
     "metadata": {},
     "output_type": "execute_result"
    }
   ],
   "source": [
    "nRows, nCols = 4, 3            # (easily changeble) array height and width\n",
    "myArraySize = (nRows, nCols)    # handy list of the size \n",
    "anArray = np.zeros(myArraySize) # make the array\n",
    "\n",
    "for i in range(nRows) :\n",
    "    for j in range(nCols) :\n",
    "        anArray[i,j] = i + j*nRows\n",
    "        print('Hi! I\\'m in row ', i, ' and column', j, '!')\n",
    "        \n",
    "anArray"
   ]
  },
  {
   "cell_type": "markdown",
   "id": "a6a5bf18",
   "metadata": {},
   "source": [
    "So what's happening? In the first or \"outer\" loop, `for i in range(nRows) :` we're going to step through the numbers 0 to three, corresponding to the row indexes. \n",
    "\n",
    "At each value of `i`, the entire second or \"inner\" loop, `for j in range(nCols) :` is going to run, stepping through each value of `j`, corresponding to the column indexes. \n",
    "\n",
    "At each value of `j`, we stick a number in the `[i, j]` cell (`anArray[i,j] = i + j*nRows`), print a little message, and move on the the next value of `j`.\n",
    "\n",
    "Once the inner loop is complete, we jump out into the outer loop, increment `i` by 1, and then jump back into the inner loop and do the whole thing again! After i has run its course from 0 to `nRows`, we say farewell to that loop and go on our way!"
   ]
  },
  {
   "cell_type": "markdown",
   "id": "5ea9fa58",
   "metadata": {},
   "source": [
    "---"
   ]
  },
  {
   "cell_type": "markdown",
   "id": "fac1d2ab",
   "metadata": {},
   "source": [
    "$\\color{blue}{\\text{Complete the following exercise.}}$\n",
    "  \n",
    "  - Change the above loop so that it numbers the cells from from left-to-right, top-to-bottom. Resist the temptation to cut and paste and write your code from scratch!\n",
    "  \n",
    "  [Use the cell below to show your code]\n",
    "  "
   ]
  },
  {
   "cell_type": "markdown",
   "id": "6e3ff22e-9000-4a06-af02-f4fedbac33a5",
   "metadata": {},
   "source": [
    "will look like: \n",
    "hi row 0, column 0\n",
    "hi row 1, column 0 \n",
    "hi row 2, column 0\n",
    "hi row 3, column 0 \n",
    "hi row 0, column 1\n",
    "hi row 1, column 1 \n",
    "hi row 2, column 1 "
   ]
  },
  {
   "cell_type": "code",
   "execution_count": 97,
   "id": "2e643602-136f-4c01-b1e1-26061ce4cc00",
   "metadata": {
    "tags": []
   },
   "outputs": [
    {
     "name": "stdout",
     "output_type": "stream",
     "text": [
      "Hi! I'm in row  0  and column 0 !\n",
      "Hi! I'm in row  1  and column 0 !\n",
      "Hi! I'm in row  2  and column 0 !\n",
      "Hi! I'm in row  0  and column 1 !\n",
      "Hi! I'm in row  1  and column 1 !\n",
      "Hi! I'm in row  2  and column 1 !\n",
      "Hi! I'm in row  0  and column 2 !\n",
      "Hi! I'm in row  1  and column 2 !\n",
      "Hi! I'm in row  2  and column 2 !\n",
      "Hi! I'm in row  0  and column 3 !\n",
      "Hi! I'm in row  1  and column 3 !\n",
      "Hi! I'm in row  2  and column 3 !\n"
     ]
    },
    {
     "data": {
      "text/plain": [
       "array([[ 0.,  4.,  8.],\n",
       "       [ 1.,  5.,  9.],\n",
       "       [ 2.,  6., 10.],\n",
       "       [ 3.,  7., 11.]])"
      ]
     },
     "execution_count": 97,
     "metadata": {},
     "output_type": "execute_result"
    }
   ],
   "source": [
    "nRows, nCols = 4, 3            # (easily changeble) array height and width\n",
    "myArraySize = (nRows, nCols)    # handy list of the size \n",
    "anArray = np.zeros(myArraySize) \n",
    "\n",
    "for i in range(nRows) : \n",
    "    for j in range(nCols): \n",
    "        anArray[i,j] = i + j*nRows\n",
    "        print('Hi! I\\'m in row ', j, ' and column', i, '!')\n",
    "anArray"
   ]
  },
  {
   "cell_type": "markdown",
   "id": "4accd0bb",
   "metadata": {},
   "source": [
    "---"
   ]
  },
  {
   "cell_type": "markdown",
   "id": "a3b61da7",
   "metadata": {},
   "source": [
    "The loop you just wrote numbers the cells of your array in \"row-major\" order, or \"row wise\", while the original loop numbered the cells in \"column-major\" order, or \"column wise\". "
   ]
  },
  {
   "cell_type": "markdown",
   "id": "291be8ab",
   "metadata": {},
   "source": [
    "Nested loops give you tremendous power! You go through any array element-by-element and get or set individual values. You can even do things like loading a series of data files in turn (in an outer loop), and then chewing through each data file in an inner loop."
   ]
  },
  {
   "cell_type": "markdown",
   "id": "52b4d500",
   "metadata": {},
   "source": [
    "As a final example, let's say we want to simulate a diurnal rhythm, like the cortisol level in the bloodstream of several people. We can approximate this diurnal rhythm with a sine wave. Since different people have different rhythms, we want to add a bit of randomness to when each persons cortisole level waxes and wanes. "
   ]
  },
  {
   "cell_type": "code",
   "execution_count": 4,
   "id": "99ea8012",
   "metadata": {},
   "outputs": [],
   "source": [
    "hours, person = 24, 10            # (easily changeble) array height and width\n",
    "myArraySize = (hours, person)     # handy list of the size \n",
    "cortLevel = np.zeros(myArraySize) # make the array\n",
    "\n",
    "myFreq = 2*np.pi/hours            # make the frequency once per 24 hrs\n",
    "\n",
    "for j in range(person) :            # we'll go person by person\n",
    "    myPhase = np.random.rand()  # get a random phase for this person\n",
    "    for i in range(hours) :         # go down current column (person) row-by-row\n",
    "        cortLevel[i,j] = np.sin((myFreq*i + myPhase)) +  0.1*np.random.randn()    # set val\n",
    "        "
   ]
  },
  {
   "cell_type": "markdown",
   "id": "7a49fc0d",
   "metadata": {},
   "source": [
    "Okay, we will now sneak in `matplotlib`, one of the major python libraries for data visualization. We will dedicate much time to learning more about this library later on. For now, we'll just use it to make a basic plot."
   ]
  },
  {
   "cell_type": "code",
   "execution_count": 5,
   "id": "675e6edf",
   "metadata": {},
   "outputs": [
    {
     "data": {
      "image/png": "[encoded data removed]",
      "text/plain": [
       "<Figure size 640x480 with 1 Axes>"
      ]
     },
     "metadata": {},
     "output_type": "display_data"
    }
   ],
   "source": [
    "import matplotlib.pyplot as plt\n",
    "\n",
    "plt.plot(cortLevel);"
   ]
  },
  {
   "cell_type": "markdown",
   "id": "1255ab6c",
   "metadata": {},
   "source": [
    "Cool!"
   ]
  },
  {
   "cell_type": "markdown",
   "id": "2a644962",
   "metadata": {},
   "source": [
    "$\\color{blue}{\\text{Complete the following exercise.}}$\n",
    "  \n",
    "  - In the markdown cell below, describe how the functions `np.random.rand()`, `np.sin`, and `np.random.randn()` are used in simulating the above data."
   ]
  },
  {
   "cell_type": "markdown",
   "id": "567ba6de",
   "metadata": {},
   "source": []
  },
  {
   "cell_type": "markdown",
   "id": "1ab5ccff",
   "metadata": {},
   "source": [
    "---"
   ]
  },
  {
   "cell_type": "markdown",
   "id": "92827725",
   "metadata": {},
   "source": [
    "### `While` loops"
   ]
  },
  {
   "cell_type": "markdown",
   "id": "5138dd14",
   "metadata": {},
   "source": [
    "Sometimes we wish to repeat a calculation (or something), not for a predetermined number of times like in a `for` loop, but until some critereon is reached. This is accomplished using a `while` loops, which just keeps running and running until a critereon is reached. One dangerous thing about a `while` loop is that if the criteon can't be reached because we made a mistake in our code, then the loop runs forever – an infinite loop!\n",
    "\n",
    "As a simple example, let's see how many tries it takes to get a number from the standard normal distribution that is above 2 - the upper 2.5% tail of the distribution!"
   ]
  },
  {
   "cell_type": "code",
   "execution_count": 17,
   "id": "98e5ccdd",
   "metadata": {},
   "outputs": [
    {
     "data": {
      "text/plain": [
       "17"
      ]
     },
     "execution_count": 17,
     "metadata": {},
     "output_type": "execute_result"
    }
   ],
   "source": [
    "x, cutOff, myCounter = 0, 2, 0\n",
    "\n",
    "while x < cutOff :\n",
    "    x = np.random.randn()\n",
    "    myCounter += 1\n",
    "    \n",
    "myCounter"
   ]
  },
  {
   "cell_type": "markdown",
   "id": "42b31291",
   "metadata": {},
   "source": [
    "The dissection of the code is as follows.\n",
    "\n",
    "* the first line sets some useful variables\n",
    "    - a \"test\" variable `x` that will contain our candidate random numbers\n",
    "    - our \"cut off\" variable that we will test x against\n",
    "    - a \"counter\" variable that we'll use to count the number of tries\n",
    "* the `while x < cutOff :` says \"keep trying *while* `x` is less than `cutOff`\n",
    "* `x = np.random.randn()` gets a random number and assignes it to `x`\n",
    "* `myCounter +=` increments our counter\n",
    "\n",
    "Once we get a random number above 2, the `x < 2` returns `False` and the loop ends. Whatever value is then in `myCounter` is our answer!"
   ]
  },
  {
   "cell_type": "markdown",
   "id": "376b0633",
   "metadata": {},
   "source": [
    "Run the above code cell several times! Does it always take the same number of times? Based on what you know about the standard normal distribution, how many times should it take?"
   ]
  },
  {
   "cell_type": "markdown",
   "id": "97ac3dfc",
   "metadata": {},
   "source": [
    "Now here's an interesting puzzle... How many times does it take to get a big random number on average? What does the distribution look like?\n",
    "\n",
    "How would we answer those questions?\n",
    "\n",
    "Let's use... \n",
    "\n",
    "a ***for loop!***"
   ]
  },
  {
   "cell_type": "code",
   "execution_count": 18,
   "id": "41bf9dd3",
   "metadata": {
    "scrolled": true
   },
   "outputs": [],
   "source": [
    "nExperiments = 100  # how many times we'll do our little experiment\n",
    "nSamplesNeeded = np.zeros((nExperiments, 1))\n",
    "x, cutOff, = 0, 2\n",
    "\n",
    "for i in range(nExperiments) :\n",
    "    myCounter = 0\n",
    "    x = 0\n",
    "    while x < cutOff :\n",
    "        x = np.random.randn()\n",
    "        myCounter += 1\n",
    "    nSamplesNeeded[i, 0] = myCounter    \n",
    "    "
   ]
  },
  {
   "cell_type": "markdown",
   "id": "dda97622",
   "metadata": {},
   "source": [
    "That looks like a lot of code, but go through it carefully. All we have done is nest our `while` loop inside a `for` loop, so that we can do our \"How many times?\" experiment as often as we wish. On each pass through the `for` loop, we store the answer from a single experiment in the `i`th row of a numpy array!"
   ]
  },
  {
   "cell_type": "markdown",
   "id": "c52a5f35",
   "metadata": {},
   "source": [
    "Let's look at the number of tries it took on each experiment:"
   ]
  },
  {
   "cell_type": "code",
   "execution_count": 19,
   "id": "9dfe675a",
   "metadata": {},
   "outputs": [
    {
     "data": {
      "text/plain": [
       "[<matplotlib.lines.Line2D at 0x121ef1690>]"
      ]
     },
     "execution_count": 19,
     "metadata": {},
     "output_type": "execute_result"
    },
    {
     "data": {
      "image/png": "[encoded data removed]",
      "text/plain": [
       "<Figure size 640x480 with 1 Axes>"
      ]
     },
     "metadata": {},
     "output_type": "display_data"
    }
   ],
   "source": [
    "plt.plot(nSamplesNeeded, '.')"
   ]
  },
  {
   "cell_type": "markdown",
   "id": "1d2af9ac",
   "metadata": {},
   "source": [
    "$\\color{blue}{\\text{Complete the following exercise.}}$\n",
    "  \n",
    "  - Describe what the plot above shows. To do so, first describe the numbers in the `y` axis then those in the `x` axis, finally describe the function and the colors, what does this all mean?\n",
    "  \n",
    "  [Use the cell below to describe the plot]\n",
    "  "
   ]
  },
  {
   "cell_type": "markdown",
   "id": "aefd9252",
   "metadata": {},
   "source": []
  },
  {
   "cell_type": "markdown",
   "id": "36e06d8e",
   "metadata": {},
   "source": [
    "Okay, cool! So it looks like we usually get a \"big\" number in under 50 tries, but it occasionally takes a lot longer. Let's look at the distribution of these numbers!"
   ]
  },
  {
   "cell_type": "code",
   "execution_count": null,
   "id": "bad3d4d4",
   "metadata": {},
   "outputs": [],
   "source": [
    "import seaborn as sns  # for making a histogram/kde"
   ]
  },
  {
   "cell_type": "code",
   "execution_count": null,
   "id": "ed88b8b0",
   "metadata": {},
   "outputs": [],
   "source": [
    "sns.displot(nSamplesNeeded, kind='kde')"
   ]
  },
  {
   "cell_type": "markdown",
   "id": "5b31e868",
   "metadata": {},
   "source": [
    "Okay, I think that, while pretty, this plot is misleading. Can you see why?"
   ]
  },
  {
   "cell_type": "markdown",
   "id": "d8599876",
   "metadata": {},
   "source": [
    "$\\color{blue}{\\text{Complete the following exercise.}}$\n",
    "  \n",
    "  - Why might this *kernel density estimate* plot (a *continuous* version of a histogram) be misleading? Hint: look at the left side of the x-axis.\n",
    "  \n",
    "  [Use the cell below to answer]\n",
    "  "
   ]
  },
  {
   "cell_type": "markdown",
   "id": "4f6db5fa",
   "metadata": {},
   "source": []
  },
  {
   "cell_type": "markdown",
   "id": "c69e24cb",
   "metadata": {},
   "source": [
    "Let's do a plain old histogram."
   ]
  },
  {
   "cell_type": "code",
   "execution_count": null,
   "id": "2981c8e6",
   "metadata": {},
   "outputs": [],
   "source": [
    "sns.displot(nSamplesNeeded, kind='hist')"
   ]
  },
  {
   "cell_type": "markdown",
   "id": "8166fd30",
   "metadata": {},
   "source": [
    "Now this make more sense, because we can't have a negative number of tries! The histogram version also underscores the rarity of numbers above 100 a bit better."
   ]
  },
  {
   "cell_type": "markdown",
   "id": "b5445483",
   "metadata": {},
   "source": [
    "$\\color{blue}{\\text{Complete the following exercise.}}$\n",
    "  \n",
    "  - Describe what the plot above shows. To do so, first describe the numbers in the `y` axis then those in the `x` axis, finally describe the values in the plot, what does this all mean?\n",
    "  \n",
    "  [Use the cell below to describe the plot]\n",
    "  "
   ]
  },
  {
   "cell_type": "markdown",
   "id": "8eb3d59b",
   "metadata": {},
   "source": []
  },
  {
   "cell_type": "markdown",
   "id": "dc0d078d",
   "metadata": {},
   "source": [
    "---"
   ]
  },
  {
   "cell_type": "markdown",
   "id": "4335bd14",
   "metadata": {},
   "source": [
    "### Logic operators on NumPy arrays\n",
    "\n",
    "There are other types of operators that do not come standard with Python but that are part of other packages and need to be imported. These operators behave differently.\n",
    "\n",
    "When dealing with arrays, instead of individual numbers, things look slightly different. For example, if we wanted to perform a logical operation between two sets of numbers, e.g., two arrays, operators (`=`, `>`, etc) will work or not depending on whether the array sizes are compatible. \n",
    "\n",
    "Let's take a look at how we would perform comparisons and logical operations with NumPy arrays."
   ]
  },
  {
   "cell_type": "code",
   "execution_count": null,
   "id": "b8318324",
   "metadata": {},
   "outputs": [],
   "source": [
    "myRnds = np.random.randn(1, 5) # we create an array of random numbers\n",
    "myRnds"
   ]
  },
  {
   "cell_type": "markdown",
   "id": "4011cf27",
   "metadata": {},
   "source": [
    "Now, imagine we wanted to know whether each number stored in the Array `myRnds` is positive. "
   ]
  },
  {
   "cell_type": "code",
   "execution_count": null,
   "id": "bf372588",
   "metadata": {},
   "outputs": [],
   "source": [
    "myRnds > 0"
   ]
  },
  {
   "cell_type": "markdown",
   "id": "1a687367",
   "metadata": {},
   "source": [
    "Notice that this doesn't give us the *values*, just whether they are greater than 0 or not."
   ]
  },
  {
   "cell_type": "markdown",
   "id": "ea814953",
   "metadata": {},
   "source": [
    "If we wanted to find out whether **any** of the numbers in an array are positive, we would use the numpy array method `any`:"
   ]
  },
  {
   "cell_type": "code",
   "execution_count": null,
   "id": "97b190b4",
   "metadata": {},
   "outputs": [],
   "source": [
    "logical_array = (myRnds > 0)\n",
    "np.any(logical_array)"
   ]
  },
  {
   "cell_type": "markdown",
   "id": "3850275e",
   "metadata": {},
   "source": [
    "If we wanted to test whether all the values in an array are positive, we would use the method `all`. "
   ]
  },
  {
   "cell_type": "code",
   "execution_count": null,
   "id": "404039ee",
   "metadata": {},
   "outputs": [],
   "source": [
    "np.all(logical_array)"
   ]
  },
  {
   "cell_type": "markdown",
   "id": "2b64f0e3",
   "metadata": {},
   "source": [
    "Because both `all` and `any` apply to numpy arrays, they can also be called as methods of a NumPy Arrays. For example:"
   ]
  },
  {
   "cell_type": "code",
   "execution_count": null,
   "id": "a4a6853f",
   "metadata": {},
   "outputs": [],
   "source": [
    "logical_array.any()"
   ]
  },
  {
   "cell_type": "code",
   "execution_count": null,
   "id": "5e823fba",
   "metadata": {},
   "outputs": [],
   "source": [
    "logical_array.all()"
   ]
  },
  {
   "cell_type": "markdown",
   "id": "d73f38f0",
   "metadata": {},
   "source": [
    "Numpy arrays also allow comparing values element-wise. This means that we could compare each element of one array with the corresponding element of another array provide that the two arrays have the same size."
   ]
  },
  {
   "cell_type": "code",
   "execution_count": null,
   "id": "18e62be0",
   "metadata": {},
   "outputs": [],
   "source": [
    "gt = np.array([1, 2, 3]) > np.array([1, 4, 3])\n",
    "print(gt)"
   ]
  },
  {
   "cell_type": "markdown",
   "id": "e014c522",
   "metadata": {},
   "source": [
    "Compares 1 to 1, 2 to 4 and 3 to 3. This is called ***elementwise*** behavior."
   ]
  },
  {
   "cell_type": "markdown",
   "id": "126a7b42",
   "metadata": {},
   "source": [
    "We can also compare logical arrays using our `and`s and `or`s:"
   ]
  },
  {
   "cell_type": "code",
   "execution_count": null,
   "id": "4fc09ff0",
   "metadata": {},
   "outputs": [],
   "source": [
    "array_one = np.random.randn(1,5) > 0;\n",
    "array_two = np.random.randn(1,5) > 0;\n",
    "print(f\"array one: {array_one} \\narray two: {array_two}\")"
   ]
  },
  {
   "cell_type": "code",
   "execution_count": null,
   "id": "7f49eb0f",
   "metadata": {},
   "outputs": [],
   "source": [
    "array_one & array_two"
   ]
  },
  {
   "cell_type": "code",
   "execution_count": null,
   "id": "dbd06434",
   "metadata": {},
   "outputs": [],
   "source": [
    "array_one | array_two"
   ]
  },
  {
   "cell_type": "code",
   "execution_count": null,
   "id": "edb2af8b",
   "metadata": {},
   "outputs": [],
   "source": [
    "array_one ^ array_two"
   ]
  },
  {
   "cell_type": "markdown",
   "id": "9e8bf179",
   "metadata": {},
   "source": [
    "NumPy also provides functional versions of these."
   ]
  },
  {
   "cell_type": "code",
   "execution_count": null,
   "id": "81ba753e",
   "metadata": {},
   "outputs": [],
   "source": [
    "array_one = np.random.randn(1,5) > 0;\n",
    "array_two = np.random.randn(1,5) > 0;\n",
    "np.logical_and(array_one, array_two)"
   ]
  },
  {
   "cell_type": "code",
   "execution_count": null,
   "id": "71b175dd",
   "metadata": {},
   "outputs": [],
   "source": [
    "np.logical_or(array_one, array_two)"
   ]
  },
  {
   "cell_type": "markdown",
   "id": "5dcfaa97",
   "metadata": {},
   "source": [
    "Which you use is a matter of style, and which is more clear can be situationally dependent."
   ]
  },
  {
   "cell_type": "markdown",
   "id": "d73b393f",
   "metadata": {},
   "source": [
    "What happens if the two arrays have different size, though?"
   ]
  },
  {
   "cell_type": "code",
   "execution_count": null,
   "id": "14883fd6",
   "metadata": {},
   "outputs": [],
   "source": [
    "vector_one = np.random.randn(1,6) > 0;\n",
    "vector_two = np.random.randn(1,5) > 0;\n",
    "np.logical_and(vector_one, vector_two)"
   ]
  },
  {
   "cell_type": "markdown",
   "id": "5c670b0c",
   "metadata": {},
   "source": [
    "And, of course, a discussion of logical operators would not be complete without `not`:"
   ]
  },
  {
   "cell_type": "code",
   "execution_count": null,
   "id": "c046dd27",
   "metadata": {},
   "outputs": [],
   "source": [
    "np.logical_not(array_one)"
   ]
  },
  {
   "cell_type": "code",
   "execution_count": null,
   "id": "43f6f342",
   "metadata": {},
   "outputs": [],
   "source": [
    "~array_one"
   ]
  },
  {
   "cell_type": "markdown",
   "id": "e5834f59",
   "metadata": {},
   "source": [
    "$\\color{blue}{\\text{Complete the following exercise.}}$\n",
    "  \n",
    "  - Create an array of uniform random numbers with dimensions rows=1 and columns=8.\n",
    "  \n",
    "  [Use the cell below to write your code]\n",
    "  "
   ]
  },
  {
   "cell_type": "code",
   "execution_count": null,
   "id": "25a2ee41",
   "metadata": {},
   "outputs": [],
   "source": []
  },
  {
   "cell_type": "markdown",
   "id": "200db3fd",
   "metadata": {},
   "source": [
    "   - how many numbers were generated with a value larger than 0.5?\n",
    "  \n",
    "  [Use the cell below to write your code]\n",
    "  "
   ]
  },
  {
   "cell_type": "markdown",
   "id": "64fce335",
   "metadata": {},
   "source": [
    "---"
   ]
  },
  {
   "cell_type": "markdown",
   "id": "4292b7f2",
   "metadata": {},
   "source": [
    "So in this tutorial we have shown how to organize and manipulate data using Python `numpy` `arrays`. \n",
    "\n",
    "We have also worked through the very important element of code called ***loops*** and how they apply to NumPy Arrays.\n",
    "\n",
    "The most frequently used loop is the `for` loop, which allows us to do a computation a number of times. It can be used to do things like crawl through the rows and columns of a numpy array. With a pair of nested `for` loops, we can even crawl through each cell of an array in either row-major or column-major order. We could even use a `for` loop to chew through a series of data files, etc.\n",
    "\n",
    "A `while` loop is used when we don't know ahead of time how many times we'll need to do the calculation. The while loop allows us to compute or look at thing as many times as necessary until some condition as met. We just have to be careful that we don't make a dreaded *infinite* loop (what sort of cut off would make the `while` loop above essentially infinite?)."
   ]
  },
  {
   "cell_type": "code",
   "execution_count": null,
   "id": "4e30277d",
   "metadata": {},
   "outputs": [],
   "source": []
  }
 ],
 "metadata": {
  "kernelspec": {
   "display_name": "Python 3 (ipykernel)",
   "language": "python",
   "name": "python3"
  },
  "language_info": {
   "codemirror_mode": {
    "name": "ipython",
    "version": 3
   },
   "file_extension": ".py",
   "mimetype": "text/x-python",
   "name": "python",
   "nbconvert_exporter": "python",
   "pygments_lexer": "ipython3",
   "version": "3.11.4"
  }
 },
 "nbformat": 4,
 "nbformat_minor": 5
}
